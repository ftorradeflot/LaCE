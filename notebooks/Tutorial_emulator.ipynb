{
 "cells": [
  {
   "cell_type": "code",
   "execution_count": null,
   "id": "dcd4e261-02e6-4dd0-80f3-4decc738c1ce",
   "metadata": {
    "scrolled": true
   },
   "outputs": [],
   "source": [
    "import os, sys\n",
    "import numpy as np\n",
    "\n",
    "\n",
    "from lace.emulator.nn_architecture import MDNemulator_polyfit\n",
    "from lace.emulator.nn_emulator import NNEmulator\n",
    "from lace.emulator.gp_emulator import GPEmulator\n",
    "from lace.emulator.emulator import P1D_emulator\n"
   ]
  },
  {
   "cell_type": "code",
   "execution_count": null,
   "id": "381390f9-fa9f-4920-aa78-708e7186b14d",
   "metadata": {},
   "outputs": [],
   "source": [
    "# our modules\n",
    "from lace.cosmo import fit_linP\n",
    "from lace.emulator import poly_p1d\n",
    "from lace.archive import pnd_archive\n",
    "from lace.archive import interface_archive"
   ]
  },
  {
   "cell_type": "code",
   "execution_count": null,
   "id": "94fcc325-822b-4fba-a94f-ce8558349aee",
   "metadata": {},
   "outputs": [],
   "source": [
    "emuparams = ['Delta2_p', 'n_p','mF', 'sigT_Mpc', 'gamma', 'kF_Mpc']"
   ]
  },
  {
   "cell_type": "markdown",
   "id": "5533bc70-cbd1-4dc6-95c1-9bf897ae6aa4",
   "metadata": {
    "tags": []
   },
   "source": [
    "# CREATE TRAINING AND TESTING ARCHIVE"
   ]
  },
  {
   "cell_type": "code",
   "execution_count": null,
   "id": "ec5a695e-566d-4d58-8fce-de9122626c23",
   "metadata": {},
   "outputs": [],
   "source": [
    "archive = pnd_archive.archivePND(sim_suite=\"Cabayol23\")\n",
    "archive.get_training_data()\n",
    "len(archive.training_data)"
   ]
  },
  {
   "cell_type": "code",
   "execution_count": null,
   "id": "5527d0a7-239a-46b1-9412-55ff5912a284",
   "metadata": {},
   "outputs": [],
   "source": [
    "archive_test = pnd_archive.archivePND(sim_suite=\"Cabayol23\", pick_sim='central')\n",
    "archive_test.get_testing_data()\n",
    "len(archive_test.testing_data)"
   ]
  },
  {
   "cell_type": "code",
   "execution_count": null,
   "id": "1f653fea-d9a4-40ba-931c-d0cd62ea0891",
   "metadata": {},
   "outputs": [],
   "source": [
    "kMpc = archive_test.testing_data[0]['k_Mpc'][1:43]"
   ]
  },
  {
   "cell_type": "markdown",
   "id": "24bb52bb-1bce-4bc9-80db-8fb8ec83af54",
   "metadata": {
    "tags": []
   },
   "source": [
    "## TRAIN NEURAL NETWORK EMULATOR  "
   ]
  },
  {
   "cell_type": "markdown",
   "id": "852c3200-8db2-4983-bd2a-d7916e8773f7",
   "metadata": {},
   "source": [
    "By default, the NNemulator is trained with the following parameters:ç\n",
    "- zmax=4.5\n",
    "- Nsim=30 \n",
    "- nepochs=100\n",
    "- step_size=75\n",
    "- kmax_Mpc=4\n",
    "- ndeg=5. For the extended version (kmax_Mpc=8), set to 7\n",
    "- postprocessing='768'. To train with the 1D post-processing change to '500'\n",
    "\n",
    "- initial_weights=True. Always starts from the same iniial parameters. These were selected randomly. Set to False if random initialization is required."
   ]
  },
  {
   "cell_type": "code",
   "execution_count": null,
   "id": "7e0b1aa8-0a6d-4fc5-8d31-25bb8754edd6",
   "metadata": {},
   "outputs": [],
   "source": [
    "emulator = NNEmulator(archive,emuparams,ndeg=5, save_path=None, nepochs=1)"
   ]
  },
  {
   "cell_type": "markdown",
   "id": "77628a97-3c40-4bef-9498-b9abd13cb818",
   "metadata": {},
   "source": [
    "## LOAD A NEURAL NETWORK EMULATOR"
   ]
  },
  {
   "cell_type": "code",
   "execution_count": null,
   "id": "80449ba2-298e-4470-b90f-f77c2c8a116e",
   "metadata": {},
   "outputs": [],
   "source": [
    "emulator = NNEmulator(archive,emuparams,ndeg=5, save_path=None, nepochs=1, model_path='NNmodels/NNEmulator_LaCEHC.pt', train=False)"
   ]
  },
  {
   "cell_type": "markdown",
   "id": "d6a28111-6b32-45cf-9fae-7f70aa2ce5db",
   "metadata": {},
   "source": [
    "## TEST NEURAL NETWORK EMULATOR"
   ]
  },
  {
   "cell_type": "code",
   "execution_count": null,
   "id": "d1374c31-e75e-4e6e-90b4-4f1552de739e",
   "metadata": {},
   "outputs": [],
   "source": [
    "p1d = emulator.emulate_p1d_Mpc(archive_test.testing_data[0],kMpc)"
   ]
  },
  {
   "cell_type": "markdown",
   "id": "ace75288-7cce-4400-8c13-c5478342af3e",
   "metadata": {
    "tags": []
   },
   "source": [
    "# Gaussian Process passing an archive"
   ]
  },
  {
   "cell_type": "markdown",
   "id": "ae4edd25-cd2c-4eda-92d4-a6f54043cc9c",
   "metadata": {},
   "source": [
    "- It is trained on 330 P1D. By default, it does not use optical-depth rescalings\n",
    "- The default options for $k$, $z$, and 'deg' are the same as for the NN emulator"
   ]
  },
  {
   "cell_type": "code",
   "execution_count": null,
   "id": "40c8afaa-2f42-473b-9716-850e1e34579a",
   "metadata": {},
   "outputs": [],
   "source": [
    "archive = pnd_archive.archivePND(sim_suite=\"Pedersen21\")\n",
    "archive.get_training_data()\n",
    "len(archive.training_data)"
   ]
  },
  {
   "cell_type": "code",
   "execution_count": null,
   "id": "a8b79b0b-a691-4e83-ac6c-4b6479949dab",
   "metadata": {},
   "outputs": [],
   "source": [
    "emulator = GPEmulator(archive=archive)"
   ]
  },
  {
   "cell_type": "code",
   "execution_count": null,
   "id": "71e658e0-028f-4923-8ee5-679915f921b1",
   "metadata": {},
   "outputs": [],
   "source": [
    "p1d = emulator.emulate_p1d_Mpc(archive_test.testing_data[0],kMpc)"
   ]
  },
  {
   "cell_type": "markdown",
   "id": "90a4d7e3-b0d9-4186-b2ca-ccfa13247c2b",
   "metadata": {},
   "source": [
    "# Gaussian Process without passing an archive"
   ]
  },
  {
   "cell_type": "code",
   "execution_count": null,
   "id": "80384581-708d-414e-9cda-8b09e7d15cc9",
   "metadata": {},
   "outputs": [],
   "source": [
    "emulator = GPEmulator(training_set='Pedersen21')"
   ]
  },
  {
   "cell_type": "code",
   "execution_count": null,
   "id": "90012e78-5a37-4a78-a95d-48d7a0b3ba70",
   "metadata": {},
   "outputs": [],
   "source": [
    "p1d = emulator.emulate_p1d_Mpc(archive_test.testing_data[0],kMpc)"
   ]
  },
  {
   "cell_type": "markdown",
   "id": "3c2ad1ce-82ec-4b3b-a4b6-812049d08c85",
   "metadata": {},
   "source": [
    "## LOAD EMULATOR IN PEDERSEN+21"
   ]
  },
  {
   "cell_type": "code",
   "execution_count": null,
   "id": "e4566bdc-0804-429b-bdea-a59ec19e688c",
   "metadata": {},
   "outputs": [],
   "source": [
    "emulator = P1D_emulator(emulator_label='Pedersen21')"
   ]
  },
  {
   "cell_type": "code",
   "execution_count": null,
   "id": "fd488738-bada-4dff-92a7-8967b86ab87e",
   "metadata": {},
   "outputs": [],
   "source": [
    "emulator = P1D_emulator(emulator_label='Pedersen23')"
   ]
  },
  {
   "cell_type": "markdown",
   "id": "0ed05990-95ee-4c54-8917-2b2a65b273d3",
   "metadata": {},
   "source": [
    "## LOAD EMULATOR IN CABAYOL+23"
   ]
  },
  {
   "cell_type": "markdown",
   "id": "a24676c0-f281-42b4-ad03-4b3f3cda895b",
   "metadata": {},
   "source": [
    "### train the emulator"
   ]
  },
  {
   "cell_type": "code",
   "execution_count": null,
   "id": "7df184e3-ac65-43ef-a322-64f4a54a6b30",
   "metadata": {},
   "outputs": [],
   "source": [
    "emulator = P1D_emulator(emulator_label='Cabayol23',nepochs_nn=1)"
   ]
  },
  {
   "cell_type": "markdown",
   "id": "1d05ca5d-70a0-4d79-bca0-f4412558a261",
   "metadata": {},
   "source": [
    "### Load trained emulator"
   ]
  },
  {
   "cell_type": "code",
   "execution_count": null,
   "id": "eca825cc-1134-4f57-81aa-c9f32fe90774",
   "metadata": {},
   "outputs": [],
   "source": [
    "emulator = P1D_emulator(emulator_label='Cabayol23', train=False, model_path='NNmodels/NNEmulator_LaCEHC.pt')"
   ]
  },
  {
   "cell_type": "markdown",
   "id": "478bad45-f81a-45fe-8f8a-9e6b78b34412",
   "metadata": {},
   "source": [
    "## LOAD CUSTOM EMULATOR"
   ]
  },
  {
   "cell_type": "code",
   "execution_count": null,
   "id": "9a83d6f2-1f7f-4479-80a4-b4f8d58c8d06",
   "metadata": {},
   "outputs": [],
   "source": [
    "# This is supposed to fail\n",
    "emulator = P1D_emulator()"
   ]
  },
  {
   "cell_type": "code",
   "execution_count": null,
   "id": "3f1632a8-fd2f-4cc2-9aee-c19a4df285ab",
   "metadata": {},
   "outputs": [],
   "source": [
    "emulator = P1D_emulator(archive=archive, emu_algorithm='NN')"
   ]
  },
  {
   "cell_type": "code",
   "execution_count": null,
   "id": "e67fd658-0d17-48e5-84d0-19274430d052",
   "metadata": {},
   "outputs": [],
   "source": [
    "emulator = P1D_emulator(archive=archive, emu_algorithm='GP')"
   ]
  },
  {
   "cell_type": "code",
   "execution_count": null,
   "id": "fe5b208c-84d4-4e80-9210-b0a5c1efd485",
   "metadata": {},
   "outputs": [],
   "source": []
  }
 ],
 "metadata": {
  "kernelspec": {
   "display_name": "Python 3 (ipykernel)",
   "language": "python",
   "name": "python3"
  },
  "language_info": {
   "codemirror_mode": {
    "name": "ipython",
    "version": 3
   },
   "file_extension": ".py",
   "mimetype": "text/x-python",
   "name": "python",
   "nbconvert_exporter": "python",
   "pygments_lexer": "ipython3",
   "version": "3.9.13"
  }
 },
 "nbformat": 4,
 "nbformat_minor": 5
}
