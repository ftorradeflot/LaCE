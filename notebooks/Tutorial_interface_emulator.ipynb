{
 "cells": [
  {
   "cell_type": "code",
   "execution_count": 1,
   "id": "dcd4e261-02e6-4dd0-80f3-4decc738c1ce",
   "metadata": {
    "scrolled": true
   },
   "outputs": [
    {
     "name": "stderr",
     "output_type": "stream",
     "text": [
      "/data/astro/scratch/lcabayol/anaconda3/envs/DESIenv6/lib/python3.10/site-packages/tqdm/auto.py:21: TqdmWarning: IProgress not found. Please update jupyter and ipywidgets. See https://ipywidgets.readthedocs.io/en/stable/user_install.html\n",
      "  from .autonotebook import tqdm as notebook_tqdm\n"
     ]
    }
   ],
   "source": [
    "import os, sys\n",
    "import numpy as np\n",
    "\n",
    "\n",
    "from lace.emulator.nn_architecture import MDNemulator_polyfit\n",
    "from lace.emulator.nn_emulator import NNEmulator\n",
    "from lace.emulator.gp_emulator import GPEmulator\n",
    "from lace.emulator.emulator import P1D_emulator\n"
   ]
  },
  {
   "cell_type": "code",
   "execution_count": 2,
   "id": "381390f9-fa9f-4920-aa78-708e7186b14d",
   "metadata": {},
   "outputs": [],
   "source": [
    "# our modules\n",
    "from lace.cosmo import fit_linP\n",
    "from lace.emulator import poly_p1d\n",
    "from lace.archive import pnd_archive\n",
    "from lace.archive import interface_archive"
   ]
  },
  {
   "cell_type": "code",
   "execution_count": 3,
   "id": "94fcc325-822b-4fba-a94f-ce8558349aee",
   "metadata": {},
   "outputs": [],
   "source": [
    "emuparams = ['Delta2_p', 'n_p','mF', 'sigT_Mpc', 'gamma', 'kF_Mpc']"
   ]
  },
  {
   "cell_type": "markdown",
   "id": "5533bc70-cbd1-4dc6-95c1-9bf897ae6aa4",
   "metadata": {
    "tags": []
   },
   "source": [
    "# CREATE TRAINING AND TESTING ARCHIVE"
   ]
  },
  {
   "cell_type": "code",
   "execution_count": 4,
   "id": "ec5a695e-566d-4d58-8fce-de9122626c23",
   "metadata": {},
   "outputs": [
    {
     "data": {
      "text/plain": [
       "330"
      ]
     },
     "execution_count": 4,
     "metadata": {},
     "output_type": "execute_result"
    }
   ],
   "source": [
    "archive = pnd_archive.archivePND(sim_suite=\"Pedersen21\")\n",
    "archive.get_training_data()\n",
    "len(archive.training_data)"
   ]
  },
  {
   "cell_type": "code",
   "execution_count": 5,
   "id": "5527d0a7-239a-46b1-9412-55ff5912a284",
   "metadata": {},
   "outputs": [
    {
     "data": {
      "text/plain": [
       "11"
      ]
     },
     "execution_count": 5,
     "metadata": {},
     "output_type": "execute_result"
    }
   ],
   "source": [
    "archive_test = pnd_archive.archivePND(sim_suite=\"Cabayol23\", pick_sim='central')\n",
    "archive_test.get_testing_data()\n",
    "len(archive_test.testing_data)"
   ]
  },
  {
   "cell_type": "code",
   "execution_count": 6,
   "id": "1f653fea-d9a4-40ba-931c-d0cd62ea0891",
   "metadata": {},
   "outputs": [],
   "source": [
    "kMpc = archive_test.testing_data[0]['k_Mpc'][1:43]"
   ]
  },
  {
   "cell_type": "markdown",
   "id": "e344ceb4-a8c4-4f17-a271-42b76b3d5c02",
   "metadata": {},
   "source": [
    "# CREATE EMULATOR OBJECT"
   ]
  },
  {
   "cell_type": "markdown",
   "id": "bf209ef8-913f-472e-ae8a-c18becdb092e",
   "metadata": {},
   "source": [
    "### The class default arguments are:"
   ]
  },
  {
   "cell_type": "markdown",
   "id": "173c5c18-516e-4dcf-a472-e47b394619bf",
   "metadata": {},
   "source": [
    "- archive=None archive with the training data\n",
    "- emulator_label=None Pre-defined emulator's labels (Pedersen21, Pedersen23, Cabayol23)\n",
    "- emu_algorithm=None Emulator algorithm (NN, GP)\n",
    "- sims_label=None Simulations suite to use (Gadget, Nyx)\n",
    "- zmax=4.5 Max redshfit of the training sample\n",
    "- kmax_Mpc=4 Max scale of the emulator\n",
    "- ndeg=5 Polynomial order of the polynomial fit if emu_type =='polyfit'\n",
    "- train=True (whether to train or not the NN emulator. If train is False, a model_path must be provided\n",
    "- emu_type=\"polyfit\" (k_bin, polyfit)\n",
    "- model_path=None (path to pretrained NN emulator)\n",
    "- save_path=None (path to save the trained NN emulator)\n",
    "- nepochs_nn=100  (Number of training iterations of the NN emulator) "
   ]
  },
  {
   "cell_type": "markdown",
   "id": "3b9c9443-73e1-4c21-90f6-7551871c37cd",
   "metadata": {},
   "source": [
    "### If an emulator label is provided, the interface selects the emulator parameters and  archive from that emulator option"
   ]
  },
  {
   "cell_type": "markdown",
   "id": "9e47ba16-b892-427e-83c9-de9c0a414614",
   "metadata": {},
   "source": [
    "### If the emulator label is not provided, an archive, a emu_algorithm and a sims_label must be given"
   ]
  },
  {
   "cell_type": "markdown",
   "id": "455bd1c1-54ca-4614-a638-8cb26473050d",
   "metadata": {},
   "source": [
    "## GP emulators from Pedersen+21 and Pedersen+23"
   ]
  },
  {
   "cell_type": "code",
   "execution_count": 15,
   "id": "4148cde1-9090-4c4e-b13c-553114c488ab",
   "metadata": {},
   "outputs": [],
   "source": [
    "kMpc = archive_test.testing_data[0]['k_Mpc'][1:33]"
   ]
  },
  {
   "cell_type": "code",
   "execution_count": 11,
   "id": "d030805a-bb9b-44c7-b668-56a4a31635ce",
   "metadata": {},
   "outputs": [
    {
     "name": "stdout",
     "output_type": "stream",
     "text": [
      "Selected pre-tuned emulator\n",
      "Select emulator used in Pedersen et al. 2021\n",
      "Gaussian Process emulator predicting the P1D at each k-bin. It goes to scales of 3Mpc^{-1} and z<4.5. The parameters passed to the emulator will be overwritten to match these ones.\n",
      "Training GP on 330 points\n",
      "GPs optimised in 2.71 seconds\n"
     ]
    }
   ],
   "source": [
    "emulator = P1D_emulator(emulator_label='Pedersen21')"
   ]
  },
  {
   "cell_type": "code",
   "execution_count": 16,
   "id": "99329148-a324-4ece-b4f8-61f58d9be878",
   "metadata": {},
   "outputs": [],
   "source": [
    "p1d = emulator.emulate_p1d_Mpc(archive_test.testing_data[0],kMpc)"
   ]
  },
  {
   "cell_type": "markdown",
   "id": "9b3c1d45-dd6b-4cd5-b704-40dc592bd039",
   "metadata": {},
   "source": [
    "–-----------------------------------"
   ]
  },
  {
   "cell_type": "code",
   "execution_count": 20,
   "id": "878406c3-025d-4b51-bbf3-6b60a5b0f049",
   "metadata": {},
   "outputs": [],
   "source": [
    "kMpc = archive_test.testing_data[0]['k_Mpc'][1:43]"
   ]
  },
  {
   "cell_type": "code",
   "execution_count": 18,
   "id": "9c1715ad-5f01-4f4f-a1a6-fda817c59e8a",
   "metadata": {},
   "outputs": [
    {
     "name": "stdout",
     "output_type": "stream",
     "text": [
      "Selected pre-tuned emulator\n",
      "Select emulator used in Pedersen et al. 2023\n",
      "Gaussian Process emulator predicting the optimal P1Dfitting coefficients to a 5th degree polynomial. It goes to scales of 4Mpc^{-1} and z<4.5. The parameters passed to the emulator will be overwritten to match these ones\n",
      "Training GP on 330 points\n",
      "GPs optimised in 0.93 seconds\n"
     ]
    }
   ],
   "source": [
    "emulator = P1D_emulator(emulator_label='Pedersen23')"
   ]
  },
  {
   "cell_type": "code",
   "execution_count": 21,
   "id": "4006bc62-54d2-49f0-b139-95859d133a30",
   "metadata": {},
   "outputs": [
    {
     "name": "stdout",
     "output_type": "stream",
     "text": [
      "3.909537524467298\n",
      "2.978695256736989\n",
      "Warning! Your requested k bins are higher than the training values.\n"
     ]
    }
   ],
   "source": [
    "p1d = emulator.emulate_p1d_Mpc(archive_test.testing_data[0],kMpc)"
   ]
  },
  {
   "cell_type": "markdown",
   "id": "05453c41-12c2-47f7-b0c4-75aa31096676",
   "metadata": {
    "tags": []
   },
   "source": [
    "### NN emulator from Cabayol-Garcia+23"
   ]
  },
  {
   "cell_type": "code",
   "execution_count": 7,
   "id": "22f5bb3e-a77f-4e46-8043-5d5f9fd28fb3",
   "metadata": {},
   "outputs": [
    {
     "name": "stdout",
     "output_type": "stream",
     "text": [
      "Selected pre-tuned emulator\n",
      "Select emulator used in Cabayol-Garcia et al. 2023\n",
      "Neural network emulator predicting the optimal P1D fitting coefficients to a 5th degree polynomial. It goes to scales of 4Mpc^{-1} and z<4.5. The parameters passed to the emulator will be overwritten to match these ones\n",
      "Train emulator\n",
      "Selected pre-tuned training set\n",
      "start the training of the emulator\n",
      "Training network on 9900\n",
      "Emualtor trained in 0.9109842777252197 seconds\n"
     ]
    }
   ],
   "source": [
    "emulator = P1D_emulator(emulator_label='Cabayol23')"
   ]
  },
  {
   "cell_type": "code",
   "execution_count": 8,
   "id": "86d09b4c-d82b-4e06-9fb4-886c7be79b1f",
   "metadata": {},
   "outputs": [],
   "source": [
    "p1d = emulator.emulate_p1d_Mpc(archive_test.testing_data[0],kMpc, return_covar=True)"
   ]
  },
  {
   "cell_type": "markdown",
   "id": "efce4620-e690-4a64-aaf8-b1ae03455e97",
   "metadata": {},
   "source": [
    "### Custom emulators"
   ]
  },
  {
   "cell_type": "code",
   "execution_count": 9,
   "id": "d6d14dc0-9474-419b-9ac3-af8d9f628e64",
   "metadata": {},
   "outputs": [
    {
     "name": "stdout",
     "output_type": "stream",
     "text": [
      "Selected custome emulator\n",
      "Training GP on 330 points\n",
      "GPs optimised in 1.07 seconds\n"
     ]
    }
   ],
   "source": [
    "emulator = P1D_emulator(archive, emu_algorithm='GP',sims_label='Gadget')"
   ]
  },
  {
   "cell_type": "code",
   "execution_count": 7,
   "id": "372b670a-7269-488a-bdb6-149290142a81",
   "metadata": {},
   "outputs": [
    {
     "name": "stdout",
     "output_type": "stream",
     "text": [
      "Selected custome emulator\n",
      "Selected custome training set\n",
      "Loading emulator using a specific archive\n",
      "start the training of the emulator\n",
      "Training network on 330\n",
      "Emualtor trained in 3.018554449081421 seconds\n"
     ]
    }
   ],
   "source": [
    "emulator = P1D_emulator(archive, emu_algorithm='NN',sims_label='Gadget')"
   ]
  },
  {
   "cell_type": "code",
   "execution_count": 8,
   "id": "64f8efbd-d980-4132-9b37-96ad38361cd9",
   "metadata": {},
   "outputs": [
    {
     "name": "stdout",
     "output_type": "stream",
     "text": [
      "Selected custome emulator\n"
     ]
    },
    {
     "ename": "Exception",
     "evalue": "Work in progress",
     "output_type": "error",
     "traceback": [
      "\u001b[0;31m---------------------------------------------------------------------------\u001b[0m",
      "\u001b[0;31mException\u001b[0m                                 Traceback (most recent call last)",
      "Cell \u001b[0;32mIn[8], line 1\u001b[0m\n\u001b[0;32m----> 1\u001b[0m emulator \u001b[38;5;241m=\u001b[39m \u001b[43mP1D_emulator\u001b[49m\u001b[43m(\u001b[49m\u001b[43marchive\u001b[49m\u001b[43m,\u001b[49m\u001b[43m \u001b[49m\u001b[43memu_algorithm\u001b[49m\u001b[38;5;241;43m=\u001b[39;49m\u001b[38;5;124;43m'\u001b[39;49m\u001b[38;5;124;43mNN\u001b[39;49m\u001b[38;5;124;43m'\u001b[39;49m\u001b[43m,\u001b[49m\u001b[43msims_label\u001b[49m\u001b[38;5;241;43m=\u001b[39;49m\u001b[38;5;124;43m'\u001b[39;49m\u001b[38;5;124;43mNyx\u001b[39;49m\u001b[38;5;124;43m'\u001b[39;49m\u001b[43m)\u001b[49m\n",
      "File \u001b[0;32m/data/astro/scratch/lcabayol/anaconda3/envs/DESIenv6/lib/python3.10/site-packages/lace-1.0.1-py3.10.egg/lace/emulator/emulator.py:196\u001b[0m, in \u001b[0;36mP1D_emulator.__init__\u001b[0;34m(self, archive, emulator_label, emu_algorithm, sims_label, zmax, kmax_Mpc, ndeg, train, emu_type, model_path, save_path, nepochs_nn)\u001b[0m\n\u001b[1;32m    194\u001b[0m \u001b[38;5;28;01melif\u001b[39;00m (emu_algorithm \u001b[38;5;241m==\u001b[39m \u001b[38;5;124m\"\u001b[39m\u001b[38;5;124mNN\u001b[39m\u001b[38;5;124m\"\u001b[39m) \u001b[38;5;241m&\u001b[39m (sims_label \u001b[38;5;241m==\u001b[39m \u001b[38;5;124m\"\u001b[39m\u001b[38;5;124mNyx\u001b[39m\u001b[38;5;124m\"\u001b[39m):\n\u001b[1;32m    195\u001b[0m     emuparams \u001b[38;5;241m=\u001b[39m [\u001b[38;5;124m\"\u001b[39m\u001b[38;5;124mDelta2_p\u001b[39m\u001b[38;5;124m\"\u001b[39m, \u001b[38;5;124m\"\u001b[39m\u001b[38;5;124mn_p\u001b[39m\u001b[38;5;124m\"\u001b[39m, \u001b[38;5;124m\"\u001b[39m\u001b[38;5;124mmF\u001b[39m\u001b[38;5;124m\"\u001b[39m, \u001b[38;5;124m\"\u001b[39m\u001b[38;5;124msigT_Mpc\u001b[39m\u001b[38;5;124m\"\u001b[39m, \u001b[38;5;124m\"\u001b[39m\u001b[38;5;124mgamma\u001b[39m\u001b[38;5;124m\"\u001b[39m, \u001b[38;5;124m\"\u001b[39m\u001b[38;5;124mlambda_P\u001b[39m\u001b[38;5;124m\"\u001b[39m]\n\u001b[0;32m--> 196\u001b[0m     \u001b[38;5;28;01mraise\u001b[39;00m \u001b[38;5;167;01mException\u001b[39;00m(\u001b[38;5;124m\"\u001b[39m\u001b[38;5;124mWork in progress\u001b[39m\u001b[38;5;124m\"\u001b[39m)\n\u001b[1;32m    198\u001b[0m \u001b[38;5;28;01melif\u001b[39;00m (emu_algorithm \u001b[38;5;241m==\u001b[39m \u001b[38;5;124m\"\u001b[39m\u001b[38;5;124mGP\u001b[39m\u001b[38;5;124m\"\u001b[39m) \u001b[38;5;241m&\u001b[39m (sims_label \u001b[38;5;241m==\u001b[39m \u001b[38;5;124m\"\u001b[39m\u001b[38;5;124mGadget\u001b[39m\u001b[38;5;124m\"\u001b[39m):\n\u001b[1;32m    199\u001b[0m     emuparams \u001b[38;5;241m=\u001b[39m [\u001b[38;5;124m\"\u001b[39m\u001b[38;5;124mDelta2_p\u001b[39m\u001b[38;5;124m\"\u001b[39m, \u001b[38;5;124m\"\u001b[39m\u001b[38;5;124mn_p\u001b[39m\u001b[38;5;124m\"\u001b[39m, \u001b[38;5;124m\"\u001b[39m\u001b[38;5;124mmF\u001b[39m\u001b[38;5;124m\"\u001b[39m, \u001b[38;5;124m\"\u001b[39m\u001b[38;5;124msigT_Mpc\u001b[39m\u001b[38;5;124m\"\u001b[39m, \u001b[38;5;124m\"\u001b[39m\u001b[38;5;124mgamma\u001b[39m\u001b[38;5;124m\"\u001b[39m, \u001b[38;5;124m\"\u001b[39m\u001b[38;5;124mkF_Mpc\u001b[39m\u001b[38;5;124m\"\u001b[39m]\n",
      "\u001b[0;31mException\u001b[0m: Work in progress"
     ]
    }
   ],
   "source": [
    "emulator = P1D_emulator(archive, emu_algorithm='NN',sims_label='Nyx')"
   ]
  },
  {
   "cell_type": "markdown",
   "id": "1c18a4bb-f307-4e69-92e3-8efa753cc108",
   "metadata": {},
   "source": [
    "## The neural network emulator supposrts running both on GPU and CPU. No argument is needed, f the gpu is available, it will use it. Otherwise, the emulator trains on CPUs"
   ]
  },
  {
   "cell_type": "markdown",
   "id": "ab34dfb5-9ae8-4168-84cf-7b717d7fa811",
   "metadata": {},
   "source": [
    "## The neural network emulator uses the following default parameters:"
   ]
  },
  {
   "cell_type": "markdown",
   "id": "852c3200-8db2-4983-bd2a-d7916e8773f7",
   "metadata": {},
   "source": [
    "- paramList=['Delta2_p', 'n_p','mF', 'sigT_Mpc', 'gamma', 'kF_Mpc']\n",
    "- nepochs=100\n",
    "- step_size=75\n",
    "- kmax_Mpc=4\n",
    "- ndeg=5. For the extended version (kmax_Mpc=8), set to 7\n",
    "- initial_weights=True. Always starts from the same iniial parameters. These were selected randomly. Set to False if random initialization is required."
   ]
  },
  {
   "cell_type": "markdown",
   "id": "675bf7ec-04d5-41dd-8ab0-c6536a324877",
   "metadata": {},
   "source": [
    "## Additioanlly, we must provide either an archive "
   ]
  },
  {
   "cell_type": "code",
   "execution_count": 7,
   "id": "7e0b1aa8-0a6d-4fc5-8d31-25bb8754edd6",
   "metadata": {},
   "outputs": [
    {
     "name": "stdout",
     "output_type": "stream",
     "text": [
      "Selected custome training set\n",
      "Loading emulator using a specific archive\n",
      "start the training of the emulator\n",
      "Training network on 9900\n",
      "Emualtor trained in 0.9789836406707764 seconds\n"
     ]
    }
   ],
   "source": [
    "emulator = NNEmulator(archive=archive, nepochs=1)"
   ]
  },
  {
   "cell_type": "markdown",
   "id": "6b491c3e-18e9-493d-9c7d-306331c9246d",
   "metadata": {},
   "source": [
    "## or a training_set label"
   ]
  },
  {
   "cell_type": "code",
   "execution_count": 8,
   "id": "c20233ab-81c9-4939-9d1e-eb17e74a83a9",
   "metadata": {},
   "outputs": [
    {
     "ename": "TypeError",
     "evalue": "NNEmulator.__init__() got an unexpected keyword argument 'sim_suite'",
     "output_type": "error",
     "traceback": [
      "\u001b[0;31m---------------------------------------------------------------------------\u001b[0m",
      "\u001b[0;31mTypeError\u001b[0m                                 Traceback (most recent call last)",
      "Cell \u001b[0;32mIn[19], line 1\u001b[0m\n\u001b[0;32m----> 1\u001b[0m emulator \u001b[38;5;241m=\u001b[39m \u001b[43mNNEmulator\u001b[49m\u001b[43m(\u001b[49m\u001b[43msim_suite\u001b[49m\u001b[38;5;241;43m=\u001b[39;49m\u001b[38;5;124;43m'\u001b[39;49m\u001b[38;5;124;43mCabayol23\u001b[39;49m\u001b[38;5;124;43m'\u001b[39;49m\u001b[43m,\u001b[49m\u001b[43m \u001b[49m\u001b[43mnepochs\u001b[49m\u001b[38;5;241;43m=\u001b[39;49m\u001b[38;5;241;43m1\u001b[39;49m\u001b[43m)\u001b[49m\n",
      "\u001b[0;31mTypeError\u001b[0m: NNEmulator.__init__() got an unexpected keyword argument 'sim_suite'"
     ]
    }
   ],
   "source": [
    "emulator = NNEmulator(training_set='Cabayol23', nepochs=1)"
   ]
  },
  {
   "cell_type": "markdown",
   "id": "77628a97-3c40-4bef-9498-b9abd13cb818",
   "metadata": {},
   "source": [
    "## We can also load a pre-trained emulator, providing the path of the saved network parameters:"
   ]
  },
  {
   "cell_type": "code",
   "execution_count": 12,
   "id": "80449ba2-298e-4470-b90f-f77c2c8a116e",
   "metadata": {},
   "outputs": [
    {
     "name": "stdout",
     "output_type": "stream",
     "text": [
      "Selected custome training set\n",
      "Loading emulator using a specific archive\n",
      "Model loaded. No training needed\n"
     ]
    }
   ],
   "source": [
    "emulator = NNEmulator(archive=archive,nepochs=1, model_path='NNmodels/NNEmulator_LaCEHC.pt', train=False)"
   ]
  },
  {
   "cell_type": "markdown",
   "id": "c2bc59fa-09a8-433f-b67c-07ab0f755cac",
   "metadata": {},
   "source": [
    "### Please ensure that the emulator parameters used during training are the same as the ones you are using for testing when loading a pre-trained emulator.\n"
   ]
  },
  {
   "cell_type": "markdown",
   "id": "d6a28111-6b32-45cf-9fae-7f70aa2ce5db",
   "metadata": {},
   "source": [
    "## Once the emulator is trained, to emulate the p1d given some model parameters:"
   ]
  },
  {
   "cell_type": "code",
   "execution_count": 15,
   "id": "d1374c31-e75e-4e6e-90b4-4f1552de739e",
   "metadata": {},
   "outputs": [],
   "source": [
    "p1d = emulator.emulate_p1d_Mpc(archive_test.testing_data[0],kMpc)"
   ]
  },
  {
   "cell_type": "markdown",
   "id": "4dbac6c6-4dd3-4bbe-a5e9-ba6a62020032",
   "metadata": {},
   "source": [
    "## The Gaussian process emulator uses the following default parameters:"
   ]
  },
  {
   "cell_type": "markdown",
   "id": "ace75288-7cce-4400-8c13-c5478342af3e",
   "metadata": {
    "tags": []
   },
   "source": [
    "- paramList=['Delta2_p', 'n_p','mF', 'sigT_Mpc', 'gamma', 'kF_Mpc']\n",
    "- kmax_Mpc=10\n",
    "- ndeg=4"
   ]
  },
  {
   "cell_type": "code",
   "execution_count": 20,
   "id": "4d1f0777-2175-4f90-8485-67bbaa1992db",
   "metadata": {},
   "outputs": [
    {
     "data": {
      "text/plain": [
       "330"
      ]
     },
     "execution_count": 20,
     "metadata": {},
     "output_type": "execute_result"
    }
   ],
   "source": [
    "archive = pnd_archive.archivePND(sim_suite=\"Pedersen21\")\n",
    "archive.get_training_data()\n",
    "len(archive.training_data)"
   ]
  },
  {
   "cell_type": "markdown",
   "id": "4567cffd-be0b-468c-9cc3-d5354c091e98",
   "metadata": {},
   "source": [
    "## We must also provide either a training_set label"
   ]
  },
  {
   "cell_type": "code",
   "execution_count": 21,
   "id": "80ca12bd-fef6-4d39-b9f4-2bd00c61ef11",
   "metadata": {},
   "outputs": [
    {
     "name": "stderr",
     "output_type": "stream",
     "text": [
      " /data/astro/scratch/lcabayol/anaconda3/envs/DESIenv6/lib/python3.10/site-packages/paramz/parameterized.py:61: RuntimeWarning:Don't forget to initialize by self.initialize_parameter()!\n"
     ]
    },
    {
     "name": "stdout",
     "output_type": "stream",
     "text": [
      "Training GP on 330 points\n",
      "GPs optimised in 1.44 seconds\n"
     ]
    }
   ],
   "source": [
    "emulator = GPEmulator(training_set='Pedersen21')"
   ]
  },
  {
   "cell_type": "markdown",
   "id": "44f6fd00-e644-4722-a478-64f21846ae66",
   "metadata": {},
   "source": [
    "## or an archive"
   ]
  },
  {
   "cell_type": "code",
   "execution_count": 22,
   "id": "a8b79b0b-a691-4e83-ac6c-4b6479949dab",
   "metadata": {},
   "outputs": [
    {
     "name": "stdout",
     "output_type": "stream",
     "text": [
      "Training GP on 330 points\n",
      "GPs optimised in 1.09 seconds\n"
     ]
    }
   ],
   "source": [
    "emulator = GPEmulator(archive=archive)"
   ]
  },
  {
   "cell_type": "markdown",
   "id": "9357a15f-a883-4f61-97ae-938080e8896f",
   "metadata": {},
   "source": [
    "## Once the emulator is trained, to emulate the p1d given some model parameters:"
   ]
  },
  {
   "cell_type": "code",
   "execution_count": null,
   "id": "71e658e0-028f-4923-8ee5-679915f921b1",
   "metadata": {},
   "outputs": [],
   "source": [
    "p1d = emulator.emulate_p1d_Mpc(archive_test.testing_data[0],kMpc)"
   ]
  },
  {
   "cell_type": "code",
   "execution_count": 9,
   "id": "80384581-708d-414e-9cda-8b09e7d15cc9",
   "metadata": {},
   "outputs": [
    {
     "name": "stderr",
     "output_type": "stream",
     "text": [
      " /data/astro/scratch/lcabayol/anaconda3/envs/DESIenv6/lib/python3.10/site-packages/paramz/parameterized.py:61: RuntimeWarning:Don't forget to initialize by self.initialize_parameter()!\n"
     ]
    },
    {
     "name": "stdout",
     "output_type": "stream",
     "text": [
      "Training GP on 330 points\n",
      "GPs optimised in 0.82 seconds\n"
     ]
    }
   ],
   "source": [
    "emulator = GPEmulator(training_set='Pedersen21')"
   ]
  },
  {
   "cell_type": "code",
   "execution_count": 10,
   "id": "90012e78-5a37-4a78-a95d-48d7a0b3ba70",
   "metadata": {},
   "outputs": [],
   "source": [
    "p1d = emulator.emulate_p1d_Mpc(archive_test.testing_data[0],kMpc)"
   ]
  },
  {
   "cell_type": "markdown",
   "id": "3c2ad1ce-82ec-4b3b-a4b6-812049d08c85",
   "metadata": {},
   "source": [
    "## LOAD TRAINED NEURAL NETWORK EMULATOR "
   ]
  },
  {
   "cell_type": "code",
   "execution_count": 7,
   "id": "26f63467-a6b1-4f3e-9a59-5aac574cddcf",
   "metadata": {},
   "outputs": [
    {
     "name": "stdout",
     "output_type": "stream",
     "text": [
      "Selected custome emulator\n",
      "Selected custome training set\n",
      "Loading emulator using a specific archive\n",
      "Model loaded. No training needed\n"
     ]
    }
   ],
   "source": [
    "emulator = P1D_emulator(archive, emu_algorithm='NN',sims_label='Gadget',model_path='NNmodels/NNEmulator_LaCEHC.pt', train=False)"
   ]
  },
  {
   "cell_type": "code",
   "execution_count": 8,
   "id": "6ce44ed5-bf3e-43cc-aa24-a0536bb89f67",
   "metadata": {},
   "outputs": [],
   "source": [
    "p1d = emulator.emulate_p1d_Mpc(archive_test.testing_data[0],kMpc)"
   ]
  },
  {
   "cell_type": "markdown",
   "id": "a24676c0-f281-42b4-ad03-4b3f3cda895b",
   "metadata": {},
   "source": [
    "### train the emulator"
   ]
  },
  {
   "cell_type": "code",
   "execution_count": null,
   "id": "7df184e3-ac65-43ef-a322-64f4a54a6b30",
   "metadata": {},
   "outputs": [],
   "source": [
    "emulator = P1D_emulator(emulator_label='Cabayol23',nepochs_nn=1)"
   ]
  },
  {
   "cell_type": "markdown",
   "id": "1d05ca5d-70a0-4d79-bca0-f4412558a261",
   "metadata": {},
   "source": [
    "### Load trained emulator"
   ]
  },
  {
   "cell_type": "code",
   "execution_count": null,
   "id": "eca825cc-1134-4f57-81aa-c9f32fe90774",
   "metadata": {},
   "outputs": [],
   "source": [
    "emulator = P1D_emulator(emulator_label='Cabayol23', train=False, model_path='NNmodels/NNEmulator_LaCEHC.pt')"
   ]
  },
  {
   "cell_type": "code",
   "execution_count": null,
   "id": "9a83d6f2-1f7f-4479-80a4-b4f8d58c8d06",
   "metadata": {},
   "outputs": [],
   "source": [
    "# This is supposed to fail\n",
    "emulator = P1D_emulator()"
   ]
  },
  {
   "cell_type": "code",
   "execution_count": null,
   "id": "3f1632a8-fd2f-4cc2-9aee-c19a4df285ab",
   "metadata": {},
   "outputs": [],
   "source": [
    "emulator = P1D_emulator(archive=archive, emu_algorithm='NN')"
   ]
  },
  {
   "cell_type": "code",
   "execution_count": null,
   "id": "e67fd658-0d17-48e5-84d0-19274430d052",
   "metadata": {},
   "outputs": [],
   "source": [
    "emulator = P1D_emulator(archive=archive, emu_algorithm='GP')"
   ]
  },
  {
   "cell_type": "code",
   "execution_count": null,
   "id": "fe5b208c-84d4-4e80-9210-b0a5c1efd485",
   "metadata": {},
   "outputs": [],
   "source": []
  }
 ],
 "metadata": {
  "kernelspec": {
   "display_name": "DESIenv6",
   "language": "python",
   "name": "desienv6"
  },
  "language_info": {
   "codemirror_mode": {
    "name": "ipython",
    "version": 3
   },
   "file_extension": ".py",
   "mimetype": "text/x-python",
   "name": "python",
   "nbconvert_exporter": "python",
   "pygments_lexer": "ipython3",
   "version": "3.10.9"
  }
 },
 "nbformat": 4,
 "nbformat_minor": 5
}
