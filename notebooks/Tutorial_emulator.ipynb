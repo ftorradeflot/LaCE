{
 "cells": [
  {
   "cell_type": "code",
   "execution_count": 2,
   "id": "f038e1e1-66d8-4a0e-ac37-aa1d6ba9ee7f",
   "metadata": {},
   "outputs": [
    {
     "name": "stdout",
     "output_type": "stream",
     "text": [
      "/home/jchaves/Proyectos/projects/lya/LaCE/\n"
     ]
    }
   ],
   "source": [
    "import os, sys\n",
    "import numpy as np\n",
    "env_var = os.environ\n",
    "\n",
    "def ls_level(folder, nlevels):\n",
    "    for ii in range(nlevels):\n",
    "        folder = os.path.dirname(folder)\n",
    "    folder += \"/\"\n",
    "    return folder\n",
    "\n",
    "path_program = ls_level(os.getcwd(), 1)\n",
    "print(path_program)\n",
    "sys.path.append(path_program)\n",
    "os.environ[\"LACE_REPO\"] = ls_level(os.getcwd(), 2) + 'LaCE'\n",
    "os.environ[\"LACE_MANAGER_REPO\"] = ls_level(os.getcwd(), 2) + 'LaCE_manager'\n",
    "\n",
    "# os.environ[\"LACE_REPO\"] = \"/nfs/pic.es/user/l/lcabayol/DESI/LaCE\"\n",
    "# os.environ[\"LACE_MANAGER_REPO\"] = \"/nfs/pic.es/user/l/lcabayol/DESI/LaCE_manager\""
   ]
  },
  {
   "cell_type": "code",
   "execution_count": 3,
   "id": "dcd4e261-02e6-4dd0-80f3-4decc738c1ce",
   "metadata": {},
   "outputs": [],
   "source": [
    "from lace.emulator.nn_architecture import MDNemulator_polyfit\n",
    "from lace.emulator.nn_emulator import NNEmulator\n",
    "from lace.emulator.gp_emulator import GPEmulator\n",
    "\n",
    "from lace.emulator.emulator import P1D_emulator\n",
    "\n",
    "from lace.emulator import pnd_archive"
   ]
  },
  {
   "cell_type": "code",
   "execution_count": 4,
   "id": "381390f9-fa9f-4920-aa78-708e7186b14d",
   "metadata": {},
   "outputs": [],
   "source": [
    "# our modules\n",
    "from lace.cosmo import fit_linP\n",
    "from lace.emulator import poly_p1d\n",
    "from lace.archive import pnd_archive\n",
    "from lace.archive import interface_archive"
   ]
  },
  {
   "cell_type": "code",
   "execution_count": 5,
   "id": "94fcc325-822b-4fba-a94f-ce8558349aee",
   "metadata": {},
   "outputs": [],
   "source": [
    "emuparams = ['Delta2_p', 'n_p','mF', 'sigT_Mpc', 'gamma', 'kF_Mpc']"
   ]
  },
  {
   "cell_type": "markdown",
   "id": "5533bc70-cbd1-4dc6-95c1-9bf897ae6aa4",
   "metadata": {
    "tags": []
   },
   "source": [
    "# CREATE TRAINING AND TESTING ARCHIVE"
   ]
  },
  {
   "cell_type": "code",
   "execution_count": 6,
   "id": "ec5a695e-566d-4d58-8fce-de9122626c23",
   "metadata": {},
   "outputs": [
    {
     "data": {
      "text/plain": [
       "9900"
      ]
     },
     "execution_count": 6,
     "metadata": {},
     "output_type": "execute_result"
    }
   ],
   "source": [
    "archive = pnd_archive.archivePND(sim_suite=\"Cabayol23\")\n",
    "archive.get_training_data()\n",
    "len(archive.training_data)"
   ]
  },
  {
   "cell_type": "code",
   "execution_count": 7,
   "id": "5527d0a7-239a-46b1-9412-55ff5912a284",
   "metadata": {},
   "outputs": [
    {
     "data": {
      "text/plain": [
       "11"
      ]
     },
     "execution_count": 7,
     "metadata": {},
     "output_type": "execute_result"
    }
   ],
   "source": [
    "archive_test = pnd_archive.archivePND(sim_suite=\"Cabayol23\", pick_sim='central')\n",
    "archive_test.get_testing_data()\n",
    "len(archive_test.testing_data)"
   ]
  },
  {
   "cell_type": "markdown",
   "id": "24bb52bb-1bce-4bc9-80db-8fb8ec83af54",
   "metadata": {
    "tags": []
   },
   "source": [
    "## TRAIN NEURAL NETWORK EMULATOR  "
   ]
  },
  {
   "cell_type": "markdown",
   "id": "852c3200-8db2-4983-bd2a-d7916e8773f7",
   "metadata": {},
   "source": [
    "By default, the NNemulator is trained with the following parameters:ç\n",
    "- zmax=4.5\n",
    "- Nsim=30 \n",
    "- nepochs=100\n",
    "- step_size=75\n",
    "- kmax_Mpc=4\n",
    "- ndeg=5. For the extended version (kmax_Mpc=8), set to 7\n",
    "- postprocessing='768'. To train with the 1D post-processing change to '500'\n",
    "\n",
    "- initial_weights=True. Always starts from the same iniial parameters. These were selected randomly. Set to False if random initialization is required."
   ]
  },
  {
   "cell_type": "code",
   "execution_count": 8,
   "id": "7e0b1aa8-0a6d-4fc5-8d31-25bb8754edd6",
   "metadata": {},
   "outputs": [
    {
     "name": "stdout",
     "output_type": "stream",
     "text": [
      "start the training of the emulator\n",
      "Training network on 9900\n",
      "Emualtor trained in 0.42965149879455566 seconds\n"
     ]
    }
   ],
   "source": [
    "emulator = NNEmulator(archive,emuparams,ndeg=5, save_path=None, nepochs=1)"
   ]
  },
  {
   "cell_type": "markdown",
   "id": "77628a97-3c40-4bef-9498-b9abd13cb818",
   "metadata": {},
   "source": [
    "## LOAD A NEURAL NETWORK EMULATOR"
   ]
  },
  {
   "cell_type": "code",
   "execution_count": 9,
   "id": "80449ba2-298e-4470-b90f-f77c2c8a116e",
   "metadata": {},
   "outputs": [
    {
     "name": "stdout",
     "output_type": "stream",
     "text": [
      "Model loaded. No training needed\n"
     ]
    }
   ],
   "source": [
    "emulator = NNEmulator(archive,emuparams,ndeg=5, save_path=None, nepochs=1, model_path='NNmodels/NNEmulator_LaCEHC.pt', train=False)"
   ]
  },
  {
   "cell_type": "markdown",
   "id": "d6a28111-6b32-45cf-9fae-7f70aa2ce5db",
   "metadata": {},
   "source": [
    "## TEST NEURAL NETWORK EMULATOR"
   ]
  },
  {
   "cell_type": "code",
   "execution_count": 10,
   "id": "d1374c31-e75e-4e6e-90b4-4f1552de739e",
   "metadata": {},
   "outputs": [],
   "source": [
    "p1d, p1derr=emulator.emulate_p1d_Mpc(archive_test.testing_data[0])"
   ]
  },
  {
   "cell_type": "markdown",
   "id": "ace75288-7cce-4400-8c13-c5478342af3e",
   "metadata": {
    "tags": []
   },
   "source": [
    "# Gaussian Process passing an archive"
   ]
  },
  {
   "cell_type": "markdown",
   "id": "ae4edd25-cd2c-4eda-92d4-a6f54043cc9c",
   "metadata": {},
   "source": [
    "- It is trained on 330 P1D. By default, it does not use optical-depth rescalings\n",
    "- The default options for $k$, $z$, and 'deg' are the same as for the NN emulator"
   ]
  },
  {
   "cell_type": "code",
   "execution_count": 11,
   "id": "40c8afaa-2f42-473b-9716-850e1e34579a",
   "metadata": {},
   "outputs": [
    {
     "data": {
      "text/plain": [
       "330"
      ]
     },
     "execution_count": 11,
     "metadata": {},
     "output_type": "execute_result"
    }
   ],
   "source": [
    "archive = pnd_archive.archivePND(sim_suite=\"Pedersen21\")\n",
    "archive.get_training_data()\n",
    "len(archive.training_data)"
   ]
  },
  {
   "cell_type": "code",
   "execution_count": 12,
   "id": "a8b79b0b-a691-4e83-ac6c-4b6479949dab",
   "metadata": {},
   "outputs": [
    {
     "name": "stderr",
     "output_type": "stream",
     "text": [
      " /home/jchaves/miniconda3/envs/general/lib/python3.9/site-packages/paramz/parameterized.py:61: RuntimeWarning:Don't forget to initialize by self.initialize_parameter()!\n"
     ]
    },
    {
     "name": "stdout",
     "output_type": "stream",
     "text": [
      "Training GP on 330 points\n",
      "GPs optimised in 0.43 seconds\n"
     ]
    }
   ],
   "source": [
    "emulator = GPEmulator(passarchive=archive)"
   ]
  },
  {
   "cell_type": "code",
   "execution_count": 13,
   "id": "b00bdbc0-db39-4257-9b9c-a1f5967e7509",
   "metadata": {},
   "outputs": [],
   "source": [
    "kMpc = archive_test.testing_data[0]['k_Mpc'][1:43]"
   ]
  },
  {
   "cell_type": "code",
   "execution_count": 14,
   "id": "71e658e0-028f-4923-8ee5-679915f921b1",
   "metadata": {},
   "outputs": [],
   "source": [
    "p1d = emulator.emulate_p1d_Mpc(archive_test.testing_data[0],kMpc)"
   ]
  },
  {
   "cell_type": "markdown",
   "id": "90a4d7e3-b0d9-4186-b2ca-ccfa13247c2b",
   "metadata": {},
   "source": [
    "# Gaussian Process without passing an archive"
   ]
  },
  {
   "cell_type": "code",
   "execution_count": 16,
   "id": "80384581-708d-414e-9cda-8b09e7d15cc9",
   "metadata": {},
   "outputs": [
    {
     "name": "stdout",
     "output_type": "stream",
     "text": [
      "Training GP on 330 points\n",
      "GPs optimised in 0.54 seconds\n"
     ]
    }
   ],
   "source": [
    "emulator = GPEmulator()"
   ]
  },
  {
   "cell_type": "code",
   "execution_count": 17,
   "id": "90012e78-5a37-4a78-a95d-48d7a0b3ba70",
   "metadata": {},
   "outputs": [],
   "source": [
    "p1d = emulator.emulate_p1d_Mpc(archive_test.testing_data[0],kMpc)"
   ]
  },
  {
   "cell_type": "markdown",
   "id": "5114e03b-6195-43dd-a2cf-6ff28a55042b",
   "metadata": {},
   "source": [
    "# MODULE COMBIING NN AND GP EMULATORS"
   ]
  },
  {
   "cell_type": "markdown",
   "id": "4f537344-22d3-4c21-8b90-d49cc8b325de",
   "metadata": {
    "jupyter": {
     "source_hidden": true
    },
    "tags": []
   },
   "source": [
    "def P1D_emulator(archive=None, emu_algorithm=None, archive_label = 'Gadget', emulator_label=None, zmax=4.5, kmax_Mpc=4, ndeg=5, train=True, emu_type='polyfit', model_path=None, save_path=None, nepochs_nn=100):\n",
    "    \n",
    "    \n",
    "    \n",
    "    if emulator_label=='Pedersen21':\n",
    "        print('Select emulator used in Pedersen et al. 2021')\n",
    "        emuparams = ['Delta2_p', 'n_p', 'mF', 'sigT_Mpc', 'gamma', 'kF_Mpc']\n",
    "        archive = pnd_archive.archivePND(sim_suite=\"Pedersen21\")\n",
    "        archive.get_training_data()\n",
    "        \n",
    "        emulator = GPEmulator(passarchive=archive)\n",
    "        return emulator\n",
    "\n",
    "    elif emulator_label=='Cabayol23':\n",
    "        print('Select emulator used in Cabayol-Garcia et al. 2023')\n",
    "        emuparams = ['Delta2_p', 'n_p', 'mF', 'sigT_Mpc', 'gamma', 'kF_Mpc']\n",
    "        if train==True:\n",
    "            print('Train emulator')\n",
    "            archive = pnd_archive.archivePND(sim_suite=\"Cabayol23\")\n",
    "            archive.get_training_data()\n",
    "\n",
    "            emulator = NNEmulator(archive,emuparams, nepochs=nepochs_nn, step_size=75, kmax_Mpc=4, ndeg=5, Nsim=30, train=True)\n",
    "        if train==False:\n",
    "            if model_path==None:\n",
    "                raise ValueError('if train==False, a model path must be provided')\n",
    "            else:\n",
    "                print('Load pre-trained emulator')\n",
    "                archive = pnd_archive.archivePND(sim_suite=\"Cabayol23\")\n",
    "                archive.get_training_data()\n",
    "                emulator = NNEmulator(archive,emuparams, train=False,model_path=model_path)\n",
    "                \n",
    "    if emulator_label==None:\n",
    "        print('Select custom emulator')\n",
    "        if (archive==None)|(emu_algorithm==None):\n",
    "            raise ValueError('If an emulator label is not provided, the archive and emulator algorithm are required')\n",
    "\n",
    "        if (emu_algorithm=='NN')&(archive_label=='Gadget'):\n",
    "            emuparams = ['Delta2_p', 'n_p', 'mF', 'sigT_Mpc', 'gamma', 'kF_Mpc']\n",
    "            emulator = NNEmulator(archive,emuparams,ndeg=ndeg, zmax=zmax, kmax_Mpc=kmax_Mpc,save_path=save_path )\n",
    "\n",
    "        if (emu_algorithm=='NN')&(archive_label=='Nyx'):\n",
    "            emuparams = ['Delta2_p', 'n_p','mF', 'sigT_Mpc', 'gamma', 'lambda_P']\n",
    "            raise Exception('Work in progress')\n",
    "\n",
    "        if (emu_algorithm=='GP')&(archive_label=='Gadget'):\n",
    "            emuparams = ['Delta2_p', 'n_p', 'mF', 'sigT_Mpc', 'gamma', 'kF_Mpc']\n",
    "            emulator = GPEmulator(passarchive=archive)\n",
    "\n",
    "                \n",
    "    return emulator"
   ]
  },
  {
   "cell_type": "markdown",
   "id": "3c2ad1ce-82ec-4b3b-a4b6-812049d08c85",
   "metadata": {},
   "source": [
    "## LOAD EMULATOR IN PEDERSEN+21"
   ]
  },
  {
   "cell_type": "code",
   "execution_count": 18,
   "id": "e4566bdc-0804-429b-bdea-a59ec19e688c",
   "metadata": {},
   "outputs": [
    {
     "name": "stdout",
     "output_type": "stream",
     "text": [
      "Select emulator used in Pedersen et al. 2021\n",
      "Training GP on 330 points\n",
      "GPs optimised in 0.50 seconds\n"
     ]
    }
   ],
   "source": [
    "emulator = P1D_emulator(emulator_label='Pedersen21')"
   ]
  },
  {
   "cell_type": "markdown",
   "id": "0ed05990-95ee-4c54-8917-2b2a65b273d3",
   "metadata": {},
   "source": [
    "## LOAD EMULATOR IN CABAYOL+23"
   ]
  },
  {
   "cell_type": "markdown",
   "id": "a24676c0-f281-42b4-ad03-4b3f3cda895b",
   "metadata": {},
   "source": [
    "### train the emulator"
   ]
  },
  {
   "cell_type": "code",
   "execution_count": 19,
   "id": "7df184e3-ac65-43ef-a322-64f4a54a6b30",
   "metadata": {},
   "outputs": [
    {
     "name": "stdout",
     "output_type": "stream",
     "text": [
      "Select emulator used in Cabayol-Garcia et al. 2023\n",
      "Train emulator\n",
      "start the training of the emulator\n",
      "Training network on 9900\n",
      "Emualtor trained in 0.4126107692718506 seconds\n"
     ]
    }
   ],
   "source": [
    "emulator = P1D_emulator(emulator_label='Cabayol23',nepochs_nn=1)"
   ]
  },
  {
   "cell_type": "markdown",
   "id": "1d05ca5d-70a0-4d79-bca0-f4412558a261",
   "metadata": {},
   "source": [
    "### Load trained emulator"
   ]
  },
  {
   "cell_type": "code",
   "execution_count": 20,
   "id": "eca825cc-1134-4f57-81aa-c9f32fe90774",
   "metadata": {},
   "outputs": [
    {
     "name": "stdout",
     "output_type": "stream",
     "text": [
      "Select emulator used in Cabayol-Garcia et al. 2023\n",
      "Load pre-trained emulator\n",
      "Model loaded. No training needed\n"
     ]
    }
   ],
   "source": [
    "emulator = P1D_emulator(emulator_label='Cabayol23', train=False, model_path='NNmodels/NNEmulator_LaCEHC.pt')"
   ]
  },
  {
   "cell_type": "markdown",
   "id": "478bad45-f81a-45fe-8f8a-9e6b78b34412",
   "metadata": {},
   "source": [
    "## LOAD CUSTOM EMULATOR"
   ]
  },
  {
   "cell_type": "code",
   "execution_count": 21,
   "id": "9a83d6f2-1f7f-4479-80a4-b4f8d58c8d06",
   "metadata": {},
   "outputs": [
    {
     "name": "stdout",
     "output_type": "stream",
     "text": [
      "Select custom emulator\n"
     ]
    },
    {
     "ename": "ValueError",
     "evalue": "If an emulator label is not provided, the archive and emulator type are required",
     "output_type": "error",
     "traceback": [
      "\u001b[0;31m---------------------------------------------------------------------------\u001b[0m",
      "\u001b[0;31mValueError\u001b[0m                                Traceback (most recent call last)",
      "Input \u001b[0;32mIn [21]\u001b[0m, in \u001b[0;36m<cell line: 2>\u001b[0;34m()\u001b[0m\n\u001b[1;32m      1\u001b[0m \u001b[38;5;66;03m# This is supposed to fail\u001b[39;00m\n\u001b[0;32m----> 2\u001b[0m emulator \u001b[38;5;241m=\u001b[39m \u001b[43mP1D_emulator\u001b[49m\u001b[43m(\u001b[49m\u001b[43m)\u001b[49m\n",
      "File \u001b[0;32m~/miniconda3/envs/general/lib/python3.9/site-packages/lace-1.0.1-py3.9.egg/lace/emulator/emulator.py:59\u001b[0m, in \u001b[0;36mP1D_emulator\u001b[0;34m(archive, emu_algorithm, archive_label, emulator_label, zmax, kmax_Mpc, ndeg, train, emu_type, model_path, save_path, nepochs_nn)\u001b[0m\n\u001b[1;32m     57\u001b[0m \u001b[38;5;28mprint\u001b[39m(\u001b[38;5;124m'\u001b[39m\u001b[38;5;124mSelect custom emulator\u001b[39m\u001b[38;5;124m'\u001b[39m)\n\u001b[1;32m     58\u001b[0m \u001b[38;5;28;01mif\u001b[39;00m (archive\u001b[38;5;241m==\u001b[39m\u001b[38;5;28;01mNone\u001b[39;00m)\u001b[38;5;241m|\u001b[39m(emu_algorithm\u001b[38;5;241m==\u001b[39m\u001b[38;5;28;01mNone\u001b[39;00m):\n\u001b[0;32m---> 59\u001b[0m     \u001b[38;5;28;01mraise\u001b[39;00m \u001b[38;5;167;01mValueError\u001b[39;00m(\u001b[38;5;124m'\u001b[39m\u001b[38;5;124mIf an emulator label is not provided, the archive and emulator type are required\u001b[39m\u001b[38;5;124m'\u001b[39m)\n\u001b[1;32m     61\u001b[0m \u001b[38;5;28;01mif\u001b[39;00m (emu_algorithm\u001b[38;5;241m==\u001b[39m\u001b[38;5;124m'\u001b[39m\u001b[38;5;124mNN\u001b[39m\u001b[38;5;124m'\u001b[39m)\u001b[38;5;241m&\u001b[39m(archive_label\u001b[38;5;241m==\u001b[39m\u001b[38;5;124m'\u001b[39m\u001b[38;5;124mGadget\u001b[39m\u001b[38;5;124m'\u001b[39m):\n\u001b[1;32m     62\u001b[0m     emuparams \u001b[38;5;241m=\u001b[39m [\u001b[38;5;124m'\u001b[39m\u001b[38;5;124mDelta2_p\u001b[39m\u001b[38;5;124m'\u001b[39m, \u001b[38;5;124m'\u001b[39m\u001b[38;5;124mn_p\u001b[39m\u001b[38;5;124m'\u001b[39m, \u001b[38;5;124m'\u001b[39m\u001b[38;5;124mmF\u001b[39m\u001b[38;5;124m'\u001b[39m, \u001b[38;5;124m'\u001b[39m\u001b[38;5;124msigT_Mpc\u001b[39m\u001b[38;5;124m'\u001b[39m, \u001b[38;5;124m'\u001b[39m\u001b[38;5;124mgamma\u001b[39m\u001b[38;5;124m'\u001b[39m, \u001b[38;5;124m'\u001b[39m\u001b[38;5;124mkF_Mpc\u001b[39m\u001b[38;5;124m'\u001b[39m]\n",
      "\u001b[0;31mValueError\u001b[0m: If an emulator label is not provided, the archive and emulator type are required"
     ]
    }
   ],
   "source": [
    "# This is supposed to fail\n",
    "emulator = P1D_emulator()"
   ]
  },
  {
   "cell_type": "code",
   "execution_count": 22,
   "id": "3f1632a8-fd2f-4cc2-9aee-c19a4df285ab",
   "metadata": {},
   "outputs": [
    {
     "name": "stdout",
     "output_type": "stream",
     "text": [
      "Select custom emulator\n",
      "start the training of the emulator\n",
      "Training network on 330\n",
      "Emualtor trained in 1.5460195541381836 seconds\n"
     ]
    }
   ],
   "source": [
    "emulator = P1D_emulator(archive=archive, emu_algorithm='NN')"
   ]
  },
  {
   "cell_type": "code",
   "execution_count": 23,
   "id": "e67fd658-0d17-48e5-84d0-19274430d052",
   "metadata": {},
   "outputs": [
    {
     "name": "stdout",
     "output_type": "stream",
     "text": [
      "Select custom emulator\n",
      "Training GP on 330 points\n",
      "GPs optimised in 0.54 seconds\n"
     ]
    }
   ],
   "source": [
    "emulator = P1D_emulator(archive=archive, emu_algorithm='GP')"
   ]
  },
  {
   "cell_type": "code",
   "execution_count": null,
   "id": "fe5b208c-84d4-4e80-9210-b0a5c1efd485",
   "metadata": {},
   "outputs": [],
   "source": []
  }
 ],
 "metadata": {
  "kernelspec": {
   "display_name": "Python 3 (ipykernel)",
   "language": "python",
   "name": "python3"
  },
  "language_info": {
   "codemirror_mode": {
    "name": "ipython",
    "version": 3
   },
   "file_extension": ".py",
   "mimetype": "text/x-python",
   "name": "python",
   "nbconvert_exporter": "python",
   "pygments_lexer": "ipython3",
   "version": "3.9.13"
  }
 },
 "nbformat": 4,
 "nbformat_minor": 5
}
