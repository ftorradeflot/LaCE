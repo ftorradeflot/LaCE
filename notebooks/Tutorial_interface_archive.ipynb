{
 "cells": [
  {
   "cell_type": "markdown",
   "id": "80ebec1b",
   "metadata": {},
   "source": [
    "# Tutorial interface archive\n",
    "\n",
    "In this notebook, we explain how to use the archive interface to read simulations from different suites"
   ]
  },
  {
   "cell_type": "code",
   "execution_count": null,
   "id": "b231d47d",
   "metadata": {},
   "outputs": [],
   "source": [
    "from lace.archive import pnd_archive\n",
    "from lace.archive import interface_archive"
   ]
  },
  {
   "cell_type": "markdown",
   "id": "6f744aa0",
   "metadata": {},
   "source": [
    "### Read training data of Pedersen21 using LaCE bookeeping"
   ]
  },
  {
   "cell_type": "markdown",
   "id": "885215d1",
   "metadata": {},
   "source": [
    "#### Old way"
   ]
  },
  {
   "cell_type": "code",
   "execution_count": 2,
   "id": "876a8d18",
   "metadata": {},
   "outputs": [
    {
     "data": {
      "text/plain": [
       "330"
      ]
     },
     "execution_count": 2,
     "metadata": {},
     "output_type": "execute_result"
    }
   ],
   "source": [
    "# this function reads hypercube simulations from Pedersen21\n",
    "archive = pnd_archive.archivePND(sim_suite=\"Pedersen21\")\n",
    "# this function computes average over phases\n",
    "archive.average_over_samples('all')\n",
    "# archive.training_data is the training data of the Pedersen21 emulator\n",
    "training_data = []\n",
    "for ii in range(len(archive.data_av_all)):\n",
    "    if archive.data_av_all[ii][\"scale_tau\"] == 1:\n",
    "        training_data.append(archive.data_av_all[ii])\n",
    "setattr(archive, \"training_data\", training_data)\n",
    "len(archive.training_data)"
   ]
  },
  {
   "cell_type": "markdown",
   "id": "2b128baf",
   "metadata": {},
   "source": [
    "#### new way"
   ]
  },
  {
   "cell_type": "code",
   "execution_count": 5,
   "id": "dbfa523e",
   "metadata": {},
   "outputs": [
    {
     "data": {
      "text/plain": [
       "330"
      ]
     },
     "execution_count": 5,
     "metadata": {},
     "output_type": "execute_result"
    }
   ],
   "source": [
    "archive = pnd_archive.archivePND(sim_suite=\"Pedersen21\")\n",
    "archive.get_training_data()\n",
    "len(archive.training_data)"
   ]
  },
  {
   "cell_type": "markdown",
   "id": "546237d6",
   "metadata": {},
   "source": [
    "### Read simulation central from Cabayol23 using LaCE bookeeping\n",
    "For testing the emulator, get only measurements with tau_scaling=1"
   ]
  },
  {
   "cell_type": "markdown",
   "id": "7a2ad76d",
   "metadata": {},
   "source": [
    "#### Old way"
   ]
  },
  {
   "cell_type": "code",
   "execution_count": 7,
   "id": "1a932238",
   "metadata": {},
   "outputs": [
    {
     "data": {
      "text/plain": [
       "11"
      ]
     },
     "execution_count": 7,
     "metadata": {},
     "output_type": "execute_result"
    }
   ],
   "source": [
    "# this function reads hypercube simulations from Pedersen21\n",
    "archive = pnd_archive.archivePND(sim_suite=\"Cabayol23\", pick_sim='central')\n",
    "# this function computes average over phases\n",
    "archive.average_over_samples('all')\n",
    "# archive.training_data is the training data of the Pedersen21 emulator\n",
    "testing_data = []\n",
    "for ii in range(len(archive.data_av_all)):\n",
    "    if archive.data_av_all[ii][\"scale_tau\"] == 1:\n",
    "        testing_data.append(archive.data_av_all[ii])\n",
    "setattr(archive, \"testing_data\", testing_data)\n",
    "len(archive.testing_data)"
   ]
  },
  {
   "cell_type": "markdown",
   "id": "3cf4cdf8",
   "metadata": {},
   "source": [
    "#### New way"
   ]
  },
  {
   "cell_type": "code",
   "execution_count": 8,
   "id": "7a5e2a98",
   "metadata": {},
   "outputs": [
    {
     "data": {
      "text/plain": [
       "11"
      ]
     },
     "execution_count": 8,
     "metadata": {},
     "output_type": "execute_result"
    }
   ],
   "source": [
    "archive = pnd_archive.archivePND(sim_suite=\"Cabayol23\", pick_sim='central')\n",
    "archive.get_testing_data()\n",
    "len(archive.testing_data)"
   ]
  },
  {
   "cell_type": "markdown",
   "id": "c8dc3968",
   "metadata": {},
   "source": [
    "## Get both training and testing data using interface_archive\n",
    "Let's read Pedersen21 for training and central of Cabayol23 for testing"
   ]
  },
  {
   "cell_type": "code",
   "execution_count": 10,
   "id": "c75ff7d1",
   "metadata": {},
   "outputs": [
    {
     "name": "stdout",
     "output_type": "stream",
     "text": [
      "330\n",
      "11\n"
     ]
    }
   ],
   "source": [
    "archive_new = interface_archive.Archive(verbose=False)\n",
    "archive_new.get_training_data(sim_suite='Pedersen21')\n",
    "print(len(archive_new.training_data))\n",
    "archive_new.get_testing_data(sim_suite='Cabayol23', pick_sim='central')\n",
    "print(len(archive_new.testing_data))"
   ]
  },
  {
   "cell_type": "code",
   "execution_count": null,
   "id": "38614a24",
   "metadata": {},
   "outputs": [],
   "source": []
  }
 ],
 "metadata": {
  "kernelspec": {
   "display_name": "Python 3 (ipykernel)",
   "language": "python",
   "name": "python3"
  },
  "language_info": {
   "codemirror_mode": {
    "name": "ipython",
    "version": 3
   },
   "file_extension": ".py",
   "mimetype": "text/x-python",
   "name": "python",
   "nbconvert_exporter": "python",
   "pygments_lexer": "ipython3",
   "version": "3.9.13"
  }
 },
 "nbformat": 4,
 "nbformat_minor": 5
}
