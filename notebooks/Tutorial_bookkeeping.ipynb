{
 "cells": [
  {
   "cell_type": "markdown",
   "id": "80ebec1b",
   "metadata": {},
   "source": [
    "# Tutorial bookkeeping\n",
    "\n",
    "In this notebook, we explain how to use the LaCE bookkeeping"
   ]
  },
  {
   "cell_type": "markdown",
   "id": "6f744aa0",
   "metadata": {},
   "source": [
    "## Read data"
   ]
  },
  {
   "cell_type": "code",
   "execution_count": 1,
   "id": "876a8d18",
   "metadata": {},
   "outputs": [],
   "source": [
    "from lace.archive import pnd_archive"
   ]
  },
  {
   "cell_type": "markdown",
   "id": "6896d1ad",
   "metadata": {},
   "source": [
    "#### Read Cabayol23 post-processing"
   ]
  },
  {
   "cell_type": "code",
   "execution_count": 4,
   "id": "1efaac7e",
   "metadata": {},
   "outputs": [
    {
     "data": {
      "text/plain": [
       "9900"
      ]
     },
     "execution_count": 4,
     "metadata": {},
     "output_type": "execute_result"
    }
   ],
   "source": [
    "archive = pnd_archive.archivePND()\n",
    "len(archive.data)"
   ]
  },
  {
   "cell_type": "code",
   "execution_count": 5,
   "id": "6a78f694",
   "metadata": {},
   "outputs": [
    {
     "data": {
      "text/plain": [
       "9900"
      ]
     },
     "execution_count": 5,
     "metadata": {},
     "output_type": "execute_result"
    }
   ],
   "source": [
    "# nsim pairs * nphases * naxes * nscalings * nsnaps\n",
    "30 * 2 * 3 * 5 * 11"
   ]
  },
  {
   "cell_type": "markdown",
   "id": "9f1d0291",
   "metadata": {},
   "source": [
    "#### Read Cabayol23 post-processing while dropping a simulation"
   ]
  },
  {
   "cell_type": "code",
   "execution_count": 6,
   "id": "d166bd3a",
   "metadata": {},
   "outputs": [
    {
     "data": {
      "text/plain": [
       "9570"
      ]
     },
     "execution_count": 6,
     "metadata": {},
     "output_type": "execute_result"
    }
   ],
   "source": [
    "archive = pnd_archive.archivePND(drop_sim=10)\n",
    "len(archive.data)"
   ]
  },
  {
   "cell_type": "code",
   "execution_count": 7,
   "id": "74d2074d",
   "metadata": {},
   "outputs": [
    {
     "data": {
      "text/plain": [
       "9570"
      ]
     },
     "execution_count": 7,
     "metadata": {},
     "output_type": "execute_result"
    }
   ],
   "source": [
    "# nsim * nphases * naxes * nscalings * nsnaps\n",
    "29 * 2 * 3 * 5 * 11"
   ]
  },
  {
   "cell_type": "markdown",
   "id": "129492c0",
   "metadata": {},
   "source": [
    "#### Read growth simulation from new post-processing \n",
    "Also works for other especial simulations (see below)"
   ]
  },
  {
   "cell_type": "code",
   "execution_count": 8,
   "id": "0fe20b14",
   "metadata": {},
   "outputs": [
    {
     "data": {
      "text/plain": [
       "['growth', 'neutrinos', 'central', 'seed', 'curved', 'reionization', 'running']"
      ]
     },
     "execution_count": 8,
     "metadata": {},
     "output_type": "execute_result"
    }
   ],
   "source": [
    "_ = pnd_archive.get_sim_option_list(sim_suite=\"Cabayol23\")\n",
    "sim_option_list, sim_especial_list, sim_option_dict = _\n",
    "sim_especial_list"
   ]
  },
  {
   "cell_type": "code",
   "execution_count": 9,
   "id": "664ddc1c",
   "metadata": {},
   "outputs": [
    {
     "name": "stdout",
     "output_type": "stream",
     "text": [
      "growth 330\n",
      "Sim has neutrinos\n",
      "neutrinos 330\n",
      "central 330\n",
      "seed 330\n",
      "curved 330\n",
      "reionization 330\n",
      "running 330\n"
     ]
    }
   ],
   "source": [
    "for sim in sim_especial_list:\n",
    "    archive = pnd_archive.archivePND(pick_sim=sim)\n",
    "    print(sim, len(archive.data))"
   ]
  },
  {
   "cell_type": "code",
   "execution_count": 10,
   "id": "ed44b24a",
   "metadata": {},
   "outputs": [
    {
     "data": {
      "text/plain": [
       "330"
      ]
     },
     "execution_count": 10,
     "metadata": {},
     "output_type": "execute_result"
    }
   ],
   "source": [
    "# nsim * nphases * naxes * nscalings * nsnaps\n",
    "1 * 2 * 3 * 5 * 11"
   ]
  },
  {
   "cell_type": "markdown",
   "id": "53e02fc3",
   "metadata": {},
   "source": [
    "#### Read Pedersen+21 post-processing"
   ]
  },
  {
   "cell_type": "code",
   "execution_count": 11,
   "id": "150c27bb",
   "metadata": {},
   "outputs": [
    {
     "data": {
      "text/plain": [
       "1980"
      ]
     },
     "execution_count": 11,
     "metadata": {},
     "output_type": "execute_result"
    }
   ],
   "source": [
    "archive = pnd_archive.archivePND(sim_suite=\"Pedersen21\")\n",
    "len(archive.data)"
   ]
  },
  {
   "cell_type": "code",
   "execution_count": 12,
   "id": "14414114",
   "metadata": {},
   "outputs": [
    {
     "data": {
      "text/plain": [
       "1980"
      ]
     },
     "execution_count": 12,
     "metadata": {},
     "output_type": "execute_result"
    }
   ],
   "source": [
    "# nsim * nphases * naxes * nscalings * nsnaps\n",
    "30 * 2 * 1 * 3 * 11"
   ]
  },
  {
   "cell_type": "markdown",
   "id": "cf2a3feb",
   "metadata": {},
   "source": [
    "#### Read growth simulation from Pedersen+21 post-processing \n",
    "Also works for nu, central, or a number"
   ]
  },
  {
   "cell_type": "code",
   "execution_count": 13,
   "id": "8c0e3395",
   "metadata": {},
   "outputs": [
    {
     "data": {
      "text/plain": [
       "22"
      ]
     },
     "execution_count": 13,
     "metadata": {},
     "output_type": "execute_result"
    }
   ],
   "source": [
    "archive = pnd_archive.archivePND(sim_suite=\"Pedersen21\", pick_sim=\"growth\")\n",
    "len(archive.data)"
   ]
  },
  {
   "cell_type": "code",
   "execution_count": 14,
   "id": "55a56a3e",
   "metadata": {},
   "outputs": [
    {
     "data": {
      "text/plain": [
       "22"
      ]
     },
     "execution_count": 14,
     "metadata": {},
     "output_type": "execute_result"
    }
   ],
   "source": [
    "# nsim * nphases * naxes * nscalings * nsnaps\n",
    "1 * 2 * 1 * 1 * 11"
   ]
  },
  {
   "cell_type": "markdown",
   "id": "b5d4ccbf",
   "metadata": {},
   "source": [
    "## Compute averages"
   ]
  },
  {
   "cell_type": "markdown",
   "id": "df64d36f",
   "metadata": {},
   "source": [
    "#### Read Cabayol+23 post-processing, then compute different types of averages\n",
    "It also works for Pedersen+21"
   ]
  },
  {
   "cell_type": "code",
   "execution_count": 15,
   "id": "303f538e",
   "metadata": {},
   "outputs": [],
   "source": [
    "from lace.archive import pnd_archive"
   ]
  },
  {
   "cell_type": "code",
   "execution_count": 16,
   "id": "9248653a",
   "metadata": {},
   "outputs": [
    {
     "data": {
      "text/plain": [
       "9900"
      ]
     },
     "execution_count": 16,
     "metadata": {},
     "output_type": "execute_result"
    }
   ],
   "source": [
    "archive = pnd_archive.archivePND(sim_suite=\"Cabayol23\")\n",
    "len(archive.data)"
   ]
  },
  {
   "cell_type": "code",
   "execution_count": 17,
   "id": "4923c567",
   "metadata": {},
   "outputs": [
    {
     "data": {
      "text/plain": [
       "9900"
      ]
     },
     "execution_count": 17,
     "metadata": {},
     "output_type": "execute_result"
    }
   ],
   "source": [
    "# nsim * nphases * naxes * nscalings * nsnaps\n",
    "30 * 2 * 3 * 5 * 11"
   ]
  },
  {
   "cell_type": "code",
   "execution_count": 18,
   "id": "9f130120",
   "metadata": {},
   "outputs": [
    {
     "name": "stdout",
     "output_type": "stream",
     "text": [
      "4950 3300 1650\n"
     ]
    }
   ],
   "source": [
    "archive.average_over_samples(flag=\"all\")\n",
    "archive.average_over_samples(flag=\"phases\")\n",
    "archive.average_over_samples(flag=\"axes\")\n",
    "print(\n",
    "    len(archive.data_av_phases),\n",
    "    len(archive.data_av_axes),\n",
    "    len(archive.data_av_all),\n",
    ")"
   ]
  },
  {
   "cell_type": "code",
   "execution_count": 19,
   "id": "f1c73772",
   "metadata": {},
   "outputs": [
    {
     "name": "stdout",
     "output_type": "stream",
     "text": [
      "4950\n",
      "3300\n",
      "1650\n"
     ]
    }
   ],
   "source": [
    "# nsim * nphases * naxes * nscalings * nsnaps\n",
    "print(30 * 1 * 3 * 5 * 11)\n",
    "print(30 * 2 * 1 * 5 * 11)\n",
    "print(30 * 1 * 1 * 5 * 11)"
   ]
  },
  {
   "cell_type": "markdown",
   "id": "92fbab91",
   "metadata": {},
   "source": [
    "## Inputs for emulator"
   ]
  },
  {
   "cell_type": "code",
   "execution_count": 29,
   "id": "2ab795a8",
   "metadata": {},
   "outputs": [],
   "source": [
    "from lace.archive import pnd_archive, interface_archive"
   ]
  },
  {
   "cell_type": "markdown",
   "id": "74212bb1",
   "metadata": {},
   "source": [
    "#### Cabayol+23 (using pnd_archive)"
   ]
  },
  {
   "cell_type": "code",
   "execution_count": 28,
   "id": "b8cbd3c0",
   "metadata": {},
   "outputs": [
    {
     "name": "stdout",
     "output_type": "stream",
     "text": [
      "9900\n",
      "9900\n"
     ]
    }
   ],
   "source": [
    "# read post-processing\n",
    "archive = pnd_archive.archivePND(sim_suite=\"Cabayol23\")\n",
    "archive.get_training_data()\n",
    "print(len(archive.training_data))\n",
    "\n",
    "# nsim * nphases * naxes * nscalings * nsnaps\n",
    "n_av_phases = 30 * 1 * 3 * 5 * 11\n",
    "n_av_axes   = 30 * 2 * 1 * 5 * 11\n",
    "n_av_all    = 30 * 1 * 1 * 5 * 11\n",
    "print(n_av_phases + n_av_axes + n_av_all)"
   ]
  },
  {
   "cell_type": "markdown",
   "id": "c7595d24",
   "metadata": {},
   "source": [
    "#### Cabayol+23 (using interface_archive)"
   ]
  },
  {
   "cell_type": "code",
   "execution_count": 30,
   "id": "68392dea",
   "metadata": {},
   "outputs": [
    {
     "name": "stdout",
     "output_type": "stream",
     "text": [
      "The list of simulation suites available is: ['Pedersen21', 'Cabayol23', '768_768', 'Nyx']\n",
      "9900\n",
      "9900\n"
     ]
    }
   ],
   "source": [
    "archive = interface_archive.Archive()\n",
    "archive.get_training_data(training_set='Cabayol23')\n",
    "print(len(archive.training_data))\n",
    "\n",
    "# nsim * nphases * naxes * nscalings * nsnaps\n",
    "n_av_phases = 30 * 1 * 3 * 5 * 11\n",
    "n_av_axes   = 30 * 2 * 1 * 5 * 11\n",
    "n_av_all    = 30 * 1 * 1 * 5 * 11\n",
    "print(n_av_phases + n_av_axes + n_av_all)"
   ]
  },
  {
   "cell_type": "code",
   "execution_count": null,
   "id": "7ad892be",
   "metadata": {},
   "outputs": [],
   "source": []
  },
  {
   "cell_type": "markdown",
   "id": "de4adc99",
   "metadata": {},
   "source": [
    "## Understanding the data"
   ]
  },
  {
   "cell_type": "code",
   "execution_count": 32,
   "id": "6da3b3ff",
   "metadata": {},
   "outputs": [],
   "source": [
    "import numpy as np"
   ]
  },
  {
   "cell_type": "code",
   "execution_count": 31,
   "id": "901a8653",
   "metadata": {},
   "outputs": [
    {
     "data": {
      "text/plain": [
       "9900"
      ]
     },
     "execution_count": 31,
     "metadata": {},
     "output_type": "execute_result"
    }
   ],
   "source": [
    "archive = pnd_archive.archivePND(sim_suite='Cabayol23')\n",
    "len(archive.data)"
   ]
  },
  {
   "cell_type": "code",
   "execution_count": 33,
   "id": "3391f167",
   "metadata": {},
   "outputs": [
    {
     "data": {
      "text/plain": [
       "9900"
      ]
     },
     "execution_count": 33,
     "metadata": {},
     "output_type": "execute_result"
    }
   ],
   "source": [
    "# nsim * nphases * naxes * nscalings * nsnaps\n",
    "30 * 2 * 3 * 5 * 11"
   ]
  },
  {
   "cell_type": "markdown",
   "id": "57e19804",
   "metadata": {},
   "source": [
    "Simulation index"
   ]
  },
  {
   "cell_type": "code",
   "execution_count": 35,
   "id": "f5d6cd0c",
   "metadata": {},
   "outputs": [
    {
     "name": "stdout",
     "output_type": "stream",
     "text": [
      "[ 0.  1.  2.  3.  4.  5.  6.  7.  8.  9. 10. 11. 12. 13. 14. 15. 16. 17.\n",
      " 18. 19. 20. 21. 22. 23. 24. 25. 26. 27. 28. 29.]\n"
     ]
    },
    {
     "data": {
      "text/plain": [
       "0"
      ]
     },
     "execution_count": 35,
     "metadata": {},
     "output_type": "execute_result"
    }
   ],
   "source": [
    "print(np.unique(archive.ind_sim))\n",
    "archive.data[0]['ind_sim']"
   ]
  },
  {
   "cell_type": "markdown",
   "id": "9a35b7c1",
   "metadata": {},
   "source": [
    "Phase index"
   ]
  },
  {
   "cell_type": "code",
   "execution_count": 37,
   "id": "63691240",
   "metadata": {},
   "outputs": [
    {
     "name": "stdout",
     "output_type": "stream",
     "text": [
      "[0. 1.]\n"
     ]
    },
    {
     "data": {
      "text/plain": [
       "0"
      ]
     },
     "execution_count": 37,
     "metadata": {},
     "output_type": "execute_result"
    }
   ],
   "source": [
    "print(np.unique(archive.ind_phase))\n",
    "archive.data[0]['ind_phase']"
   ]
  },
  {
   "cell_type": "markdown",
   "id": "94ac7019",
   "metadata": {},
   "source": [
    "Snapshot index"
   ]
  },
  {
   "cell_type": "code",
   "execution_count": 52,
   "id": "9db6f23e",
   "metadata": {},
   "outputs": [
    {
     "name": "stdout",
     "output_type": "stream",
     "text": [
      "[ 0.  1.  2.  3.  4.  5.  6.  7.  8.  9. 10.]\n",
      "0 4.5\n",
      "1 4.25\n",
      "2 4.0\n",
      "3 3.75\n",
      "4 3.5\n",
      "5 3.25\n",
      "6 3.0\n",
      "7 2.75\n",
      "8 2.5\n",
      "9 2.25\n",
      "10 2.0\n"
     ]
    }
   ],
   "source": [
    "uni_z = np.unique(archive.ind_z)\n",
    "print(uni_z)\n",
    "for ii in range(0, len(uni_z)*30, 30):\n",
    "    print(archive.data[ii]['ind_z'], archive.data[ii]['z'])"
   ]
  },
  {
   "cell_type": "markdown",
   "id": "518a6147",
   "metadata": {},
   "source": [
    "Axis index"
   ]
  },
  {
   "cell_type": "code",
   "execution_count": 38,
   "id": "067e013f",
   "metadata": {},
   "outputs": [
    {
     "name": "stdout",
     "output_type": "stream",
     "text": [
      "[0. 1. 2.]\n"
     ]
    },
    {
     "data": {
      "text/plain": [
       "0"
      ]
     },
     "execution_count": 38,
     "metadata": {},
     "output_type": "execute_result"
    }
   ],
   "source": [
    "print(np.unique(archive.ind_axis))\n",
    "archive.data[0]['ind_axis']"
   ]
  },
  {
   "cell_type": "markdown",
   "id": "7a78e4d9",
   "metadata": {},
   "source": [
    "Scaling index"
   ]
  },
  {
   "cell_type": "code",
   "execution_count": 53,
   "id": "b718d7eb",
   "metadata": {},
   "outputs": [
    {
     "name": "stdout",
     "output_type": "stream",
     "text": [
      "[0. 1. 2. 3. 4.]\n",
      "0 0.9\n",
      "1 1.0\n",
      "2 1.1\n",
      "3 0.95\n",
      "4 1.05\n"
     ]
    }
   ],
   "source": [
    "uni_tau = np.unique(archive.ind_tau)\n",
    "print(uni_tau)\n",
    "for ii in range(len(uni_tau)):\n",
    "    print(archive.data[ii]['ind_tau'], archive.data[ii]['scale_tau'])"
   ]
  },
  {
   "cell_type": "code",
   "execution_count": null,
   "id": "051262a8",
   "metadata": {},
   "outputs": [],
   "source": []
  }
 ],
 "metadata": {
  "kernelspec": {
   "display_name": "Python 3 (ipykernel)",
   "language": "python",
   "name": "python3"
  },
  "language_info": {
   "codemirror_mode": {
    "name": "ipython",
    "version": 3
   },
   "file_extension": ".py",
   "mimetype": "text/x-python",
   "name": "python",
   "nbconvert_exporter": "python",
   "pygments_lexer": "ipython3",
   "version": "3.9.13"
  }
 },
 "nbformat": 4,
 "nbformat_minor": 5
}
