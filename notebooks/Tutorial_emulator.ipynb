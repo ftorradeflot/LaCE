{
 "cells": [
  {
   "cell_type": "markdown",
   "id": "b06f9fe0",
   "metadata": {},
   "source": [
    "# Tutorial explaining the use of different emulators, from different archives"
   ]
  },
  {
   "cell_type": "code",
   "execution_count": 1,
   "id": "dcd4e261-02e6-4dd0-80f3-4decc738c1ce",
   "metadata": {
    "scrolled": true
   },
   "outputs": [],
   "source": [
    "import os, sys\n",
    "import numpy as np\n",
    "from matplotlib import pyplot as plt"
   ]
  },
  {
   "cell_type": "code",
   "execution_count": 2,
   "id": "381390f9-fa9f-4920-aa78-708e7186b14d",
   "metadata": {},
   "outputs": [],
   "source": [
    "# our modules\n",
    "from lace.archive import gadget_archive\n",
    "from lace.archive import nyx_archive\n",
    "from lace.emulator.nn_emulator import NNEmulator\n",
    "from lace.emulator.gp_emulator import GPEmulator"
   ]
  },
  {
   "cell_type": "markdown",
   "id": "5533bc70-cbd1-4dc6-95c1-9bf897ae6aa4",
   "metadata": {
    "tags": []
   },
   "source": [
    "## CREATE TRAINING AND TESTING ARCHIVE (Gadget)"
   ]
  },
  {
   "cell_type": "code",
   "execution_count": 3,
   "id": "5e2ea1fe",
   "metadata": {},
   "outputs": [],
   "source": [
    "# list of emulator parameters used with Gadget sims\n",
    "emu_params=['Delta2_p', 'n_p','mF', 'sigT_Mpc', 'gamma', 'kF_Mpc']"
   ]
  },
  {
   "cell_type": "code",
   "execution_count": 4,
   "id": "ec5a695e-566d-4d58-8fce-de9122626c23",
   "metadata": {},
   "outputs": [
    {
     "data": {
      "text/plain": [
       "330"
      ]
     },
     "execution_count": 4,
     "metadata": {},
     "output_type": "execute_result"
    }
   ],
   "source": [
    "archive = gadget_archive.GadgetArchive(postproc=\"Pedersen21\")\n",
    "training_data=archive.get_training_data(emu_params=emu_params)\n",
    "len(training_data)"
   ]
  },
  {
   "cell_type": "code",
   "execution_count": 5,
   "id": "5527d0a7-239a-46b1-9412-55ff5912a284",
   "metadata": {},
   "outputs": [
    {
     "data": {
      "text/plain": [
       "11"
      ]
     },
     "execution_count": 5,
     "metadata": {},
     "output_type": "execute_result"
    }
   ],
   "source": [
    "testing_data = archive.get_testing_data(sim_label='mpg_central')\n",
    "len(testing_data)"
   ]
  },
  {
   "cell_type": "code",
   "execution_count": 6,
   "id": "1f653fea-d9a4-40ba-931c-d0cd62ea0891",
   "metadata": {},
   "outputs": [],
   "source": [
    "kMpc = testing_data[0]['k_Mpc']\n",
    "kMpc = kMpc[(kMpc>0) & (kMpc<4)]"
   ]
  },
  {
   "cell_type": "markdown",
   "id": "24bb52bb-1bce-4bc9-80db-8fb8ec83af54",
   "metadata": {
    "tags": []
   },
   "source": [
    "## NEURAL NETWORK EMULATOR  "
   ]
  },
  {
   "cell_type": "markdown",
   "id": "86c0875d",
   "metadata": {},
   "source": [
    "Some of the cells in this notebooks can be quite slow, so we only run them if thorough==True"
   ]
  },
  {
   "cell_type": "code",
   "execution_count": 7,
   "id": "16ab3896",
   "metadata": {},
   "outputs": [],
   "source": [
    "thorough=False"
   ]
  },
  {
   "cell_type": "markdown",
   "id": "675bf7ec-04d5-41dd-8ab0-c6536a324877",
   "metadata": {},
   "source": [
    "#### To create an emulator object, we can call NNemulator (to create a neural network emulator) or GP emulator (to create a Gaussian process emulator). "
   ]
  },
  {
   "cell_type": "markdown",
   "id": "f38908cb-f1af-487f-8230-91c637164b7e",
   "metadata": {},
   "source": [
    "### Example 1: We can train a custom emulator... "
   ]
  },
  {
   "cell_type": "markdown",
   "id": "024a3117-2391-41ab-b4ce-f40ba143e5e9",
   "metadata": {},
   "source": [
    "#### A. passing a custom archive:"
   ]
  },
  {
   "cell_type": "code",
   "execution_count": 8,
   "id": "82b9b815-32c9-4b86-a4bd-cb325e4204a7",
   "metadata": {},
   "outputs": [
    {
     "name": "stdout",
     "output_type": "stream",
     "text": [
      "Selected custom emulator\n",
      "Use custom archive provided by the user\n"
     ]
    }
   ],
   "source": [
    "emulator = NNEmulator(archive=archive, nepochs=10)"
   ]
  },
  {
   "cell_type": "code",
   "execution_count": 9,
   "id": "ac80f802",
   "metadata": {},
   "outputs": [
    {
     "data": {
      "text/plain": [
       "[<matplotlib.lines.Line2D at 0x7f9542edb220>]"
      ]
     },
     "execution_count": 9,
     "metadata": {},
     "output_type": "execute_result"
    },
    {
     "data": {
      "image/png": "[encoded data removed]",
      "text/plain": [
       "<Figure size 432x288 with 1 Axes>"
      ]
     },
     "metadata": {
      "needs_background": "light"
     },
     "output_type": "display_data"
    }
   ],
   "source": [
    "# test emulator by making simple plot\n",
    "p1d = emulator.emulate_p1d_Mpc(testing_data[0],kMpc)\n",
    "plt.plot(kMpc,p1d)"
   ]
  },
  {
   "cell_type": "markdown",
   "id": "94442a35-0182-4393-8496-a412f042dc39",
   "metadata": {},
   "source": [
    "### or a training_set label"
   ]
  },
  {
   "cell_type": "code",
   "execution_count": 10,
   "id": "7e0b1aa8-0a6d-4fc5-8d31-25bb8754edd6",
   "metadata": {},
   "outputs": [],
   "source": [
    "if thorough:\n",
    "    emulator = NNEmulator(training_set='Cabayol23',nepochs=10)"
   ]
  },
  {
   "cell_type": "markdown",
   "id": "fbb0fb3b-ebb9-43bd-adf1-dbfe0e2ca91c",
   "metadata": {},
   "source": [
    "#### If none or both are provided, the emulator fails. "
   ]
  },
  {
   "cell_type": "markdown",
   "id": "9888bee3-7d40-40d8-ab0a-ef518506b8e7",
   "metadata": {},
   "source": [
    "### Example 2: We can train a pre defined emulator... "
   ]
  },
  {
   "cell_type": "markdown",
   "id": "ec75ece7-b32c-4f71-8f37-e8822ec39c1e",
   "metadata": {
    "tags": []
   },
   "source": [
    "#### A. with a training_set label"
   ]
  },
  {
   "cell_type": "code",
   "execution_count": 11,
   "id": "50f904e2-8089-4321-935d-e4405045f419",
   "metadata": {},
   "outputs": [],
   "source": [
    "if thorough:\n",
    "    emulator = NNEmulator(training_set='Cabayol23', emulator_label='Cabayol23', nepochs=10)"
   ]
  },
  {
   "cell_type": "markdown",
   "id": "5a078d9f-2863-4114-8203-3a0d1f8188dd",
   "metadata": {},
   "source": [
    "#### B. with an archive"
   ]
  },
  {
   "cell_type": "code",
   "execution_count": 12,
   "id": "d7878459-d459-418d-9ba7-52aea2c1e6a9",
   "metadata": {},
   "outputs": [
    {
     "name": "stdout",
     "output_type": "stream",
     "text": [
      "Select emulator in Cabayol23\n",
      "Neural network emulating the optimal P1D of Gadget simulations fitting coefficients to a 5th degree polynomial. It goes to scales of 4Mpc^{-1} and z<4.5. The parameters passed to the emulator will be overwritten to match these ones\n",
      "Use custom archive provided by the user\n"
     ]
    }
   ],
   "source": [
    "# currently we are passing a Pedersen21 archive and asking for Cabayol23 emulator (for emu settings)\n",
    "emulator = NNEmulator(archive=archive,  emulator_label='Cabayol23', nepochs=10)"
   ]
  },
  {
   "cell_type": "markdown",
   "id": "f9de9218-3a1c-4be1-a7d4-38522294c059",
   "metadata": {},
   "source": [
    "### Example 3: Load a pre-trained emulator, providing the path of the saved network parameters"
   ]
  },
  {
   "cell_type": "code",
   "execution_count": 13,
   "id": "640d6360-0f44-438e-83a4-358a7e20c15f",
   "metadata": {
    "tags": []
   },
   "outputs": [],
   "source": [
    "if thorough:\n",
    "    emulator = NNEmulator(training_set='Cabayol23',emulator_label='Cabayol23',\n",
    "                      model_path='NNmodels/NNEmulator_LaCEHC.pt', train=False)"
   ]
  },
  {
   "cell_type": "code",
   "execution_count": 14,
   "id": "d1374c31-e75e-4e6e-90b4-4f1552de739e",
   "metadata": {},
   "outputs": [
    {
     "data": {
      "text/plain": [
       "[<matplotlib.lines.Line2D at 0x7f95457a2460>]"
      ]
     },
     "execution_count": 14,
     "metadata": {},
     "output_type": "execute_result"
    },
    {
     "data": {
      "image/png": "[encoded data removed]",
      "text/plain": [
       "<Figure size 432x288 with 1 Axes>"
      ]
     },
     "metadata": {
      "needs_background": "light"
     },
     "output_type": "display_data"
    }
   ],
   "source": [
    "# test emulator by making simple plot\n",
    "p1d = emulator.emulate_p1d_Mpc(testing_data[0],kMpc)\n",
    "plt.plot(kMpc,p1d)"
   ]
  },
  {
   "cell_type": "markdown",
   "id": "cfe6fe68-f1a0-47dd-b745-29373079a046",
   "metadata": {
    "tags": []
   },
   "source": [
    "## GAUSSIAN PROCESS EMULATOR"
   ]
  },
  {
   "cell_type": "markdown",
   "id": "4dbac6c6-4dd3-4bbe-a5e9-ba6a62020032",
   "metadata": {},
   "source": [
    "## The Gaussian process emulator uses the following default parameters:"
   ]
  },
  {
   "cell_type": "markdown",
   "id": "ace75288-7cce-4400-8c13-c5478342af3e",
   "metadata": {
    "tags": []
   },
   "source": [
    "- paramList=['Delta2_p', 'n_p','mF', 'sigT_Mpc', 'gamma', 'kF_Mpc']\n",
    "- kmax_Mpc=10\n",
    "- ndeg=4"
   ]
  },
  {
   "cell_type": "markdown",
   "id": "4567cffd-be0b-468c-9cc3-d5354c091e98",
   "metadata": {},
   "source": [
    "### Example 1: Train custom emulator "
   ]
  },
  {
   "cell_type": "markdown",
   "id": "0c08cae5-52ad-4ff0-bd8b-8cd424c7e3b8",
   "metadata": {},
   "source": [
    "#### with a defined training_set"
   ]
  },
  {
   "cell_type": "code",
   "execution_count": 15,
   "id": "80ca12bd-fef6-4d39-b9f4-2bd00c61ef11",
   "metadata": {},
   "outputs": [],
   "source": [
    "if thorough:\n",
    "    emulator = GPEmulator(training_set='Pedersen21')"
   ]
  },
  {
   "cell_type": "markdown",
   "id": "44f6fd00-e644-4722-a478-64f21846ae66",
   "metadata": {},
   "source": [
    "#### with a custom archive"
   ]
  },
  {
   "cell_type": "code",
   "execution_count": 16,
   "id": "a8b79b0b-a691-4e83-ac6c-4b6479949dab",
   "metadata": {},
   "outputs": [
    {
     "name": "stdout",
     "output_type": "stream",
     "text": [
      "Use custom archive provided by the user\n",
      "Selected custom emulator\n",
      "Training GP on 330 points\n"
     ]
    },
    {
     "name": "stderr",
     "output_type": "stream",
     "text": [
      " /Users/font/opt/anaconda3/envs/lace_env/lib/python3.8/site-packages/paramz/parameterized.py:61: RuntimeWarning:Don't forget to initialize by self.initialize_parameter()!\n"
     ]
    },
    {
     "name": "stdout",
     "output_type": "stream",
     "text": [
      "GPs optimised in 0.34 seconds\n"
     ]
    }
   ],
   "source": [
    "emulator = GPEmulator(archive=archive)"
   ]
  },
  {
   "cell_type": "code",
   "execution_count": 17,
   "id": "71e658e0-028f-4923-8ee5-679915f921b1",
   "metadata": {},
   "outputs": [
    {
     "data": {
      "text/plain": [
       "[<matplotlib.lines.Line2D at 0x7f9542f72cd0>]"
      ]
     },
     "execution_count": 17,
     "metadata": {},
     "output_type": "execute_result"
    },
    {
     "data": {
      "image/png": "[encoded data removed]",
      "text/plain": [
       "<Figure size 432x288 with 1 Axes>"
      ]
     },
     "metadata": {
      "needs_background": "light"
     },
     "output_type": "display_data"
    }
   ],
   "source": [
    "# test emulator by making simple plot\n",
    "p1d = emulator.emulate_p1d_Mpc(testing_data[0],kMpc)\n",
    "plt.plot(kMpc,p1d)"
   ]
  },
  {
   "cell_type": "markdown",
   "id": "b4c2c02e-fd38-4ab2-9e18-b4175b9821e4",
   "metadata": {},
   "source": [
    "#### if both are provided, the emulator fails"
   ]
  },
  {
   "cell_type": "markdown",
   "id": "40c0df38-c714-435f-8681-b24f8f030744",
   "metadata": {},
   "source": [
    "### Example 2: Pre-defined GP emulators:"
   ]
  },
  {
   "cell_type": "code",
   "execution_count": 18,
   "id": "cefcea6b-9f9b-4898-9b39-740bde8a6770",
   "metadata": {},
   "outputs": [],
   "source": [
    "if thorough:\n",
    "    emulator = GPEmulator(training_set='Pedersen21', emulator_label='Pedersen21')"
   ]
  },
  {
   "cell_type": "code",
   "execution_count": 19,
   "id": "fdcfafb1-454c-4806-90e9-25634ee03858",
   "metadata": {},
   "outputs": [],
   "source": [
    "if thorough:\n",
    "    emulator = GPEmulator(training_set='Pedersen21', emulator_label='Pedersen23')"
   ]
  },
  {
   "cell_type": "code",
   "execution_count": 20,
   "id": "80384581-708d-414e-9cda-8b09e7d15cc9",
   "metadata": {},
   "outputs": [],
   "source": [
    "if thorough:\n",
    "    emulator = GPEmulator(training_set='Pedersen21')"
   ]
  },
  {
   "cell_type": "markdown",
   "id": "5cc52d34",
   "metadata": {},
   "source": [
    "## LaCE-Nyx emulator (NN)"
   ]
  },
  {
   "cell_type": "code",
   "execution_count": 21,
   "id": "94fcc325-822b-4fba-a94f-ce8558349aee",
   "metadata": {},
   "outputs": [],
   "source": [
    "# emulators will use different emulator parameters depending on the archive\n",
    "#gadget_emu_params = ['Delta2_p', 'n_p','mF', 'sigT_Mpc', 'gamma', 'kF_Mpc']\n",
    "nyx_emu_params = ['Delta2_p', 'n_p','mF', 'sigT_Mpc', 'gamma', 'lambda_P']"
   ]
  },
  {
   "cell_type": "code",
   "execution_count": 22,
   "id": "8bef979b",
   "metadata": {},
   "outputs": [],
   "source": [
    "# you could specify here the path to the Nyx files, or set a NYX_PATH variable\n",
    "#nyx_fname = '/data/desi/scratch/HydroData/Emulator/nyx_files/models.hdf5'\n",
    "nyx_fname=None\n",
    "archive = nyx_archive.NyxArchive(file_name=nyx_fname)"
   ]
  },
  {
   "cell_type": "code",
   "execution_count": 23,
   "id": "26f598db",
   "metadata": {},
   "outputs": [
    {
     "name": "stdout",
     "output_type": "stream",
     "text": [
      "Selected custom emulator\n",
      "Use custom archive provided by the user\n"
     ]
    }
   ],
   "source": [
    "emulator = NNEmulator(archive=archive, nepochs=100,emu_params=nyx_emu_params)"
   ]
  },
  {
   "cell_type": "code",
   "execution_count": 24,
   "id": "9626f2a6",
   "metadata": {},
   "outputs": [],
   "source": [
    "training_data = archive.get_training_data(emu_params=nyx_emu_params)\n",
    "kMpc = training_data[0]['k_Mpc']\n",
    "kMpc = kMpc[(kMpc>0) & (kMpc<4)]"
   ]
  },
  {
   "cell_type": "code",
   "execution_count": 25,
   "id": "a879b72b",
   "metadata": {},
   "outputs": [
    {
     "data": {
      "text/plain": [
       "[<matplotlib.lines.Line2D at 0x7f9542d2e670>]"
      ]
     },
     "execution_count": 25,
     "metadata": {},
     "output_type": "execute_result"
    },
    {
     "data": {
      "image/png": "[encoded data removed]",
      "text/plain": [
       "<Figure size 432x288 with 1 Axes>"
      ]
     },
     "metadata": {
      "needs_background": "light"
     },
     "output_type": "display_data"
    }
   ],
   "source": [
    "# test emulator by making simple plot\n",
    "testing_data = archive.get_testing_data(sim_label='nyx_0',emu_params=nyx_emu_params)\n",
    "p1d = emulator.emulate_p1d_Mpc(testing_data[0],kMpc)\n",
    "plt.plot(kMpc,p1d)"
   ]
  },
  {
   "cell_type": "code",
   "execution_count": 26,
   "id": "1a039cde",
   "metadata": {},
   "outputs": [
    {
     "name": "stdout",
     "output_type": "stream",
     "text": [
      "Select emulator in Cabayol23_Nyx\n",
      "Neural network emulating the optimal P1D of Nyx simulations fitting coefficients to a 5th degree polynomial. It goes to scales of 4Mpc^{-1} and z<4.5. The parameters passed to the emulator will be overwritten to match these ones\n",
      "Use custom archive provided by the user\n"
     ]
    }
   ],
   "source": [
    "emulator = NNEmulator(archive=archive, emulator_label='Cabayol23_Nyx')"
   ]
  },
  {
   "cell_type": "code",
   "execution_count": 27,
   "id": "ca1c59e3-9b21-4bf6-859a-bd525a73ff40",
   "metadata": {},
   "outputs": [],
   "source": [
    "if thorough:\n",
    "    emulator = NNEmulator(training_set='Nyx23',emu_params=nyx_emu_params,nepochs=100)"
   ]
  },
  {
   "cell_type": "code",
   "execution_count": null,
   "id": "3e1a17be",
   "metadata": {},
   "outputs": [],
   "source": []
  }
 ],
 "metadata": {
  "kernelspec": {
   "display_name": "Python 3 (ipykernel)",
   "language": "python",
   "name": "python3"
  },
  "language_info": {
   "codemirror_mode": {
    "name": "ipython",
    "version": 3
   },
   "file_extension": ".py",
   "mimetype": "text/x-python",
   "name": "python",
   "nbconvert_exporter": "python",
   "pygments_lexer": "ipython3",
   "version": "3.8.13"
  }
 },
 "nbformat": 4,
 "nbformat_minor": 5
}
