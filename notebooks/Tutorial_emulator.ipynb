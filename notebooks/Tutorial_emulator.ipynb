{
 "cells": [
  {
   "cell_type": "code",
   "execution_count": 1,
   "id": "dcd4e261-02e6-4dd0-80f3-4decc738c1ce",
   "metadata": {
    "scrolled": true
   },
   "outputs": [
    {
     "name": "stderr",
     "output_type": "stream",
     "text": [
      "/data/astro/scratch/lcabayol/anaconda3/envs/DESIenv6/lib/python3.10/site-packages/tqdm/auto.py:21: TqdmWarning: IProgress not found. Please update jupyter and ipywidgets. See https://ipywidgets.readthedocs.io/en/stable/user_install.html\n",
      "  from .autonotebook import tqdm as notebook_tqdm\n"
     ]
    }
   ],
   "source": [
    "import os, sys\n",
    "import numpy as np\n",
    "\n",
    "\n",
    "from lace.emulator.nn_architecture import MDNemulator_polyfit\n",
    "from lace.emulator.nn_emulator import NNEmulator\n",
    "from lace.emulator.gp_emulator import GPEmulator\n",
    "from lace.emulator.emulator import P1D_emulator\n"
   ]
  },
  {
   "cell_type": "code",
   "execution_count": 2,
   "id": "381390f9-fa9f-4920-aa78-708e7186b14d",
   "metadata": {},
   "outputs": [],
   "source": [
    "# our modules\n",
    "from lace.cosmo import fit_linP\n",
    "from lace.emulator import poly_p1d\n",
    "from lace.archive import pnd_archive\n",
    "from lace.archive import interface_archive"
   ]
  },
  {
   "cell_type": "code",
   "execution_count": 3,
   "id": "94fcc325-822b-4fba-a94f-ce8558349aee",
   "metadata": {},
   "outputs": [],
   "source": [
    "emuparams = ['Delta2_p', 'n_p','mF', 'sigT_Mpc', 'gamma', 'kF_Mpc']"
   ]
  },
  {
   "cell_type": "markdown",
   "id": "5533bc70-cbd1-4dc6-95c1-9bf897ae6aa4",
   "metadata": {
    "tags": []
   },
   "source": [
    "# CREATE TRAINING AND TESTING ARCHIVE"
   ]
  },
  {
   "cell_type": "code",
   "execution_count": 11,
   "id": "ec5a695e-566d-4d58-8fce-de9122626c23",
   "metadata": {},
   "outputs": [
    {
     "data": {
      "text/plain": [
       "9900"
      ]
     },
     "execution_count": 11,
     "metadata": {},
     "output_type": "execute_result"
    }
   ],
   "source": [
    "archive = pnd_archive.archivePND(sim_suite=\"Cabayol23\")\n",
    "archive.get_training_data()\n",
    "len(archive.training_data)"
   ]
  },
  {
   "cell_type": "code",
   "execution_count": 5,
   "id": "5527d0a7-239a-46b1-9412-55ff5912a284",
   "metadata": {},
   "outputs": [
    {
     "data": {
      "text/plain": [
       "11"
      ]
     },
     "execution_count": 5,
     "metadata": {},
     "output_type": "execute_result"
    }
   ],
   "source": [
    "archive_test = pnd_archive.archivePND(sim_suite=\"Cabayol23\", pick_sim='central')\n",
    "archive_test.get_testing_data()\n",
    "len(archive_test.testing_data)"
   ]
  },
  {
   "cell_type": "code",
   "execution_count": 6,
   "id": "1f653fea-d9a4-40ba-931c-d0cd62ea0891",
   "metadata": {},
   "outputs": [],
   "source": [
    "kMpc = archive_test.testing_data[0]['k_Mpc'][1:43]"
   ]
  },
  {
   "cell_type": "markdown",
   "id": "24bb52bb-1bce-4bc9-80db-8fb8ec83af54",
   "metadata": {
    "tags": []
   },
   "source": [
    "# TRAIN NEURAL NETWORK EMULATOR  "
   ]
  },
  {
   "cell_type": "markdown",
   "id": "1c18a4bb-f307-4e69-92e3-8efa753cc108",
   "metadata": {},
   "source": [
    "## The neural network emulator supposrts running both on GPU and CPU. No argument is needed, f the gpu is available, it will use it. Otherwise, the emulator trains on CPUs"
   ]
  },
  {
   "cell_type": "markdown",
   "id": "ab34dfb5-9ae8-4168-84cf-7b717d7fa811",
   "metadata": {},
   "source": [
    "## The neural network emulator uses the following default parameters:"
   ]
  },
  {
   "cell_type": "markdown",
   "id": "852c3200-8db2-4983-bd2a-d7916e8773f7",
   "metadata": {},
   "source": [
    "- paramList=['Delta2_p', 'n_p','mF', 'sigT_Mpc', 'gamma', 'kF_Mpc']\n",
    "- nepochs=100\n",
    "- step_size=75\n",
    "- kmax_Mpc=4\n",
    "- ndeg=5. For the extended version (kmax_Mpc=8), set to 7\n",
    "- initial_weights=True. Always starts from the same iniial parameters. These were selected randomly. Set to False if random initialization is required."
   ]
  },
  {
   "cell_type": "markdown",
   "id": "675bf7ec-04d5-41dd-8ab0-c6536a324877",
   "metadata": {},
   "source": [
    "## Additioanlly, we must provide either an archive "
   ]
  },
  {
   "cell_type": "code",
   "execution_count": 7,
   "id": "7e0b1aa8-0a6d-4fc5-8d31-25bb8754edd6",
   "metadata": {},
   "outputs": [
    {
     "name": "stdout",
     "output_type": "stream",
     "text": [
      "Selected custome training set\n",
      "Loading emulator using a specific archive\n",
      "start the training of the emulator\n",
      "Training network on 9900\n",
      "Emualtor trained in 0.9789836406707764 seconds\n"
     ]
    }
   ],
   "source": [
    "emulator = NNEmulator(archive=archive, nepochs=1)"
   ]
  },
  {
   "cell_type": "markdown",
   "id": "6b491c3e-18e9-493d-9c7d-306331c9246d",
   "metadata": {},
   "source": [
    "## or a training_set label"
   ]
  },
  {
   "cell_type": "code",
   "execution_count": 24,
   "id": "c20233ab-81c9-4939-9d1e-eb17e74a83a9",
   "metadata": {},
   "outputs": [
    {
     "name": "stdout",
     "output_type": "stream",
     "text": [
      "Selected pre-tuned training set\n",
      "start the training of the emulator\n",
      "Training network on 9900\n",
      "Emualtor trained in 1.4864706993103027 seconds\n"
     ]
    }
   ],
   "source": [
    "emulator = NNEmulator(training_set='Cabayol23', nepochs=1)"
   ]
  },
  {
   "cell_type": "markdown",
   "id": "77628a97-3c40-4bef-9498-b9abd13cb818",
   "metadata": {},
   "source": [
    "## We can also load a pre-trained emulator, providing the path of the saved network parameters:"
   ]
  },
  {
   "cell_type": "code",
   "execution_count": 12,
   "id": "80449ba2-298e-4470-b90f-f77c2c8a116e",
   "metadata": {},
   "outputs": [
    {
     "name": "stdout",
     "output_type": "stream",
     "text": [
      "Selected custome training set\n",
      "Loading emulator using a specific archive\n",
      "Model loaded. No training needed\n"
     ]
    }
   ],
   "source": [
    "emulator = NNEmulator(archive=archive,nepochs=1, model_path='NNmodels/NNEmulator_LaCEHC.pt', train=False)"
   ]
  },
  {
   "cell_type": "markdown",
   "id": "c2bc59fa-09a8-433f-b67c-07ab0f755cac",
   "metadata": {},
   "source": [
    "### Please ensure that the emulator parameters used during training are the same as the ones you are using for testing when loading a pre-trained emulator.\n"
   ]
  },
  {
   "cell_type": "markdown",
   "id": "d6a28111-6b32-45cf-9fae-7f70aa2ce5db",
   "metadata": {},
   "source": [
    "## Once the emulator is trained, to emulate the p1d given some model parameters:"
   ]
  },
  {
   "cell_type": "code",
   "execution_count": 15,
   "id": "d1374c31-e75e-4e6e-90b4-4f1552de739e",
   "metadata": {},
   "outputs": [],
   "source": [
    "p1d = emulator.emulate_p1d_Mpc(archive_test.testing_data[0],kMpc)"
   ]
  },
  {
   "cell_type": "markdown",
   "id": "cfe6fe68-f1a0-47dd-b745-29373079a046",
   "metadata": {
    "tags": []
   },
   "source": [
    "# GAUSSIAN PROCESS EMULATOR"
   ]
  },
  {
   "cell_type": "markdown",
   "id": "4dbac6c6-4dd3-4bbe-a5e9-ba6a62020032",
   "metadata": {},
   "source": [
    "## The Gaussian process emulator uses the following default parameters:"
   ]
  },
  {
   "cell_type": "markdown",
   "id": "ace75288-7cce-4400-8c13-c5478342af3e",
   "metadata": {
    "tags": []
   },
   "source": [
    "- paramList=['Delta2_p', 'n_p','mF', 'sigT_Mpc', 'gamma', 'kF_Mpc']\n",
    "- kmax_Mpc=10\n",
    "- ndeg=4"
   ]
  },
  {
   "cell_type": "code",
   "execution_count": 20,
   "id": "4d1f0777-2175-4f90-8485-67bbaa1992db",
   "metadata": {},
   "outputs": [
    {
     "data": {
      "text/plain": [
       "330"
      ]
     },
     "execution_count": 20,
     "metadata": {},
     "output_type": "execute_result"
    }
   ],
   "source": [
    "archive = pnd_archive.archivePND(sim_suite=\"Pedersen21\")\n",
    "archive.get_training_data()\n",
    "len(archive.training_data)"
   ]
  },
  {
   "cell_type": "markdown",
   "id": "4567cffd-be0b-468c-9cc3-d5354c091e98",
   "metadata": {},
   "source": [
    "## We must also provide either a training_set label"
   ]
  },
  {
   "cell_type": "code",
   "execution_count": 21,
   "id": "80ca12bd-fef6-4d39-b9f4-2bd00c61ef11",
   "metadata": {},
   "outputs": [
    {
     "name": "stderr",
     "output_type": "stream",
     "text": [
      " /data/astro/scratch/lcabayol/anaconda3/envs/DESIenv6/lib/python3.10/site-packages/paramz/parameterized.py:61: RuntimeWarning:Don't forget to initialize by self.initialize_parameter()!\n"
     ]
    },
    {
     "name": "stdout",
     "output_type": "stream",
     "text": [
      "Training GP on 330 points\n",
      "GPs optimised in 1.44 seconds\n"
     ]
    }
   ],
   "source": [
    "emulator = GPEmulator(training_set='Pedersen21')"
   ]
  },
  {
   "cell_type": "markdown",
   "id": "44f6fd00-e644-4722-a478-64f21846ae66",
   "metadata": {},
   "source": [
    "## or an archive"
   ]
  },
  {
   "cell_type": "code",
   "execution_count": 22,
   "id": "a8b79b0b-a691-4e83-ac6c-4b6479949dab",
   "metadata": {},
   "outputs": [
    {
     "name": "stdout",
     "output_type": "stream",
     "text": [
      "Training GP on 330 points\n",
      "GPs optimised in 1.09 seconds\n"
     ]
    }
   ],
   "source": [
    "emulator = GPEmulator(archive=archive)"
   ]
  },
  {
   "cell_type": "markdown",
   "id": "9357a15f-a883-4f61-97ae-938080e8896f",
   "metadata": {},
   "source": [
    "## Once the emulator is trained, to emulate the p1d given some model parameters:"
   ]
  },
  {
   "cell_type": "code",
   "execution_count": null,
   "id": "71e658e0-028f-4923-8ee5-679915f921b1",
   "metadata": {},
   "outputs": [],
   "source": [
    "p1d = emulator.emulate_p1d_Mpc(archive_test.testing_data[0],kMpc)"
   ]
  },
  {
   "cell_type": "code",
   "execution_count": 9,
   "id": "80384581-708d-414e-9cda-8b09e7d15cc9",
   "metadata": {},
   "outputs": [
    {
     "name": "stderr",
     "output_type": "stream",
     "text": [
      " /data/astro/scratch/lcabayol/anaconda3/envs/DESIenv6/lib/python3.10/site-packages/paramz/parameterized.py:61: RuntimeWarning:Don't forget to initialize by self.initialize_parameter()!\n"
     ]
    },
    {
     "name": "stdout",
     "output_type": "stream",
     "text": [
      "Training GP on 330 points\n",
      "GPs optimised in 0.82 seconds\n"
     ]
    }
   ],
   "source": [
    "emulator = GPEmulator(training_set='Pedersen21')"
   ]
  },
  {
   "cell_type": "code",
   "execution_count": 10,
   "id": "90012e78-5a37-4a78-a95d-48d7a0b3ba70",
   "metadata": {},
   "outputs": [],
   "source": [
    "p1d = emulator.emulate_p1d_Mpc(archive_test.testing_data[0],kMpc)"
   ]
  }
 ],
 "metadata": {
  "kernelspec": {
   "display_name": "DESIenv6",
   "language": "python",
   "name": "desienv6"
  },
  "language_info": {
   "codemirror_mode": {
    "name": "ipython",
    "version": 3
   },
   "file_extension": ".py",
   "mimetype": "text/x-python",
   "name": "python",
   "nbconvert_exporter": "python",
   "pygments_lexer": "ipython3",
   "version": "3.10.9"
  }
 },
 "nbformat": 4,
 "nbformat_minor": 5
}
