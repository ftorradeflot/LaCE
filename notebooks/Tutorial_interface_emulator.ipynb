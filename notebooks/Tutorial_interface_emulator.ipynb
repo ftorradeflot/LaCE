{
 "cells": [
  {
   "cell_type": "code",
   "execution_count": 1,
   "id": "dcd4e261-02e6-4dd0-80f3-4decc738c1ce",
   "metadata": {
    "scrolled": true
   },
   "outputs": [
    {
     "name": "stderr",
     "output_type": "stream",
     "text": [
      "/data/astro/scratch/lcabayol/anaconda3/envs/DESIenv6/lib/python3.10/site-packages/tqdm/auto.py:21: TqdmWarning: IProgress not found. Please update jupyter and ipywidgets. See https://ipywidgets.readthedocs.io/en/stable/user_install.html\n",
      "  from .autonotebook import tqdm as notebook_tqdm\n"
     ]
    }
   ],
   "source": [
    "import os, sys\n",
    "import numpy as np\n",
    "\n",
    "\n",
    "from lace.emulator.nn_architecture import MDNemulator_polyfit\n",
    "from lace.emulator.nn_emulator import NNEmulator\n",
    "from lace.emulator.gp_emulator import GPEmulator\n",
    "from lace.emulator.emulator import P1D_emulator\n"
   ]
  },
  {
   "cell_type": "code",
   "execution_count": 2,
   "id": "381390f9-fa9f-4920-aa78-708e7186b14d",
   "metadata": {},
   "outputs": [],
   "source": [
    "# our modules\n",
    "from lace.cosmo import fit_linP\n",
    "from lace.emulator import poly_p1d\n",
    "from lace.archive import pnd_archive\n",
    "from lace.archive import interface_archive"
   ]
  },
  {
   "cell_type": "code",
   "execution_count": 3,
   "id": "94fcc325-822b-4fba-a94f-ce8558349aee",
   "metadata": {},
   "outputs": [],
   "source": [
    "emuparams = ['Delta2_p', 'n_p','mF', 'sigT_Mpc', 'gamma', 'kF_Mpc']"
   ]
  },
  {
   "cell_type": "markdown",
   "id": "5533bc70-cbd1-4dc6-95c1-9bf897ae6aa4",
   "metadata": {
    "tags": []
   },
   "source": [
    "# CREATE TRAINING AND TESTING ARCHIVE"
   ]
  },
  {
   "cell_type": "code",
   "execution_count": 4,
   "id": "ec5a695e-566d-4d58-8fce-de9122626c23",
   "metadata": {},
   "outputs": [
    {
     "data": {
      "text/plain": [
       "330"
      ]
     },
     "execution_count": 4,
     "metadata": {},
     "output_type": "execute_result"
    }
   ],
   "source": [
    "archive = pnd_archive.archivePND(sim_suite=\"Pedersen21\")\n",
    "archive.get_training_data()\n",
    "len(archive.training_data)"
   ]
  },
  {
   "cell_type": "code",
   "execution_count": 5,
   "id": "5527d0a7-239a-46b1-9412-55ff5912a284",
   "metadata": {},
   "outputs": [
    {
     "data": {
      "text/plain": [
       "11"
      ]
     },
     "execution_count": 5,
     "metadata": {},
     "output_type": "execute_result"
    }
   ],
   "source": [
    "archive_test = pnd_archive.archivePND(sim_suite=\"Cabayol23\", pick_sim='central')\n",
    "archive_test.get_testing_data()\n",
    "len(archive_test.testing_data)"
   ]
  },
  {
   "cell_type": "code",
   "execution_count": 6,
   "id": "1f653fea-d9a4-40ba-931c-d0cd62ea0891",
   "metadata": {},
   "outputs": [],
   "source": [
    "kMpc = archive_test.testing_data[0]['k_Mpc'][1:43]"
   ]
  },
  {
   "cell_type": "markdown",
   "id": "e344ceb4-a8c4-4f17-a271-42b76b3d5c02",
   "metadata": {},
   "source": [
    "# EMULATOR INTERFACE"
   ]
  },
  {
   "cell_type": "markdown",
   "id": "27abad4b-9a4a-4922-bce2-14b24177c20b",
   "metadata": {},
   "source": [
    "## There are two possibilities to define the emulator algorithm: \n",
    " - Define emu_algorithm to either GP or NN\n",
    " - Pass an emulator_label pointing to the concrete emulator used in a publication. Options are [Pedersen21, Pedersen23, Cabayol23]"
   ]
  },
  {
   "cell_type": "markdown",
   "id": "6fce0dbb-4066-4e81-b09a-560575f52cee",
   "metadata": {},
   "source": [
    "## There are two possibilities to define the training archive: \n",
    " - Pass a custom archive \n",
    " - Pass a training_set pointing to the concrete archive used in a publication. Options are [Pedersen21, Cabayol23]\n",
    " - If none of them is provided but a emulator label is defined, the emulator will load by default the archive corresponding to the publication\n",
    " - If none of them is provided and emulator label is not provided, the emulator crushes\n",
    " - If both archive and training_set are provided, the emulator crushes"
   ]
  },
  {
   "cell_type": "markdown",
   "id": "cad8ef68-02b4-4e2a-bb9f-c901d1901735",
   "metadata": {},
   "source": [
    "#### Example 1: Define emu_algorithm and custom archive"
   ]
  },
  {
   "cell_type": "code",
   "execution_count": 7,
   "id": "68ff18f1-16e6-4c46-94bb-437c0d05c560",
   "metadata": {},
   "outputs": [
    {
     "name": "stdout",
     "output_type": "stream",
     "text": [
      "Use custom archive provided by the user\n",
      "Selected custom emulator\n"
     ]
    }
   ],
   "source": [
    "emulator = P1D_emulator(archive, emu_algorithm='NN',sims_label='Gadget')"
   ]
  },
  {
   "cell_type": "markdown",
   "id": "27b09c0b-7c7f-4223-876f-d5b75c847c1b",
   "metadata": {},
   "source": [
    "#### Example 2: Pass an emulator label with a custom archive:"
   ]
  },
  {
   "cell_type": "code",
   "execution_count": 8,
   "id": "d5700c17-1959-4d33-b748-12fd04e57d18",
   "metadata": {},
   "outputs": [
    {
     "name": "stdout",
     "output_type": "stream",
     "text": [
      "Use custom archive provided by the user\n",
      "Selected emulator in Cabayol23\n",
      "Neural network emulator predicting the optimal P1D fitting coefficients to a 5th degree polynomial. It goes to scales of 4Mpc^{-1} and z<4.5. The parameters passed to the emulator will be overwritten to match these ones\n"
     ]
    }
   ],
   "source": [
    "emulator = P1D_emulator(archive, emulator_label='Cabayol23')"
   ]
  },
  {
   "cell_type": "markdown",
   "id": "68f0f06b-6491-4dd1-a0ec-ec7bb8539060",
   "metadata": {},
   "source": [
    "#### Example 3: Pass an emulator label and a training_set label"
   ]
  },
  {
   "cell_type": "code",
   "execution_count": 21,
   "id": "92a18e70-ede6-442e-b5be-8348a28a026e",
   "metadata": {},
   "outputs": [
    {
     "name": "stdout",
     "output_type": "stream",
     "text": [
      "Selected archive in Cabayol23\n",
      "Selected emulator in Cabayol23\n",
      "Neural network emulator predicting the optimal P1D fitting coefficients to a 5th degree polynomial. It goes to scales of 4Mpc^{-1} and z<4.5. The parameters passed to the emulator will be overwritten to match these ones\n"
     ]
    }
   ],
   "source": [
    "emulator = P1D_emulator(training_set='Cabayol23', emulator_label='Cabayol23')"
   ]
  },
  {
   "cell_type": "markdown",
   "id": "73f7d405-d9c8-4d77-87f0-28aada681ff9",
   "metadata": {},
   "source": [
    "####  Example 4: Pass only an emulator label"
   ]
  },
  {
   "cell_type": "code",
   "execution_count": 10,
   "id": "87d057b9-fb01-4809-bb8a-4bed5e25a096",
   "metadata": {},
   "outputs": [
    {
     "name": "stdout",
     "output_type": "stream",
     "text": [
      "Selected emulator in Cabayol23\n",
      "Neural network emulator predicting the optimal P1D fitting coefficients to a 5th degree polynomial. It goes to scales of 4Mpc^{-1} and z<4.5. The parameters passed to the emulator will be overwritten to match these ones\n",
      "Setting the archive to that used in None\n"
     ]
    }
   ],
   "source": [
    "emulator = P1D_emulator(emulator_label='Cabayol23')"
   ]
  },
  {
   "cell_type": "markdown",
   "id": "f97a65c4-a5ee-4753-b4aa-28546677c8f1",
   "metadata": {},
   "source": [
    "#### Example 5: Providing archive and training_set"
   ]
  },
  {
   "cell_type": "code",
   "execution_count": 7,
   "id": "c6c22e33-4097-4e08-9186-1de3f92d2040",
   "metadata": {},
   "outputs": [
    {
     "ename": "ValueError",
     "evalue": "Conflict! Both custom archive and training_set provided",
     "output_type": "error",
     "traceback": [
      "\u001b[0;31m---------------------------------------------------------------------------\u001b[0m",
      "\u001b[0;31mValueError\u001b[0m                                Traceback (most recent call last)",
      "Cell \u001b[0;32mIn[7], line 1\u001b[0m\n\u001b[0;32m----> 1\u001b[0m emulator \u001b[38;5;241m=\u001b[39m \u001b[43mP1D_emulator\u001b[49m\u001b[43m(\u001b[49m\u001b[43marchive\u001b[49m\u001b[38;5;241;43m=\u001b[39;49m\u001b[43marchive\u001b[49m\u001b[43m,\u001b[49m\u001b[43mtraining_set\u001b[49m\u001b[38;5;241;43m=\u001b[39;49m\u001b[38;5;124;43m'\u001b[39;49m\u001b[38;5;124;43mCabayol23\u001b[39;49m\u001b[38;5;124;43m'\u001b[39;49m\u001b[43m)\u001b[49m\n",
      "File \u001b[0;32m/data/astro/scratch/lcabayol/anaconda3/envs/DESIenv6/lib/python3.10/site-packages/lace-1.0.1-py3.10.egg/lace/emulator/emulator.py:75\u001b[0m, in \u001b[0;36mP1D_emulator.__init__\u001b[0;34m(self, archive, training_set, emulator_label, emu_algorithm, sims_label, zmax, kmax_Mpc, ndeg, train, emu_type, model_path, save_path, nepochs_nn)\u001b[0m\n\u001b[1;32m     72\u001b[0m training_set_all \u001b[38;5;241m=\u001b[39m [\u001b[38;5;124m\"\u001b[39m\u001b[38;5;124mPedersen21\u001b[39m\u001b[38;5;124m\"\u001b[39m, \u001b[38;5;124m\"\u001b[39m\u001b[38;5;124mCabayol23\u001b[39m\u001b[38;5;124m\"\u001b[39m]\n\u001b[1;32m     74\u001b[0m \u001b[38;5;28;01mif\u001b[39;00m (archive\u001b[38;5;241m!=\u001b[39m\u001b[38;5;28;01mNone\u001b[39;00m)\u001b[38;5;241m&\u001b[39m(training_set\u001b[38;5;241m!=\u001b[39m\u001b[38;5;28;01mNone\u001b[39;00m):\n\u001b[0;32m---> 75\u001b[0m     \u001b[38;5;28;01mraise\u001b[39;00m \u001b[38;5;167;01mValueError\u001b[39;00m(\u001b[38;5;124m\"\u001b[39m\u001b[38;5;124mConflict! Both custom archive and training_set provided\u001b[39m\u001b[38;5;124m\"\u001b[39m)\n\u001b[1;32m     77\u001b[0m \u001b[38;5;28;01mif\u001b[39;00m training_set \u001b[38;5;129;01mis\u001b[39;00m \u001b[38;5;129;01mnot\u001b[39;00m \u001b[38;5;28;01mNone\u001b[39;00m:\n\u001b[1;32m     78\u001b[0m     \u001b[38;5;28;01mtry\u001b[39;00m:\n",
      "\u001b[0;31mValueError\u001b[0m: Conflict! Both custom archive and training_set provided"
     ]
    }
   ],
   "source": [
    "emulator = P1D_emulator(archive=archive,training_set='Cabayol23')"
   ]
  },
  {
   "cell_type": "markdown",
   "id": "8f6b2281-1f86-4103-902c-05dc06871548",
   "metadata": {},
   "source": [
    "#### Example 6: Not providing anything"
   ]
  },
  {
   "cell_type": "code",
   "execution_count": 8,
   "id": "968116c6-4680-47f6-b832-39be8b07bab2",
   "metadata": {},
   "outputs": [
    {
     "ename": "Exception",
     "evalue": "Archive, training_set or emulator_label must be provided",
     "output_type": "error",
     "traceback": [
      "\u001b[0;31m---------------------------------------------------------------------------\u001b[0m",
      "\u001b[0;31mException\u001b[0m                                 Traceback (most recent call last)",
      "Cell \u001b[0;32mIn[8], line 1\u001b[0m\n\u001b[0;32m----> 1\u001b[0m emulator \u001b[38;5;241m=\u001b[39m \u001b[43mP1D_emulator\u001b[49m\u001b[43m(\u001b[49m\u001b[43memu_algorithm\u001b[49m\u001b[38;5;241;43m=\u001b[39;49m\u001b[38;5;124;43m'\u001b[39;49m\u001b[38;5;124;43mNN\u001b[39;49m\u001b[38;5;124;43m'\u001b[39;49m\u001b[43m)\u001b[49m\n",
      "File \u001b[0;32m/data/astro/scratch/lcabayol/anaconda3/envs/DESIenv6/lib/python3.10/site-packages/lace-1.0.1-py3.10.egg/lace/emulator/emulator.py:99\u001b[0m, in \u001b[0;36mP1D_emulator.__init__\u001b[0;34m(self, archive, training_set, emulator_label, emu_algorithm, sims_label, zmax, kmax_Mpc, ndeg, train, emu_type, model_path, save_path, nepochs_nn)\u001b[0m\n\u001b[1;32m     96\u001b[0m     \u001b[38;5;28mself\u001b[39m\u001b[38;5;241m.\u001b[39marchive \u001b[38;5;241m=\u001b[39m archive\n\u001b[1;32m     98\u001b[0m \u001b[38;5;28;01melif\u001b[39;00m (archive\u001b[38;5;241m==\u001b[39m\u001b[38;5;28;01mNone\u001b[39;00m)\u001b[38;5;241m&\u001b[39m(training_set\u001b[38;5;241m==\u001b[39m\u001b[38;5;28;01mNone\u001b[39;00m)\u001b[38;5;241m&\u001b[39m(emulator_label\u001b[38;5;241m==\u001b[39m\u001b[38;5;28;01mNone\u001b[39;00m):\n\u001b[0;32m---> 99\u001b[0m     \u001b[38;5;28;01mraise\u001b[39;00m(\u001b[38;5;167;01mException\u001b[39;00m(\u001b[38;5;124m'\u001b[39m\u001b[38;5;124mArchive, training_set or emulator_label must be provided\u001b[39m\u001b[38;5;124m'\u001b[39m))\n\u001b[1;32m    103\u001b[0m emulator_label_all \u001b[38;5;241m=\u001b[39m [\u001b[38;5;124m\"\u001b[39m\u001b[38;5;124mPedersen21\u001b[39m\u001b[38;5;124m\"\u001b[39m, \u001b[38;5;124m\"\u001b[39m\u001b[38;5;124mPedersen23\u001b[39m\u001b[38;5;124m\"\u001b[39m, \u001b[38;5;124m\"\u001b[39m\u001b[38;5;124mCabayol23\u001b[39m\u001b[38;5;124m\"\u001b[39m]\n\u001b[1;32m    104\u001b[0m \u001b[38;5;28;01mif\u001b[39;00m emulator_label \u001b[38;5;129;01mis\u001b[39;00m \u001b[38;5;129;01mnot\u001b[39;00m \u001b[38;5;28;01mNone\u001b[39;00m:  \n",
      "\u001b[0;31mException\u001b[0m: Archive, training_set or emulator_label must be provided"
     ]
    }
   ],
   "source": [
    "emulator = P1D_emulator(emu_algorithm='NN')"
   ]
  },
  {
   "cell_type": "markdown",
   "id": "7c9a20b5-d2c0-4809-946d-13ad48eeec9d",
   "metadata": {},
   "source": [
    "#### Example 8: NN emulator loading a pre-trained model"
   ]
  },
  {
   "cell_type": "code",
   "execution_count": 13,
   "id": "835b14f4-bff9-462a-a6a5-fc5ab35edd73",
   "metadata": {},
   "outputs": [
    {
     "name": "stdout",
     "output_type": "stream",
     "text": [
      "Selected archive in Cabayol23\n",
      "Selected emulator in Cabayol23\n",
      "Neural network emulator predicting the optimal P1D fitting coefficients to a 5th degree polynomial. It goes to scales of 4Mpc^{-1} and z<4.5. The parameters passed to the emulator will be overwritten to match these ones\n",
      "Load pre-trained emulator\n",
      "Model loaded. No training needed\n",
      "The loaded model corresponds to the following emulation configuration:\n",
      ":zmax: 4.5, kmax_Mpc: 4, ndeg: 5, emu_params: ['Delta2_p', 'n_p', 'mF', 'sigT_Mpc', 'gamma', 'kF_Mpc'], drop_sim': None\n"
     ]
    }
   ],
   "source": [
    "emulator = P1D_emulator(training_set='Cabayol23', emulator_label='Cabayol23',model_path='NNmodels/NNEmulator_LaCEHC.pt', train=False)\n",
    "\n",
    "\n",
    "\n",
    "\n"
   ]
  },
  {
   "cell_type": "markdown",
   "id": "29a6186f-dcb4-44f0-bd73-e9375d8e5b36",
   "metadata": {},
   "source": [
    "#### Example 8b: NN emulator loading a pre-trained model. If the arguments provided do not coincide with the especifications of the trained mode, the emulator crushes"
   ]
  },
  {
   "cell_type": "code",
   "execution_count": 20,
   "id": "0db23b1a-47e7-480a-a917-539adcdc79d8",
   "metadata": {},
   "outputs": [
    {
     "name": "stdout",
     "output_type": "stream",
     "text": [
      "Selected archive in Pedersen21\n"
     ]
    },
    {
     "ename": "TypeError",
     "evalue": "exceptions must derive from BaseException",
     "output_type": "error",
     "traceback": [
      "\u001b[0;31m---------------------------------------------------------------------------\u001b[0m",
      "\u001b[0;31mKeyboardInterrupt\u001b[0m                         Traceback (most recent call last)",
      "File \u001b[0;32m/data/astro/scratch/lcabayol/anaconda3/envs/DESIenv6/lib/python3.10/site-packages/lace-1.0.1-py3.10.egg/lace/emulator/emulator.py:82\u001b[0m, in \u001b[0;36mP1D_emulator.__init__\u001b[0;34m(self, archive, training_set, emulator_label, emu_algorithm, sims_label, zmax, kmax_Mpc, ndeg, train, emu_type, model_path, save_path, nepochs_nn)\u001b[0m\n\u001b[1;32m     81\u001b[0m \u001b[38;5;28mself\u001b[39m\u001b[38;5;241m.\u001b[39marchive \u001b[38;5;241m=\u001b[39m interface_archive\u001b[38;5;241m.\u001b[39mArchive(verbose\u001b[38;5;241m=\u001b[39m\u001b[38;5;28;01mFalse\u001b[39;00m)\n\u001b[0;32m---> 82\u001b[0m \u001b[38;5;28;43mself\u001b[39;49m\u001b[38;5;241;43m.\u001b[39;49m\u001b[43marchive\u001b[49m\u001b[38;5;241;43m.\u001b[39;49m\u001b[43mget_training_data\u001b[49m\u001b[43m(\u001b[49m\u001b[43mtraining_set\u001b[49m\u001b[38;5;241;43m=\u001b[39;49m\u001b[43mtraining_set\u001b[49m\u001b[43m)\u001b[49m\n\u001b[1;32m     83\u001b[0m \u001b[38;5;28;01mpass\u001b[39;00m\n",
      "File \u001b[0;32m/data/astro/scratch/lcabayol/anaconda3/envs/DESIenv6/lib/python3.10/site-packages/lace-1.0.1-py3.10.egg/lace/archive/interface_archive.py:80\u001b[0m, in \u001b[0;36mArchive.get_training_data\u001b[0;34m(self, training_set)\u001b[0m\n\u001b[1;32m     75\u001b[0m \u001b[38;5;28;01mif\u001b[39;00m (\n\u001b[1;32m     76\u001b[0m     (training_set \u001b[38;5;241m==\u001b[39m \u001b[38;5;124m\"\u001b[39m\u001b[38;5;124mPedersen21\u001b[39m\u001b[38;5;124m\"\u001b[39m)\n\u001b[1;32m     77\u001b[0m     \u001b[38;5;241m|\u001b[39m (training_set \u001b[38;5;241m==\u001b[39m \u001b[38;5;124m\"\u001b[39m\u001b[38;5;124mCabayol23\u001b[39m\u001b[38;5;124m\"\u001b[39m)\n\u001b[1;32m     78\u001b[0m     \u001b[38;5;241m|\u001b[39m (training_set \u001b[38;5;241m==\u001b[39m \u001b[38;5;124m\"\u001b[39m\u001b[38;5;124m768_768\u001b[39m\u001b[38;5;124m\"\u001b[39m)\n\u001b[1;32m     79\u001b[0m ):\n\u001b[0;32m---> 80\u001b[0m     \u001b[43marchivePND\u001b[49m\u001b[38;5;241;43m.\u001b[39;49m\u001b[38;5;21;43m__init__\u001b[39;49m\u001b[43m(\u001b[49m\u001b[38;5;28;43mself\u001b[39;49m\u001b[43m,\u001b[49m\u001b[43m \u001b[49m\u001b[43msim_suite\u001b[49m\u001b[38;5;241;43m=\u001b[39;49m\u001b[43mtraining_set\u001b[49m\u001b[43m)\u001b[49m\n\u001b[1;32m     81\u001b[0m     archivePND\u001b[38;5;241m.\u001b[39mget_training_data(\u001b[38;5;28mself\u001b[39m)\n",
      "File \u001b[0;32m/data/astro/scratch/lcabayol/anaconda3/envs/DESIenv6/lib/python3.10/site-packages/lace-1.0.1-py3.10.egg/lace/archive/pnd_archive.py:174\u001b[0m, in \u001b[0;36marchivePND.__init__\u001b[0;34m(self, sim_suite, pick_sim, drop_sim, nsamples, z_max, kp_Mpc, verbose)\u001b[0m\n\u001b[1;32m    173\u001b[0m \u001b[38;5;66;03m## load power spectrum measurements from suite\u001b[39;00m\n\u001b[0;32m--> 174\u001b[0m \u001b[38;5;28;43mself\u001b[39;49m\u001b[38;5;241;43m.\u001b[39;49m\u001b[43m_load_data\u001b[49m\u001b[43m(\u001b[49m\u001b[43mpick_sim\u001b[49m\u001b[43m,\u001b[49m\u001b[43m \u001b[49m\u001b[43mdrop_sim\u001b[49m\u001b[43m,\u001b[49m\u001b[43m \u001b[49m\u001b[43mz_max\u001b[49m\u001b[43m,\u001b[49m\u001b[43m \u001b[49m\u001b[43mnsamples\u001b[49m\u001b[43m)\u001b[49m\n\u001b[1;32m    175\u001b[0m \u001b[38;5;28mself\u001b[39m\u001b[38;5;241m.\u001b[39mdrop_sim\u001b[38;5;241m=\u001b[39mdrop_sim\n",
      "File \u001b[0;32m/data/astro/scratch/lcabayol/anaconda3/envs/DESIenv6/lib/python3.10/site-packages/lace-1.0.1-py3.10.egg/lace/archive/pnd_archive.py:686\u001b[0m, in \u001b[0;36marchivePND._load_data\u001b[0;34m(self, pick_sim, drop_sim, z_max, nsamples)\u001b[0m\n\u001b[1;32m    681\u001b[0m \u001b[38;5;28;01mfor\u001b[39;00m ind_axis \u001b[38;5;129;01min\u001b[39;00m \u001b[38;5;28mrange\u001b[39m(\u001b[38;5;28mself\u001b[39m\u001b[38;5;241m.\u001b[39mn_axes):\n\u001b[1;32m    682\u001b[0m     \u001b[38;5;66;03m# extract power spectrum measurements\u001b[39;00m\n\u001b[1;32m    683\u001b[0m     \u001b[38;5;66;03m# we iterate now to extract data from\u001b[39;00m\n\u001b[1;32m    684\u001b[0m \n\u001b[1;32m    685\u001b[0m     \u001b[38;5;66;03m# read data from simulations\u001b[39;00m\n\u001b[0;32m--> 686\u001b[0m     _ \u001b[38;5;241m=\u001b[39m \u001b[38;5;28;43mself\u001b[39;49m\u001b[38;5;241;43m.\u001b[39;49m\u001b[43m_get_data\u001b[49m\u001b[43m(\u001b[49m\u001b[43mind_axis\u001b[49m\u001b[43m,\u001b[49m\u001b[43m \u001b[49m\u001b[43msnap\u001b[49m\u001b[43m,\u001b[49m\u001b[43m \u001b[49m\u001b[43mtag_sample\u001b[49m\u001b[43m,\u001b[49m\u001b[43m \u001b[49m\u001b[43mtag_sample_params\u001b[49m\u001b[43m)\u001b[49m\n\u001b[1;32m    687\u001b[0m     phase_data, phase_params, arr_phase \u001b[38;5;241m=\u001b[39m _\n",
      "File \u001b[0;32m/data/astro/scratch/lcabayol/anaconda3/envs/DESIenv6/lib/python3.10/site-packages/lace-1.0.1-py3.10.egg/lace/archive/pnd_archive.py:579\u001b[0m, in \u001b[0;36marchivePND._get_data\u001b[0;34m(self, ind_axis, snap, tag_sample, tag_sample_params)\u001b[0m\n\u001b[1;32m    578\u001b[0m \u001b[38;5;28;01mwith\u001b[39;00m \u001b[38;5;28mopen\u001b[39m(data_json[it]) \u001b[38;5;28;01mas\u001b[39;00m json_file:\n\u001b[0;32m--> 579\u001b[0m     phase_data\u001b[38;5;241m.\u001b[39mappend(\u001b[43mjson\u001b[49m\u001b[38;5;241;43m.\u001b[39;49m\u001b[43mload\u001b[49m\u001b[43m(\u001b[49m\u001b[43mjson_file\u001b[49m\u001b[43m)\u001b[49m)\n\u001b[1;32m    580\u001b[0m     arr_phase\u001b[38;5;241m.\u001b[39mappend(_ind_phase)\n",
      "File \u001b[0;32m/data/astro/scratch/lcabayol/anaconda3/envs/DESIenv6/lib/python3.10/json/__init__.py:293\u001b[0m, in \u001b[0;36mload\u001b[0;34m(fp, cls, object_hook, parse_float, parse_int, parse_constant, object_pairs_hook, **kw)\u001b[0m\n\u001b[1;32m    276\u001b[0m \u001b[38;5;250m\u001b[39m\u001b[38;5;124;03m\"\"\"Deserialize ``fp`` (a ``.read()``-supporting file-like object containing\u001b[39;00m\n\u001b[1;32m    277\u001b[0m \u001b[38;5;124;03ma JSON document) to a Python object.\u001b[39;00m\n\u001b[1;32m    278\u001b[0m \n\u001b[0;32m   (...)\u001b[0m\n\u001b[1;32m    291\u001b[0m \u001b[38;5;124;03mkwarg; otherwise ``JSONDecoder`` is used.\u001b[39;00m\n\u001b[1;32m    292\u001b[0m \u001b[38;5;124;03m\"\"\"\u001b[39;00m\n\u001b[0;32m--> 293\u001b[0m \u001b[38;5;28;01mreturn\u001b[39;00m loads(\u001b[43mfp\u001b[49m\u001b[38;5;241;43m.\u001b[39;49m\u001b[43mread\u001b[49m\u001b[43m(\u001b[49m\u001b[43m)\u001b[49m,\n\u001b[1;32m    294\u001b[0m     \u001b[38;5;28mcls\u001b[39m\u001b[38;5;241m=\u001b[39m\u001b[38;5;28mcls\u001b[39m, object_hook\u001b[38;5;241m=\u001b[39mobject_hook,\n\u001b[1;32m    295\u001b[0m     parse_float\u001b[38;5;241m=\u001b[39mparse_float, parse_int\u001b[38;5;241m=\u001b[39mparse_int,\n\u001b[1;32m    296\u001b[0m     parse_constant\u001b[38;5;241m=\u001b[39mparse_constant, object_pairs_hook\u001b[38;5;241m=\u001b[39mobject_pairs_hook, \u001b[38;5;241m*\u001b[39m\u001b[38;5;241m*\u001b[39mkw)\n",
      "File \u001b[0;32m/data/astro/scratch/lcabayol/anaconda3/envs/DESIenv6/lib/python3.10/codecs.py:319\u001b[0m, in \u001b[0;36mBufferedIncrementalDecoder.decode\u001b[0;34m(self, input, final)\u001b[0m\n\u001b[1;32m    317\u001b[0m     \u001b[38;5;28;01mraise\u001b[39;00m \u001b[38;5;167;01mNotImplementedError\u001b[39;00m\n\u001b[0;32m--> 319\u001b[0m \u001b[38;5;28;01mdef\u001b[39;00m \u001b[38;5;21mdecode\u001b[39m(\u001b[38;5;28mself\u001b[39m, \u001b[38;5;28minput\u001b[39m, final\u001b[38;5;241m=\u001b[39m\u001b[38;5;28;01mFalse\u001b[39;00m):\n\u001b[1;32m    320\u001b[0m     \u001b[38;5;66;03m# decode input (taking the buffer into account)\u001b[39;00m\n\u001b[1;32m    321\u001b[0m     data \u001b[38;5;241m=\u001b[39m \u001b[38;5;28mself\u001b[39m\u001b[38;5;241m.\u001b[39mbuffer \u001b[38;5;241m+\u001b[39m \u001b[38;5;28minput\u001b[39m\n",
      "\u001b[0;31mKeyboardInterrupt\u001b[0m: ",
      "\nDuring handling of the above exception, another exception occurred:\n",
      "\u001b[0;31mTypeError\u001b[0m                                 Traceback (most recent call last)",
      "Cell \u001b[0;32mIn[20], line 1\u001b[0m\n\u001b[0;32m----> 1\u001b[0m emulator \u001b[38;5;241m=\u001b[39m \u001b[43mP1D_emulator\u001b[49m\u001b[43m(\u001b[49m\u001b[43memu_algorithm\u001b[49m\u001b[38;5;241;43m=\u001b[39;49m\u001b[38;5;124;43m'\u001b[39;49m\u001b[38;5;124;43mNN\u001b[39;49m\u001b[38;5;124;43m'\u001b[39;49m\u001b[43m,\u001b[49m\u001b[43m \u001b[49m\u001b[43msims_label\u001b[49m\u001b[38;5;241;43m=\u001b[39;49m\u001b[38;5;124;43m'\u001b[39;49m\u001b[38;5;124;43mGadget\u001b[39;49m\u001b[38;5;124;43m'\u001b[39;49m\u001b[43m,\u001b[49m\u001b[43mtraining_set\u001b[49m\u001b[38;5;241;43m=\u001b[39;49m\u001b[38;5;124;43m'\u001b[39;49m\u001b[38;5;124;43mPedersen21\u001b[39;49m\u001b[38;5;124;43m'\u001b[39;49m\u001b[43m,\u001b[49m\u001b[43mmodel_path\u001b[49m\u001b[38;5;241;43m=\u001b[39;49m\u001b[38;5;124;43m'\u001b[39;49m\u001b[38;5;124;43mNNmodels/NNEmulator_LaCEHC.pt\u001b[39;49m\u001b[38;5;124;43m'\u001b[39;49m\u001b[43m,\u001b[49m\u001b[43m \u001b[49m\u001b[43mtrain\u001b[49m\u001b[38;5;241;43m=\u001b[39;49m\u001b[38;5;28;43;01mFalse\u001b[39;49;00m\u001b[43m,\u001b[49m\u001b[43m \u001b[49m\u001b[43mkmax_Mpc\u001b[49m\u001b[38;5;241;43m=\u001b[39;49m\u001b[38;5;241;43m5\u001b[39;49m\u001b[43m)\u001b[49m\n",
      "File \u001b[0;32m/data/astro/scratch/lcabayol/anaconda3/envs/DESIenv6/lib/python3.10/site-packages/lace-1.0.1-py3.10.egg/lace/emulator/emulator.py:91\u001b[0m, in \u001b[0;36mP1D_emulator.__init__\u001b[0;34m(self, archive, training_set, emulator_label, emu_algorithm, sims_label, zmax, kmax_Mpc, ndeg, train, emu_type, model_path, save_path, nepochs_nn)\u001b[0m\n\u001b[1;32m     89\u001b[0m             \u001b[38;5;28;01mraise\u001b[39;00m\n\u001b[1;32m     90\u001b[0m     \u001b[38;5;28;01mexcept\u001b[39;00m:\n\u001b[0;32m---> 91\u001b[0m         \u001b[38;5;28;01mraise\u001b[39;00m(\u001b[38;5;124m\"\u001b[39m\u001b[38;5;124mAn error occurred while checking the training_set value.\u001b[39m\u001b[38;5;124m\"\u001b[39m)\n\u001b[1;32m     94\u001b[0m \u001b[38;5;28;01melif\u001b[39;00m archive\u001b[38;5;241m!=\u001b[39m\u001b[38;5;28;01mNone\u001b[39;00m \u001b[38;5;129;01mand\u001b[39;00m training_set\u001b[38;5;241m==\u001b[39m\u001b[38;5;28;01mNone\u001b[39;00m:\n\u001b[1;32m     95\u001b[0m     \u001b[38;5;28mprint\u001b[39m(\u001b[38;5;124m\"\u001b[39m\u001b[38;5;124mUse custom archive provided by the user\u001b[39m\u001b[38;5;124m\"\u001b[39m)\n",
      "\u001b[0;31mTypeError\u001b[0m: exceptions must derive from BaseException"
     ]
    }
   ],
   "source": [
    "emulator = P1D_emulator(emu_algorithm='NN', sims_label='Gadget',training_set='Pedersen21',model_path='NNmodels/NNEmulator_LaCEHC.pt', train=False, kmax_Mpc=5)\n",
    "\n",
    "\n",
    "\n",
    "\n"
   ]
  },
  {
   "cell_type": "markdown",
   "id": "62de7a74-71bf-40c6-9c52-57078ced467f",
   "metadata": {},
   "source": [
    "#### Example 9: Gaussian process from Pedersen21 without specifying archive"
   ]
  },
  {
   "cell_type": "code",
   "execution_count": 9,
   "id": "df35778b-8c40-4f0d-a9d4-d39d560533e4",
   "metadata": {},
   "outputs": [
    {
     "name": "stdout",
     "output_type": "stream",
     "text": [
      "Selected emulator in Pedersen21\n",
      "Select emulator used in Pedersen et al. 2021\n",
      "Gaussian Process emulator predicting the P1D at each k-bin. It goes to scales of 3Mpc^{-1} and z<4.5. The parameters passed to the emulator will be overwritten to match these ones.\n",
      "Setting the archive to that used in Pedersen21\n"
     ]
    },
    {
     "name": "stderr",
     "output_type": "stream",
     "text": [
      " /data/astro/scratch/lcabayol/anaconda3/envs/DESIenv6/lib/python3.10/site-packages/paramz/parameterized.py:61: RuntimeWarning:Don't forget to initialize by self.initialize_parameter()!\n"
     ]
    },
    {
     "name": "stdout",
     "output_type": "stream",
     "text": [
      "Training GP on 330 points\n",
      "GPs optimised in 1.61 seconds\n"
     ]
    }
   ],
   "source": [
    "kMpc = archive_test.testing_data[0]['k_Mpc'][1:33]\n",
    "emulator = P1D_emulator(emulator_label='Pedersen21')"
   ]
  },
  {
   "cell_type": "markdown",
   "id": "0bd13932-3c3b-48ca-8933-e091043456ad",
   "metadata": {},
   "source": [
    "#### Example 10: Gaussian process from Pedersen21 also specifying archive"
   ]
  },
  {
   "cell_type": "code",
   "execution_count": 11,
   "id": "e2d1bea2-ba3f-4ebc-83eb-b0eb53c524d1",
   "metadata": {},
   "outputs": [
    {
     "name": "stdout",
     "output_type": "stream",
     "text": [
      "Use custom archive provided by the user\n",
      "Selected emulator in Pedersen21\n",
      "Select emulator used in Pedersen et al. 2021\n",
      "Gaussian Process emulator predicting the P1D at each k-bin. It goes to scales of 3Mpc^{-1} and z<4.5. The parameters passed to the emulator will be overwritten to match these ones.\n",
      "Training GP on 330 points\n",
      "GPs optimised in 2.28 seconds\n"
     ]
    }
   ],
   "source": [
    "kMpc = archive_test.testing_data[0]['k_Mpc'][1:33]\n",
    "emulator = P1D_emulator(emulator_label='Pedersen21', archive=archive)"
   ]
  },
  {
   "cell_type": "code",
   "execution_count": 7,
   "id": "26f63467-a6b1-4f3e-9a59-5aac574cddcf",
   "metadata": {},
   "outputs": [
    {
     "name": "stdout",
     "output_type": "stream",
     "text": [
      "Selected custome emulator\n",
      "Selected custome training set\n",
      "Loading emulator using a specific archive\n",
      "Model loaded. No training needed\n"
     ]
    }
   ],
   "source": [
    "emulator = P1D_emulator(archive, emu_algorithm='NN',sims_label='Gadget',model_path='NNmodels/NNEmulator_LaCEHC.pt', train=False)"
   ]
  },
  {
   "cell_type": "code",
   "execution_count": 8,
   "id": "6ce44ed5-bf3e-43cc-aa24-a0536bb89f67",
   "metadata": {},
   "outputs": [],
   "source": [
    "p1d = emulator.emulate_p1d_Mpc(archive_test.testing_data[0],kMpc)"
   ]
  },
  {
   "cell_type": "markdown",
   "id": "a24676c0-f281-42b4-ad03-4b3f3cda895b",
   "metadata": {},
   "source": [
    "### train the emulator"
   ]
  },
  {
   "cell_type": "code",
   "execution_count": null,
   "id": "7df184e3-ac65-43ef-a322-64f4a54a6b30",
   "metadata": {},
   "outputs": [],
   "source": [
    "emulator = P1D_emulator(emulator_label='Cabayol23',nepochs_nn=1)"
   ]
  },
  {
   "cell_type": "markdown",
   "id": "1d05ca5d-70a0-4d79-bca0-f4412558a261",
   "metadata": {},
   "source": [
    "### Load trained emulator"
   ]
  },
  {
   "cell_type": "code",
   "execution_count": null,
   "id": "eca825cc-1134-4f57-81aa-c9f32fe90774",
   "metadata": {},
   "outputs": [],
   "source": [
    "emulator = P1D_emulator(emulator_label='Cabayol23', train=False, model_path='NNmodels/NNEmulator_LaCEHC.pt')"
   ]
  },
  {
   "cell_type": "code",
   "execution_count": null,
   "id": "9a83d6f2-1f7f-4479-80a4-b4f8d58c8d06",
   "metadata": {},
   "outputs": [],
   "source": [
    "# This is supposed to fail\n",
    "emulator = P1D_emulator()"
   ]
  },
  {
   "cell_type": "code",
   "execution_count": null,
   "id": "3f1632a8-fd2f-4cc2-9aee-c19a4df285ab",
   "metadata": {},
   "outputs": [],
   "source": [
    "emulator = P1D_emulator(archive=archive, emu_algorithm='NN')"
   ]
  },
  {
   "cell_type": "code",
   "execution_count": null,
   "id": "e67fd658-0d17-48e5-84d0-19274430d052",
   "metadata": {},
   "outputs": [],
   "source": [
    "emulator = P1D_emulator(archive=archive, emu_algorithm='GP')"
   ]
  },
  {
   "cell_type": "code",
   "execution_count": null,
   "id": "fe5b208c-84d4-4e80-9210-b0a5c1efd485",
   "metadata": {},
   "outputs": [],
   "source": []
  }
 ],
 "metadata": {
  "kernelspec": {
   "display_name": "DESIenv6",
   "language": "python",
   "name": "desienv6"
  },
  "language_info": {
   "codemirror_mode": {
    "name": "ipython",
    "version": 3
   },
   "file_extension": ".py",
   "mimetype": "text/x-python",
   "name": "python",
   "nbconvert_exporter": "python",
   "pygments_lexer": "ipython3",
   "version": "3.10.9"
  }
 },
 "nbformat": 4,
 "nbformat_minor": 5
}
