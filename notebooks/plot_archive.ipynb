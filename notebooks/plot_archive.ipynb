{
 "cells": [
  {
   "cell_type": "markdown",
   "id": "f728f54c-bcb7-430d-89e4-cc47408c2ccb",
   "metadata": {},
   "source": [
    "# Load archive and plot P1D as a function of parameters"
   ]
  },
  {
   "cell_type": "code",
   "execution_count": 1,
   "id": "0c51f11c-49da-4a86-bb55-e2e4ed3e9cc8",
   "metadata": {},
   "outputs": [],
   "source": [
    "%matplotlib inline\n",
    "%load_ext autoreload\n",
    "%autoreload 2\n",
    "import numpy as np\n",
    "import matplotlib.pyplot as plt\n",
    "from lace.archive import gadget_archive"
   ]
  },
  {
   "cell_type": "markdown",
   "id": "cac5828c-bc07-44f7-9902-0e349bff867d",
   "metadata": {},
   "source": [
    "### Load Gadget archive"
   ]
  },
  {
   "cell_type": "code",
   "execution_count": 2,
   "id": "dd2561f2",
   "metadata": {},
   "outputs": [],
   "source": [
    "archive = gadget_archive.GadgetArchive(postproc='Pedersen21')"
   ]
  },
  {
   "cell_type": "code",
   "execution_count": 3,
   "id": "93fb8dba",
   "metadata": {},
   "outputs": [],
   "source": [
    "gadget_emu_params=['Delta2_p', 'n_p','mF', 'sigT_Mpc', 'gamma', 'kF_Mpc']\n",
    "training_data=archive.get_training_data(emu_params=gadget_emu_params)"
   ]
  },
  {
   "cell_type": "code",
   "execution_count": 4,
   "id": "35d09ac6",
   "metadata": {},
   "outputs": [
    {
     "ename": "ValueError",
     "evalue": "Update the notebook once plot_samples is added to base_archive",
     "output_type": "error",
     "traceback": [
      "\u001b[0;31m---------------------------------------------------------------------------\u001b[0m",
      "\u001b[0;31mValueError\u001b[0m                                Traceback (most recent call last)",
      "Input \u001b[0;32mIn [4]\u001b[0m, in \u001b[0;36m<cell line: 1>\u001b[0;34m()\u001b[0m\n\u001b[0;32m----> 1\u001b[0m \u001b[38;5;28;01mraise\u001b[39;00m \u001b[38;5;167;01mValueError\u001b[39;00m(\u001b[38;5;124m\"\u001b[39m\u001b[38;5;124mUpdate the notebook once plot_samples is added to base_archive\u001b[39m\u001b[38;5;124m\"\u001b[39m)\n",
      "\u001b[0;31mValueError\u001b[0m: Update the notebook once plot_samples is added to base_archive"
     ]
    }
   ],
   "source": [
    "raise ValueError(\"Update the notebook once plot_samples is added to base_archive\")"
   ]
  },
  {
   "cell_type": "markdown",
   "id": "ced0323a-0b93-4301-a9aa-e5460cd4eba4",
   "metadata": {},
   "source": [
    "### Plot linear power parameters for all entries in archive\n",
    "\n",
    "For a given simulation, the slope ($n_p$) is constant accross redshifts, but the amplitude ($\\Delta_p^2$) increases with time."
   ]
  },
  {
   "cell_type": "code",
   "execution_count": 4,
   "id": "1cc41908-e7e4-4a97-84cc-f59dabfeccc6",
   "metadata": {},
   "outputs": [
    {
     "ename": "AttributeError",
     "evalue": "'GadgetArchive' object has no attribute 'plot_samples'",
     "output_type": "error",
     "traceback": [
      "\u001b[0;31m---------------------------------------------------------------------------\u001b[0m",
      "\u001b[0;31mAttributeError\u001b[0m                            Traceback (most recent call last)",
      "Input \u001b[0;32mIn [4]\u001b[0m, in \u001b[0;36m<cell line: 1>\u001b[0;34m()\u001b[0m\n\u001b[0;32m----> 1\u001b[0m \u001b[43marchive\u001b[49m\u001b[38;5;241;43m.\u001b[39;49m\u001b[43mplot_samples\u001b[49m(\u001b[38;5;124m'\u001b[39m\u001b[38;5;124mn_p\u001b[39m\u001b[38;5;124m'\u001b[39m,\u001b[38;5;124m'\u001b[39m\u001b[38;5;124mDelta2_p\u001b[39m\u001b[38;5;124m'\u001b[39m)\n",
      "\u001b[0;31mAttributeError\u001b[0m: 'GadgetArchive' object has no attribute 'plot_samples'"
     ]
    }
   ],
   "source": [
    "archive.plot_samples('n_p','Delta2_p')"
   ]
  },
  {
   "cell_type": "markdown",
   "id": "3ce9a0f8-95d4-496e-8ca4-b0b9101c7aa8",
   "metadata": {},
   "source": [
    "Because all simulations in the emulator have the same background cosmology, the logarithmic growth rate ($f_p$) is only a function of redshift."
   ]
  },
  {
   "cell_type": "code",
   "execution_count": null,
   "id": "b3e9e1ee-affd-48b2-abf0-c3c7564f10d7",
   "metadata": {},
   "outputs": [],
   "source": [
    "archive.plot_samples('z','f_p')"
   ]
  },
  {
   "cell_type": "markdown",
   "id": "c69b5816-03c2-42ba-937d-e4bb546d1544",
   "metadata": {},
   "source": [
    "### Plot IGM parameters for all entries in archive\n",
    "\n",
    "Mean flux as a function of redshift"
   ]
  },
  {
   "cell_type": "code",
   "execution_count": null,
   "id": "52d3a276-5fd4-427c-8f66-18bd90e3e3c0",
   "metadata": {},
   "outputs": [],
   "source": [
    "archive.plot_samples('z','mF')"
   ]
  },
  {
   "cell_type": "markdown",
   "id": "6b1e90b8-116b-4c79-a0e6-1ebc61e547f8",
   "metadata": {},
   "source": [
    "Temperature - density relation described as a power law ($T_0$, $\\gamma$)"
   ]
  },
  {
   "cell_type": "code",
   "execution_count": null,
   "id": "17d20ca6-33f8-4eaa-88c3-d227beca8794",
   "metadata": {},
   "outputs": [],
   "source": [
    "archive.plot_samples('T0','gamma')"
   ]
  },
  {
   "cell_type": "markdown",
   "id": "63440571-9d41-48d1-aa84-89a11f2c4dd8",
   "metadata": {},
   "source": [
    "Internally, the emulator uses the thermal broadening length ($\\sigma_T$, in units of Mpc). Because of the conversion from km/s to Mpc, the relation between $T_0$ and $\\sigma_T$ depends on redshift."
   ]
  },
  {
   "cell_type": "code",
   "execution_count": null,
   "id": "abfffae2-3e42-4231-835f-3d3d8e0e39fc",
   "metadata": {},
   "outputs": [],
   "source": [
    "archive.plot_samples('T0','sigT_Mpc')"
   ]
  },
  {
   "cell_type": "markdown",
   "id": "f411da7e-8130-4161-8b9a-27c59f0d46b6",
   "metadata": {},
   "source": [
    "Gas pressure is parameterised as the filteringh length ($k_F$, in inverse Mpc), and it is also correlated with temperature"
   ]
  },
  {
   "cell_type": "code",
   "execution_count": null,
   "id": "3069e5c7-8d03-40fb-8c8b-e535fc345003",
   "metadata": {},
   "outputs": [],
   "source": [
    "archive.plot_samples('sigT_Mpc','kF_Mpc')"
   ]
  },
  {
   "cell_type": "code",
   "execution_count": null,
   "id": "4bdc0eeb-5de5-41ab-96ba-b01b461fd6b4",
   "metadata": {},
   "outputs": [],
   "source": []
  }
 ],
 "metadata": {
  "kernelspec": {
   "display_name": "Python 3 (ipykernel)",
   "language": "python",
   "name": "python3"
  },
  "language_info": {
   "codemirror_mode": {
    "name": "ipython",
    "version": 3
   },
   "file_extension": ".py",
   "mimetype": "text/x-python",
   "name": "python",
   "nbconvert_exporter": "python",
   "pygments_lexer": "ipython3",
   "version": "3.8.13"
  }
 },
 "nbformat": 4,
 "nbformat_minor": 5
}
