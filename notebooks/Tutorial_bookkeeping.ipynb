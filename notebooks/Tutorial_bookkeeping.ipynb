{
 "cells": [
  {
   "cell_type": "markdown",
   "id": "80ebec1b",
   "metadata": {},
   "source": [
    "# Tutorial bookkeeping\n",
    "\n",
    "In this notebook, we explain how to use the LaCE bookkeeping"
   ]
  },
  {
   "cell_type": "markdown",
   "id": "6f744aa0",
   "metadata": {},
   "source": [
    "## Read data"
   ]
  },
  {
   "cell_type": "code",
   "execution_count": 1,
   "id": "876a8d18",
   "metadata": {},
   "outputs": [],
   "source": [
    "from lace.archive.pnd_archive import archivePND"
   ]
  },
  {
   "cell_type": "markdown",
   "id": "6896d1ad",
   "metadata": {},
   "source": [
    "#### Read full post-processing, and then training data"
   ]
  },
  {
   "cell_type": "markdown",
   "id": "26c40e29",
   "metadata": {},
   "source": [
    "Cabayol23"
   ]
  },
  {
   "cell_type": "code",
   "execution_count": 6,
   "id": "1efaac7e",
   "metadata": {},
   "outputs": [
    {
     "name": "stdout",
     "output_type": "stream",
     "text": [
      "12210 12210\n",
      "9900 9900\n"
     ]
    }
   ],
   "source": [
    "archive = archivePND(postproc='Cabayol23')\n",
    "# (hypercube + special pairs) * nphases * naxes * nscalings * nsnaps\n",
    "nelem = (30 + 7) * 2 * 3 * 5 * 11\n",
    "print(len(archive.data), nelem)\n",
    "\n",
    "archive_training = archive.get_training_data()\n",
    "# hypercube * nphases * naxes * nscalings * nsnaps\n",
    "n_av_phases = 30 * 1 * 3 * 5 * 11\n",
    "n_av_axes   = 30 * 2 * 1 * 5 * 11\n",
    "n_av_all    = 30 * 1 * 1 * 5 * 11\n",
    "print(len(archive_training), n_av_phases + n_av_axes + n_av_all)"
   ]
  },
  {
   "cell_type": "markdown",
   "id": "b583a13b",
   "metadata": {},
   "source": [
    "Pedersen21"
   ]
  },
  {
   "cell_type": "code",
   "execution_count": 5,
   "id": "6a78f694",
   "metadata": {},
   "outputs": [
    {
     "name": "stdout",
     "output_type": "stream",
     "text": [
      "2178 2178\n",
      "330 330\n"
     ]
    }
   ],
   "source": [
    "archive = archivePND(postproc='Pedersen21')\n",
    "# (hypercube + special pairs) * nphases * naxes * nscalings * nsnaps\n",
    "# some special pairs have only 1 scaling\n",
    "nelem = (30 + 1) * 2 * 1 * 3 * 11 + 6 * 2 * 1 * 1 * 11\n",
    "print(len(archive.data), nelem)\n",
    "\n",
    "archive_training = archive.get_training_data()\n",
    "# hypercube * nsnaps\n",
    "nelem = 30 * 11\n",
    "print(len(archive_training), nelem)"
   ]
  },
  {
   "cell_type": "markdown",
   "id": "c38fd078",
   "metadata": {},
   "source": [
    "#### Leave-one-out dropping of sims (for first 3 sims)"
   ]
  },
  {
   "cell_type": "markdown",
   "id": "7249c9db",
   "metadata": {},
   "source": [
    "Cabayol23"
   ]
  },
  {
   "cell_type": "code",
   "execution_count": 7,
   "id": "668d4141",
   "metadata": {},
   "outputs": [],
   "source": [
    "archive = archivePND(postproc='Cabayol23')"
   ]
  },
  {
   "cell_type": "code",
   "execution_count": 10,
   "id": "74d2074d",
   "metadata": {},
   "outputs": [
    {
     "name": "stdout",
     "output_type": "stream",
     "text": [
      "9570 9570\n",
      "11 11\n"
     ]
    }
   ],
   "source": [
    "for ii in range(3):\n",
    "    archive_training = archive.get_training_data(drop_sim='mpg_'+str(ii))\n",
    "    # hypercube * nphases * naxes * nscalings * nsnaps\n",
    "    n_av_phases = (30-1) * 1 * 3 * 5 * 11\n",
    "    n_av_axes   = (30-1) * 2 * 1 * 5 * 11\n",
    "    n_av_all    = (30-1) * 1 * 1 * 5 * 11\n",
    "    print(len(archive_training), n_av_phases + n_av_axes + n_av_all)\n",
    "    \n",
    "    archive_testing = archive.get_testing_data('mpg_'+str(ii))\n",
    "    nelem = 1 * 1 * 1 * 1 * 11\n",
    "    print(len(archive_testing), nelem)"
   ]
  },
  {
   "cell_type": "markdown",
   "id": "66c74abe",
   "metadata": {},
   "source": [
    "Pedersen21"
   ]
  },
  {
   "cell_type": "code",
   "execution_count": 11,
   "id": "274f88d6",
   "metadata": {},
   "outputs": [],
   "source": [
    "archive = archivePND(postproc='Pedersen21')"
   ]
  },
  {
   "cell_type": "code",
   "execution_count": 13,
   "id": "bd855966",
   "metadata": {},
   "outputs": [
    {
     "name": "stdout",
     "output_type": "stream",
     "text": [
      "319 319\n",
      "11 11\n",
      "319 319\n",
      "11 11\n",
      "319 319\n",
      "11 11\n"
     ]
    }
   ],
   "source": [
    "for ii in range(3):\n",
    "    archive_training = archive.get_training_data(drop_sim='mpg_'+str(ii))\n",
    "    # hypercube * nphases * naxes * nscalings * nsnaps\n",
    "    nelem = (30-1) * 1 * 1 * 1 * 11\n",
    "    print(len(archive_training), nelem)\n",
    "    \n",
    "    archive_testing = archive.get_testing_data('mpg_'+str(ii))\n",
    "    nelem = 1 * 1 * 1 * 1 * 11\n",
    "    print(len(archive_testing), nelem)\n",
    "    "
   ]
  },
  {
   "cell_type": "markdown",
   "id": "5dd8d7f7",
   "metadata": {},
   "source": [
    "#### Read special simulations for testing"
   ]
  },
  {
   "cell_type": "markdown",
   "id": "ea99b187",
   "metadata": {},
   "source": [
    "Cabayol23"
   ]
  },
  {
   "cell_type": "code",
   "execution_count": 17,
   "id": "00a1207c",
   "metadata": {},
   "outputs": [],
   "source": [
    "archive = archivePND(postproc='Cabayol23')"
   ]
  },
  {
   "cell_type": "code",
   "execution_count": 18,
   "id": "5c128cf7",
   "metadata": {},
   "outputs": [
    {
     "name": "stdout",
     "output_type": "stream",
     "text": [
      "11 11 mpg_central\n",
      "11 11 mpg_seed\n",
      "11 11 mpg_growth\n",
      "11 11 mpg_neutrinos\n",
      "11 11 mpg_curved\n",
      "11 11 mpg_running\n",
      "11 11 mpg_reio\n"
     ]
    }
   ],
   "source": [
    "for sim in archive.list_sim_test:\n",
    "    archive_testing = archive.get_testing_data(sim)\n",
    "    nelem = 1 * 1 * 1 * 1 * 11\n",
    "    print(len(archive_testing), nelem, archive_testing[0]['sim_label'])"
   ]
  },
  {
   "cell_type": "markdown",
   "id": "8b0706c8",
   "metadata": {},
   "source": [
    "Pedersen21"
   ]
  },
  {
   "cell_type": "code",
   "execution_count": 19,
   "id": "b10970a3",
   "metadata": {},
   "outputs": [],
   "source": [
    "archive = archivePND(postproc='Pedersen21')"
   ]
  },
  {
   "cell_type": "code",
   "execution_count": 20,
   "id": "6e0d08d7",
   "metadata": {},
   "outputs": [
    {
     "name": "stdout",
     "output_type": "stream",
     "text": [
      "11 11 mpg_central\n",
      "11 11 mpg_seed\n",
      "11 11 mpg_growth\n",
      "11 11 mpg_neutrinos\n",
      "11 11 mpg_curved\n",
      "11 11 mpg_running\n",
      "11 11 mpg_reio\n"
     ]
    }
   ],
   "source": [
    "for sim in archive.list_sim_test:\n",
    "    archive_testing = archive.get_testing_data(sim)\n",
    "    nelem = 1 * 1 * 1 * 1 * 11\n",
    "    print(len(archive_testing), nelem, archive_testing[0]['sim_label'])"
   ]
  },
  {
   "cell_type": "code",
   "execution_count": null,
   "id": "58841bdc",
   "metadata": {},
   "outputs": [],
   "source": []
  }
 ],
 "metadata": {
  "kernelspec": {
   "display_name": "Python 3 (ipykernel)",
   "language": "python",
   "name": "python3"
  },
  "language_info": {
   "codemirror_mode": {
    "name": "ipython",
    "version": 3
   },
   "file_extension": ".py",
   "mimetype": "text/x-python",
   "name": "python",
   "nbconvert_exporter": "python",
   "pygments_lexer": "ipython3",
   "version": "3.9.13"
  }
 },
 "nbformat": 4,
 "nbformat_minor": 5
}
