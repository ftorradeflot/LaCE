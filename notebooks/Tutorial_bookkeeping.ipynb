{
 "cells": [
  {
   "cell_type": "markdown",
   "id": "80ebec1b",
   "metadata": {},
   "source": [
    "# Tutorial bookkeeping\n",
    "\n",
    "In this notebook, we explain how to use the LaCE bookkeeping"
   ]
  },
  {
   "cell_type": "code",
   "execution_count": 1,
   "id": "876a8d18",
   "metadata": {},
   "outputs": [],
   "source": [
    "from lace.archive.gadget_archive import GadgetArchive\n",
    "from lace.archive.nyx_archive import NyxArchive"
   ]
  },
  {
   "cell_type": "markdown",
   "id": "6896d1ad",
   "metadata": {},
   "source": [
    "### Read full post-processing for each archive"
   ]
  },
  {
   "cell_type": "markdown",
   "id": "a2c8e40b",
   "metadata": {},
   "source": [
    "We load all archives here, to avoid redoing these multiple times in the notebook. Then we test them one by one."
   ]
  },
  {
   "cell_type": "code",
   "execution_count": 2,
   "id": "8efe3126",
   "metadata": {},
   "outputs": [],
   "source": [
    "pedersen21_archive = GadgetArchive(postproc='Pedersen21')"
   ]
  },
  {
   "cell_type": "code",
   "execution_count": 3,
   "id": "a43dd94d",
   "metadata": {},
   "outputs": [],
   "source": [
    "cabayol23_archive = GadgetArchive(postproc='Cabayol23')"
   ]
  },
  {
   "cell_type": "code",
   "execution_count": 5,
   "id": "5d14c8b7",
   "metadata": {},
   "outputs": [],
   "source": [
    "# specify here the path to the Nyx files in your local computer (could set an environ variable)\n",
    "nyx_fname = '/Users/font/Projects/DESI/Nyx_sims/models.hdf5'\n",
    "#nyx_fname = '/home/jchaves/Proyectos/projects/lya/data/nyx/models.hdf5'\n",
    "nyx_archive = NyxArchive(file_name=nyx_fname)"
   ]
  },
  {
   "cell_type": "markdown",
   "id": "4218fadc",
   "metadata": {},
   "source": [
    "### Access training data"
   ]
  },
  {
   "cell_type": "markdown",
   "id": "b583a13b",
   "metadata": {},
   "source": [
    "#### Pedersen21"
   ]
  },
  {
   "cell_type": "code",
   "execution_count": 11,
   "id": "6a78f694",
   "metadata": {},
   "outputs": [
    {
     "name": "stdout",
     "output_type": "stream",
     "text": [
      "2178 2178\n",
      "330 330\n"
     ]
    }
   ],
   "source": [
    "archive = pedersen21_archive\n",
    "# (hypercube + special pairs) * nphases * naxes * nscalings * nsnaps\n",
    "# some special pairs have only 1 scaling\n",
    "nelem = (30 + 1) * 2 * 1 * 3 * 11 + 6 * 2 * 1 * 1 * 11\n",
    "print(len(archive.data), nelem)\n",
    "\n",
    "archive_training = archive.get_training_data()\n",
    "# hypercube * nsnaps\n",
    "nelem = 30 * 11\n",
    "print(len(archive_training), nelem)"
   ]
  },
  {
   "cell_type": "markdown",
   "id": "26c40e29",
   "metadata": {},
   "source": [
    "#### Cabayol23"
   ]
  },
  {
   "cell_type": "code",
   "execution_count": 12,
   "id": "1efaac7e",
   "metadata": {},
   "outputs": [
    {
     "name": "stdout",
     "output_type": "stream",
     "text": [
      "12210 12210\n",
      "9900 9900\n"
     ]
    }
   ],
   "source": [
    "archive = cabayol23_archive\n",
    "# (hypercube + special pairs) * nphases * naxes * nscalings * nsnaps\n",
    "nelem = (30 + 7) * 2 * 3 * 5 * 11\n",
    "print(len(archive.data), nelem)\n",
    "\n",
    "archive_training = archive.get_training_data()\n",
    "# hypercube * nphases * naxes * nscalings * nsnaps\n",
    "n_av_phases = 30 * 1 * 3 * 5 * 11\n",
    "n_av_axes   = 30 * 2 * 1 * 5 * 11\n",
    "n_av_all    = 30 * 1 * 1 * 5 * 11\n",
    "print(len(archive_training), n_av_phases + n_av_axes + n_av_all)"
   ]
  },
  {
   "cell_type": "markdown",
   "id": "8fa1c26f",
   "metadata": {},
   "source": [
    "#### Nyx"
   ]
  },
  {
   "cell_type": "code",
   "execution_count": 13,
   "id": "754dc69d",
   "metadata": {},
   "outputs": [
    {
     "name": "stdout",
     "output_type": "stream",
     "text": [
      "14490\n",
      "4305\n"
     ]
    }
   ],
   "source": [
    "archive = nyx_archive\n",
    "print(len(archive.data))\n",
    "archive_training = archive.get_training_data()\n",
    "print(len(archive_training))"
   ]
  },
  {
   "cell_type": "markdown",
   "id": "c38fd078",
   "metadata": {},
   "source": [
    "### Leave-one-out dropping of sims (for first 3 sims)"
   ]
  },
  {
   "cell_type": "markdown",
   "id": "66c74abe",
   "metadata": {},
   "source": [
    "#### Pedersen21"
   ]
  },
  {
   "cell_type": "code",
   "execution_count": 14,
   "id": "bd855966",
   "metadata": {},
   "outputs": [
    {
     "name": "stdout",
     "output_type": "stream",
     "text": [
      "319 319\n",
      "11 11\n",
      "319 319\n",
      "11 11\n",
      "319 319\n",
      "11 11\n"
     ]
    }
   ],
   "source": [
    "archive = pedersen21_archive\n",
    "for ii in range(3):\n",
    "    archive_training = archive.get_training_data(drop_sim='mpg_'+str(ii))\n",
    "    # hypercube * nphases * naxes * nscalings * nsnaps\n",
    "    nelem = (30-1) * 1 * 1 * 1 * 11\n",
    "    print(len(archive_training), nelem)\n",
    "    \n",
    "    archive_testing = archive.get_testing_data('mpg_'+str(ii))\n",
    "    nelem = 1 * 1 * 1 * 1 * 11\n",
    "    print(len(archive_testing), nelem)    "
   ]
  },
  {
   "cell_type": "markdown",
   "id": "7249c9db",
   "metadata": {},
   "source": [
    "#### Cabayol23"
   ]
  },
  {
   "cell_type": "code",
   "execution_count": 15,
   "id": "74d2074d",
   "metadata": {},
   "outputs": [
    {
     "name": "stdout",
     "output_type": "stream",
     "text": [
      "9570 9570\n",
      "11 11\n",
      "9570 9570\n",
      "11 11\n",
      "9570 9570\n",
      "11 11\n"
     ]
    }
   ],
   "source": [
    "archive = cabayol23_archive\n",
    "for ii in range(3):\n",
    "    archive_training = archive.get_training_data(drop_sim='mpg_'+str(ii))\n",
    "    # hypercube * nphases * naxes * nscalings * nsnaps\n",
    "    n_av_phases = (30-1) * 1 * 3 * 5 * 11\n",
    "    n_av_axes   = (30-1) * 2 * 1 * 5 * 11\n",
    "    n_av_all    = (30-1) * 1 * 1 * 5 * 11\n",
    "    print(len(archive_training), n_av_phases + n_av_axes + n_av_all)\n",
    "    \n",
    "    archive_testing = archive.get_testing_data('mpg_'+str(ii))\n",
    "    nelem = 1 * 1 * 1 * 1 * 11\n",
    "    print(len(archive_testing), nelem)"
   ]
  },
  {
   "cell_type": "markdown",
   "id": "0dad86f5",
   "metadata": {},
   "source": [
    "#### Nyx"
   ]
  },
  {
   "cell_type": "code",
   "execution_count": 16,
   "id": "e64db6bb",
   "metadata": {},
   "outputs": [
    {
     "name": "stdout",
     "output_type": "stream",
     "text": [
      "3998\n",
      "15\n",
      "3981\n",
      "16\n",
      "3998\n",
      "15\n"
     ]
    }
   ],
   "source": [
    "archive = nyx_archive\n",
    "for ii in range(3):\n",
    "    archive_training = archive.get_training_data(drop_sim='nyx_'+str(ii))\n",
    "    print(len(archive_training))\n",
    "    \n",
    "    archive_testing = archive.get_testing_data('nyx_'+str(ii))\n",
    "    print(len(archive_testing))    "
   ]
  },
  {
   "cell_type": "markdown",
   "id": "5dd8d7f7",
   "metadata": {},
   "source": [
    "### Read special simulations for testing"
   ]
  },
  {
   "cell_type": "markdown",
   "id": "ea99b187",
   "metadata": {},
   "source": [
    "#### Cabayol23"
   ]
  },
  {
   "cell_type": "code",
   "execution_count": 17,
   "id": "5c128cf7",
   "metadata": {},
   "outputs": [
    {
     "name": "stdout",
     "output_type": "stream",
     "text": [
      "11 11 mpg_central\n",
      "11 11 mpg_seed\n",
      "11 11 mpg_growth\n",
      "11 11 mpg_neutrinos\n",
      "11 11 mpg_curved\n",
      "11 11 mpg_running\n",
      "11 11 mpg_reio\n"
     ]
    }
   ],
   "source": [
    "archive = cabayol23_archive\n",
    "for sim in archive.list_sim_test:\n",
    "    archive_testing = archive.get_testing_data(sim)\n",
    "    nelem = 1 * 1 * 1 * 1 * 11\n",
    "    print(len(archive_testing), nelem, archive_testing[0]['sim_label'])"
   ]
  },
  {
   "cell_type": "markdown",
   "id": "8b0706c8",
   "metadata": {},
   "source": [
    "#### Pedersen21"
   ]
  },
  {
   "cell_type": "code",
   "execution_count": 18,
   "id": "6e0d08d7",
   "metadata": {},
   "outputs": [
    {
     "name": "stdout",
     "output_type": "stream",
     "text": [
      "11 11 mpg_central\n",
      "11 11 mpg_seed\n",
      "11 11 mpg_growth\n",
      "11 11 mpg_neutrinos\n",
      "11 11 mpg_curved\n",
      "11 11 mpg_running\n",
      "11 11 mpg_reio\n"
     ]
    }
   ],
   "source": [
    "archive = pedersen21_archive\n",
    "for sim in archive.list_sim_test:\n",
    "    archive_testing = archive.get_testing_data(sim)\n",
    "    nelem = 1 * 1 * 1 * 1 * 11\n",
    "    print(len(archive_testing), nelem, archive_testing[0]['sim_label'])"
   ]
  },
  {
   "cell_type": "markdown",
   "id": "b72275e0",
   "metadata": {},
   "source": [
    "#### Nyx"
   ]
  },
  {
   "cell_type": "code",
   "execution_count": 19,
   "id": "6240562f",
   "metadata": {},
   "outputs": [
    {
     "name": "stdout",
     "output_type": "stream",
     "text": [
      "15 nyx_seed\n",
      "15 nyx_wdm\n"
     ]
    }
   ],
   "source": [
    "archive = nyx_archive\n",
    "for sim in archive.list_sim_test:\n",
    "    # no \"unscaled\" measurement for this simulation\n",
    "    if sim == 'nyx_central':\n",
    "        continue\n",
    "    archive_testing = archive.get_testing_data(sim)\n",
    "    print(len(archive_testing), archive_testing[0]['sim_label'])"
   ]
  },
  {
   "cell_type": "code",
   "execution_count": null,
   "id": "3db3b257",
   "metadata": {},
   "outputs": [],
   "source": []
  },
  {
   "cell_type": "code",
   "execution_count": null,
   "id": "21df6129",
   "metadata": {},
   "outputs": [],
   "source": []
  }
 ],
 "metadata": {
  "kernelspec": {
   "display_name": "Python 3 (ipykernel)",
   "language": "python",
   "name": "python3"
  },
  "language_info": {
   "codemirror_mode": {
    "name": "ipython",
    "version": 3
   },
   "file_extension": ".py",
   "mimetype": "text/x-python",
   "name": "python",
   "nbconvert_exporter": "python",
   "pygments_lexer": "ipython3",
   "version": "3.9.13"
  }
 },
 "nbformat": 4,
 "nbformat_minor": 5
}
