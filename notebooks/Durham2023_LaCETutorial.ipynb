{
 "cells": [
  {
   "cell_type": "markdown",
   "id": "3f09e7ed-deb5-46f6-8887-21015c4af8e4",
   "metadata": {},
   "source": [
    "# THE LaCE EMULATORS WITH GADGET AND NYX SIMULATIONS"
   ]
  },
  {
   "cell_type": "markdown",
   "id": "f142bda5",
   "metadata": {},
   "source": [
    "A new version of the LaCE emulators including Nyx simulations is now available in igmhub/LaCE: https://github.com/igmhub/LaCE\n"
   ]
  },
  {
   "cell_type": "code",
   "execution_count": 1,
   "id": "6c9850f6-212c-4fd0-9219-1ba63995b8a4",
   "metadata": {},
   "outputs": [],
   "source": [
    "import os, sys\n",
    "import numpy as np\n",
    "from matplotlib import pyplot as plt"
   ]
  },
  {
   "cell_type": "code",
   "execution_count": 2,
   "id": "d4c16357-66d2-45d9-bbd3-55c142eb77c6",
   "metadata": {},
   "outputs": [],
   "source": [
    "# load LaCE-related modules\n",
    "from lace.archive import gadget_archive\n",
    "from lace.archive import nyx_archive\n",
    "from lace.emulator.nn_emulator import NNEmulator\n",
    "from lace.emulator.gp_emulator import GPEmulator\n",
    "from lace.emulator import poly_p1d"
   ]
  },
  {
   "cell_type": "markdown",
   "id": "46dc519b-8625-4783-bb54-d3aba6a6abe2",
   "metadata": {},
   "source": [
    "## GENERAL USAGE"
   ]
  },
  {
   "cell_type": "markdown",
   "id": "b5718fa7-88d1-4af8-809f-c6df2eecda23",
   "metadata": {},
   "source": [
    "There are two emulator objects:\n",
    "- GPEmulator(**args)\n",
    "- NNEmulator(**args)\n",
    "\n",
    "And for both, we can call them specifying:\n",
    "- A custom archive that we have externally generated\n",
    "- A training set label (training_set), pointing the emulator to a pre-defined training set.\n",
    "\n",
    "There is also the option of defining a pre-defined emulator with the same configuration as the emulator used in a given publication"
   ]
  },
  {
   "cell_type": "markdown",
   "id": "7aba7fb3-dd2f-41d9-bae2-92463126fa1d",
   "metadata": {},
   "source": [
    "## EXAMPLES"
   ]
  },
  {
   "cell_type": "markdown",
   "id": "cbb061cb-f4f1-4874-84f7-d8ea9eb730fe",
   "metadata": {},
   "source": [
    "### A. HOW TO CREATE AN ARCHIVE"
   ]
  },
  {
   "cell_type": "code",
   "execution_count": 3,
   "id": "d5987536-0c55-47eb-bb80-80ee34fb87fa",
   "metadata": {},
   "outputs": [],
   "source": [
    "# Gadget archive with the post-processing using in Pedersen21\n",
    "mpg_arch_P21 = gadget_archive.GadgetArchive(postproc=\"Pedersen21\")"
   ]
  },
  {
   "cell_type": "markdown",
   "id": "97e59fb7-e73e-4a4a-8930-fc7952a29619",
   "metadata": {},
   "source": [
    "In the post-processing in Pedersen21, the P1D is measured along one axis, while in Cabayol23, we measure the P1D along the three axes."
   ]
  },
  {
   "cell_type": "code",
   "execution_count": 4,
   "id": "aa682864-0d6f-4c11-9cca-5d9642f0a51c",
   "metadata": {},
   "outputs": [],
   "source": [
    "# Gadget archive with the post-processing using in Cabayol23\n",
    "mpg_arch_C23 = gadget_archive.GadgetArchive(postproc=\"Cabayol23\")"
   ]
  },
  {
   "cell_type": "code",
   "execution_count": 5,
   "id": "c22ab98f-dd16-4e28-acb3-81faf15bf08e",
   "metadata": {
    "tags": []
   },
   "outputs": [],
   "source": [
    "# Nyx archive provided by Solene Chabanier (this function takes a while, so you can limit the z range)\n",
    "nyx_arch = nyx_archive.NyxArchive(zmax=4.1,verbose=False)"
   ]
  },
  {
   "cell_type": "markdown",
   "id": "ec07d441-4f97-4fda-b967-8fcfcbbe073a",
   "metadata": {},
   "source": [
    "### B. HOW TO CREATE AN EMULATOR"
   ]
  },
  {
   "cell_type": "markdown",
   "id": "e8d56c34-5a3b-4240-a0cb-03ebcc631724",
   "metadata": {},
   "source": [
    "When calling an emulator, we can choose the settings, or ask for a pre-defined emulator's configuration.\n",
    "There are three possibilities:\n",
    "\n",
    "    - Pedersen21: Configuration used in Pedersen21. kmax=3, kbin emulator (available for GP).\n",
    "    - Pedersen23: Configuration used in Pedersen23. kmax=3, polyfit emulator (available for GP).\n",
    "    - Cabayol23: Configuration used in Cabayol-Garcia 2023. kmax=4, polyfit emulator (available for NN)."
   ]
  },
  {
   "cell_type": "markdown",
   "id": "427a45e8-609c-4c76-b7dc-db8fb4af1e76",
   "metadata": {},
   "source": [
    "This creates a GP emulator with the default configuration from Pedersen21"
   ]
  },
  {
   "cell_type": "code",
   "execution_count": 6,
   "id": "17d9bd01-041e-440b-b227-f77541fa0a8c",
   "metadata": {},
   "outputs": [
    {
     "name": "stdout",
     "output_type": "stream",
     "text": [
      "Use custom archive provided by the user\n",
      "Select emulator in Pedersen21\n",
      "Gaussian Process emulator predicting the P1D at each k-bin. It goes to scales of 3Mpc^{-1} and z<=4.5. The parameters passed to the emulator will be overwritten to match these ones.\n"
     ]
    },
    {
     "name": "stderr",
     "output_type": "stream",
     "text": [
      " /Users/font/opt/anaconda3/envs/lace_env/lib/python3.8/site-packages/paramz/parameterized.py:61: RuntimeWarning:Don't forget to initialize by self.initialize_parameter()!\n"
     ]
    },
    {
     "name": "stdout",
     "output_type": "stream",
     "text": [
      "Training GP on 330 points\n",
      "GPs optimised in 1.29 seconds\n"
     ]
    }
   ],
   "source": [
    "gp_emu_P21 = GPEmulator(archive=mpg_arch_P21,emulator_label='Pedersen21')"
   ]
  },
  {
   "cell_type": "markdown",
   "id": "e3bad555",
   "metadata": {},
   "source": [
    "This creates a GP emulator with the default configuration from Pedersen23 (same archive, different settings)"
   ]
  },
  {
   "cell_type": "code",
   "execution_count": 7,
   "id": "5ed417a8",
   "metadata": {},
   "outputs": [
    {
     "name": "stdout",
     "output_type": "stream",
     "text": [
      "Use custom archive provided by the user\n",
      "Select emulator in Pedersen23\n",
      "Gaussian Process emulator predicting the optimal P1Dfitting coefficients to a 5th degree polynomial. It goes to scales of 4Mpc^{-1} and z<=4.5. The parameters passed to the emulator will be overwritten to match these ones\n",
      "Training GP on 330 points\n",
      "GPs optimised in 0.57 seconds\n"
     ]
    }
   ],
   "source": [
    "gp_emu_P23 = GPEmulator(archive=mpg_arch_P21,emulator_label='Pedersen23')"
   ]
  },
  {
   "cell_type": "markdown",
   "id": "bfdbe1a0",
   "metadata": {},
   "source": [
    "This creates a NN emulator with the default configuration of Cabayol23"
   ]
  },
  {
   "cell_type": "code",
   "execution_count": 8,
   "id": "2ddf3431-74cf-49e4-8a97-318291d3a7a8",
   "metadata": {},
   "outputs": [
    {
     "name": "stdout",
     "output_type": "stream",
     "text": [
      "Select emulator in Cabayol23\n",
      "Neural network emulating the optimal P1D of Gadget simulations fitting coefficients to a 5th degree polynomial. It goes to scales of 4Mpc^{-1} and z<=4.5. The parameters passed to the emulator will be overwritten to match these ones\n",
      "Use custom archive provided by the user\n",
      "Training samples in archive : 9900\n"
     ]
    }
   ],
   "source": [
    "nn_emu_C23 = NNEmulator(archive=mpg_arch_C23, emulator_label='Cabayol23')"
   ]
  },
  {
   "cell_type": "markdown",
   "id": "8019a0e1",
   "metadata": {},
   "source": [
    "This creates a NN emulator with settings similar to those used in Cabayol23"
   ]
  },
  {
   "cell_type": "code",
   "execution_count": 9,
   "id": "d68363ad",
   "metadata": {},
   "outputs": [
    {
     "name": "stdout",
     "output_type": "stream",
     "text": [
      "Selected custom emulator\n",
      "Use custom archive provided by the user\n",
      "Training samples in archive : 2932\n"
     ]
    }
   ],
   "source": [
    "fast_training=True\n",
    "if fast_training:\n",
    "    # Nyx does not use kF_Mpc, we need to use instead lambda_P\n",
    "    emu_params = [\"Delta2_p\", \"n_p\", \"mF\", \"sigT_Mpc\", \"gamma\", \"lambda_P\"]\n",
    "    # the emulator performance will not be super good here\n",
    "    nn_emu_nyx = NNEmulator(archive=nyx_arch, emu_params=emu_params)\n",
    "else:\n",
    "    # this might take a while to train...\n",
    "    nn_emu_nyx = NNEmulator(archive=nyx_arch, emulator_label='Cabayol23_Nyx')"
   ]
  },
  {
   "cell_type": "markdown",
   "id": "c697fca2-396c-47dd-b7dc-0e1b70e92435",
   "metadata": {},
   "source": [
    "### C. POINTING ALSO TO A PRE-DEFINED TRAINING SET"
   ]
  },
  {
   "cell_type": "markdown",
   "id": "38841c85",
   "metadata": {},
   "source": [
    "You can also specify the training set instead of passing an archive. If you want to test this, set load_training=True (it will take some time to run)"
   ]
  },
  {
   "cell_type": "code",
   "execution_count": 10,
   "id": "b00aefe6",
   "metadata": {},
   "outputs": [],
   "source": [
    "load_training=False"
   ]
  },
  {
   "cell_type": "code",
   "execution_count": 11,
   "id": "f2bb9212-e83d-4a15-8755-aed1e3e75b46",
   "metadata": {},
   "outputs": [],
   "source": [
    "if load_training:\n",
    "    gp_emu_P21 = GPEmulator(training_set='Pedersen21', emulator_label='Pedersen21')"
   ]
  },
  {
   "cell_type": "code",
   "execution_count": 12,
   "id": "5a38d603-4422-498e-b4b2-acfe5bd2d2f5",
   "metadata": {},
   "outputs": [],
   "source": [
    "if load_training:\n",
    "    gp_emu_P23 = GPEmulator(training_set='Pedersen21', emulator_label='Pedersen23')"
   ]
  },
  {
   "cell_type": "code",
   "execution_count": 13,
   "id": "5070a571-db1a-4ac2-ba98-863b79d4adfc",
   "metadata": {},
   "outputs": [],
   "source": [
    "if load_training:\n",
    "    nn_emu_C23 = NNEmulator(training_set='Cabayol23', emulator_label='Cabayol23')"
   ]
  },
  {
   "cell_type": "code",
   "execution_count": 14,
   "id": "1544f271-a5ee-4c34-9cd8-6657b69e8ae5",
   "metadata": {},
   "outputs": [],
   "source": [
    "if load_training:\n",
    "    nn_emu_nyx = NNEmulator(training_set='Nyx23', emulator_label='Cabayol23_Nyx')"
   ]
  },
  {
   "cell_type": "markdown",
   "id": "f38bf95c-8909-4603-b19c-b1f9910ef840",
   "metadata": {},
   "source": [
    "### TESTING THE EMULATOR"
   ]
  },
  {
   "cell_type": "markdown",
   "id": "18d69651",
   "metadata": {},
   "source": [
    "One can also ask the archives for a testing set (a simulation not included in the emulator training)"
   ]
  },
  {
   "cell_type": "code",
   "execution_count": 15,
   "id": "8331d52c-df75-4ed5-86cd-6c34ac6e3087",
   "metadata": {},
   "outputs": [],
   "source": [
    "mpg_test_P21 = mpg_arch_P21.get_testing_data(sim_label='mpg_central')"
   ]
  },
  {
   "cell_type": "code",
   "execution_count": 16,
   "id": "de179aa6",
   "metadata": {},
   "outputs": [],
   "source": [
    "mpg_test_C23 = mpg_arch_C23.get_testing_data(sim_label='mpg_neutrinos')"
   ]
  },
  {
   "cell_type": "code",
   "execution_count": 17,
   "id": "3b80b141",
   "metadata": {},
   "outputs": [],
   "source": [
    "nyx_test = nyx_arch.get_testing_data(sim_label='nyx_3')"
   ]
  },
  {
   "cell_type": "code",
   "execution_count": 18,
   "id": "f5c0a103",
   "metadata": {},
   "outputs": [],
   "source": [
    "def emulator_vs_true(emulator, test_data, iz=0, plot_ratio=True, smooth_test=True):\n",
    "    \n",
    "    # get true P1D in test data (over a certain k range)\n",
    "    k_Mpc = test_data[iz]['k_Mpc']\n",
    "    test_p1d = test_data[iz]['p1d_Mpc']\n",
    "    \n",
    "    # k range used in plot\n",
    "    mask = (k_Mpc>0) & (k_Mpc<emulator.kmax_Mpc)\n",
    "    k_Mpc = k_Mpc[mask]\n",
    "    test_p1d = test_p1d[mask]\n",
    "\n",
    "    # if smooth_test, use polynomial fit to the test data as truth (as assumed by emulator)\n",
    "    fit_p1d = poly_p1d.PolyP1D(k_Mpc,test_p1d,deg=emulator.ndeg)\n",
    "    test_p1d = fit_p1d.P_Mpc(k_Mpc)\n",
    "\n",
    "    # get emulator parameter values of the test data\n",
    "    model={}\n",
    "    for param in emulator.emu_params:\n",
    "        model[param]=test_data[iz][param]\n",
    "        print(param,model[param])\n",
    "    \n",
    "    # make emulator prediction\n",
    "    emu_p1d = emulator.emulate_p1d_Mpc(model,k_Mpc)\n",
    "\n",
    "    if plot_ratio:\n",
    "        plt.plot(k_Mpc,emu_p1d/test_p1d-1.0)\n",
    "        plt.plot(k_Mpc,k_Mpc*0.0,ls=':',color='gray')\n",
    "        plt.ylabel(r'P1D residuals', fontsize = 14)\n",
    "    else:\n",
    "        plt.plot(k_Mpc,emu_p1d,label='emulated')\n",
    "        plt.plot(k_Mpc,test_p1d,label='true')\n",
    "        plt.legend(fontsize = 14)\n",
    "        plt.ylabel(r'P1D [Mpc]', fontsize = 14)\n",
    "    plt.xlabel(r'$k$ [1/Mpc]', fontsize = 14)"
   ]
  },
  {
   "cell_type": "code",
   "execution_count": 19,
   "id": "b8bcf012",
   "metadata": {},
   "outputs": [
    {
     "name": "stdout",
     "output_type": "stream",
     "text": [
      "mF 0.594053238064041\n",
      "sigT_Mpc 0.1268464296335079\n",
      "gamma 1.4976862040208383\n",
      "kF_Mpc 11.064299239950309\n",
      "Delta2_p 0.3107109675962954\n",
      "n_p -2.300054268279585\n"
     ]
    },
    {
     "data": {
      "image/png": "[encoded data removed]",
      "text/plain": [
       "<Figure size 432x288 with 1 Axes>"
      ]
     },
     "metadata": {
      "needs_background": "light"
     },
     "output_type": "display_data"
    }
   ],
   "source": [
    "emulator_vs_true(gp_emu_P23,mpg_test_P21,iz=5,plot_ratio=True)"
   ]
  },
  {
   "cell_type": "code",
   "execution_count": 20,
   "id": "53e2615b",
   "metadata": {},
   "outputs": [
    {
     "name": "stdout",
     "output_type": "stream",
     "text": [
      "Delta2_p 0.3112494853310696\n",
      "n_p -2.3004520418815004\n",
      "mF 0.5989005061125677\n",
      "sigT_Mpc 0.12510472146509544\n",
      "gamma 1.4977820748005977\n",
      "kF_Mpc 11.20642749115004\n"
     ]
    },
    {
     "data": {
      "image/png": "[encoded data removed]",
      "text/plain": [
       "<Figure size 432x288 with 1 Axes>"
      ]
     },
     "metadata": {
      "needs_background": "light"
     },
     "output_type": "display_data"
    }
   ],
   "source": [
    "emulator_vs_true(nn_emu_C23,mpg_test_C23,iz=5,plot_ratio=True)"
   ]
  },
  {
   "cell_type": "code",
   "execution_count": 21,
   "id": "4c038b22",
   "metadata": {},
   "outputs": [
    {
     "name": "stdout",
     "output_type": "stream",
     "text": [
      "Delta2_p 0.5483599187997553\n",
      "n_p -2.2570609447076992\n",
      "mF 0.7701247966666666\n",
      "sigT_Mpc 0.12015619655173025\n",
      "gamma 1.5816565\n",
      "lambda_P 63.23277843461321\n"
     ]
    },
    {
     "data": {
      "image/png": "[encoded data removed]",
      "text/plain": [
       "<Figure size 432x288 with 1 Axes>"
      ]
     },
     "metadata": {
      "needs_background": "light"
     },
     "output_type": "display_data"
    }
   ],
   "source": [
    "emulator_vs_true(nn_emu_nyx,nyx_test,iz=2,plot_ratio=True)"
   ]
  },
  {
   "cell_type": "code",
   "execution_count": null,
   "id": "b6b7af57",
   "metadata": {},
   "outputs": [],
   "source": []
  }
 ],
 "metadata": {
  "kernelspec": {
   "display_name": "Python 3 (ipykernel)",
   "language": "python",
   "name": "python3"
  },
  "language_info": {
   "codemirror_mode": {
    "name": "ipython",
    "version": 3
   },
   "file_extension": ".py",
   "mimetype": "text/x-python",
   "name": "python",
   "nbconvert_exporter": "python",
   "pygments_lexer": "ipython3",
   "version": "3.8.13"
  }
 },
 "nbformat": 4,
 "nbformat_minor": 5
}
