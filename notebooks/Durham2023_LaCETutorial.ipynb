{
 "cells": [
  {
   "cell_type": "markdown",
   "id": "3f09e7ed-deb5-46f6-8887-21015c4af8e4",
   "metadata": {},
   "source": [
    "# THE LaCE EMULATORS WITH GADGET AND NYX SIMULATIONS"
   ]
  },
  {
   "cell_type": "code",
   "execution_count": 1,
   "id": "6c9850f6-212c-4fd0-9219-1ba63995b8a4",
   "metadata": {},
   "outputs": [],
   "source": [
    "import os, sys\n",
    "import numpy as np\n",
    "from matplotlib import pyplot as plt"
   ]
  },
  {
   "cell_type": "code",
   "execution_count": 2,
   "id": "d4c16357-66d2-45d9-bbd3-55c142eb77c6",
   "metadata": {},
   "outputs": [
    {
     "name": "stderr",
     "output_type": "stream",
     "text": [
      "/data/astro/scratch/lcabayol/anaconda3/envs/DESIenv6/lib/python3.10/site-packages/tqdm/auto.py:21: TqdmWarning: IProgress not found. Please update jupyter and ipywidgets. See https://ipywidgets.readthedocs.io/en/stable/user_install.html\n",
      "  from .autonotebook import tqdm as notebook_tqdm\n"
     ]
    }
   ],
   "source": [
    "# our modules\n",
    "from lace.archive import gadget_archive\n",
    "from lace.archive import nyx_archive\n",
    "from lace.emulator.nn_emulator import NNEmulator\n",
    "from lace.emulator.gp_emulator import GPEmulator\n",
    "from lace.emulator import poly_p1d\n"
   ]
  },
  {
   "cell_type": "markdown",
   "id": "adacc593-c641-4a9f-bc80-ac70f1556ebe",
   "metadata": {},
   "source": [
    "#### A new version of the LaCE emulators including is now available in igmhub/LaCE: https://github.com/igmhub/LaCE\n"
   ]
  },
  {
   "cell_type": "markdown",
   "id": "46dc519b-8625-4783-bb54-d3aba6a6abe2",
   "metadata": {},
   "source": [
    "## GENERAL USAGE"
   ]
  },
  {
   "cell_type": "markdown",
   "id": "b5718fa7-88d1-4af8-809f-c6df2eecda23",
   "metadata": {},
   "source": [
    "There are two emulator objects:\n",
    "- GPEmulator(**args)\n",
    "- NNEmulator(**args)\n",
    "\n",
    "And for both, we can call them specifying:\n",
    "- A custom archive that we have externally generated\n",
    "- A training set label (training_set), pointing the emulator to a pre-defined training set.\n",
    "\n",
    "There is also the option of defining a pre-defined emulator with the same configuration as the emulator used in a given publication"
   ]
  },
  {
   "cell_type": "markdown",
   "id": "7aba7fb3-dd2f-41d9-bae2-92463126fa1d",
   "metadata": {},
   "source": [
    "## EXAMPLES"
   ]
  },
  {
   "cell_type": "markdown",
   "id": "cbb061cb-f4f1-4874-84f7-d8ea9eb730fe",
   "metadata": {},
   "source": [
    "### A. HOW TO CREATE AN ARCHIVE"
   ]
  },
  {
   "cell_type": "code",
   "execution_count": 6,
   "id": "d5987536-0c55-47eb-bb80-80ee34fb87fa",
   "metadata": {},
   "outputs": [],
   "source": [
    "# Gadget archive with the post-processing using in Pedersen21\n",
    "archive = gadget_archive.GadgetArchive(postproc=\"Pedersen21\")"
   ]
  },
  {
   "cell_type": "code",
   "execution_count": 4,
   "id": "aa682864-0d6f-4c11-9cca-5d9642f0a51c",
   "metadata": {},
   "outputs": [],
   "source": [
    "# Gadget archive with the post-processing using in Cabayol23\n",
    "archive = gadget_archive.GadgetArchive(postproc=\"Cabayol23\")"
   ]
  },
  {
   "cell_type": "markdown",
   "id": "97e59fb7-e73e-4a4a-8930-fc7952a29619",
   "metadata": {},
   "source": [
    "In the post-processing in Pedersen21, the P1D is measured along one axis, while in Cabayol23, we measure the P1D along the trhee axes."
   ]
  },
  {
   "cell_type": "code",
   "execution_count": 15,
   "id": "c22ab98f-dd16-4e28-acb3-81faf15bf08e",
   "metadata": {
    "tags": []
   },
   "outputs": [
    {
     "name": "stderr",
     "output_type": "stream",
     "text": [
      "\n",
      "KeyboardInterrupt\n",
      "\n"
     ]
    }
   ],
   "source": [
    "# Gadget archive with the post-processing using in Cabayol23\n",
    "archive = nyx_archive.NyxArchive()"
   ]
  },
  {
   "cell_type": "markdown",
   "id": "ec07d441-4f97-4fda-b967-8fcfcbbe073a",
   "metadata": {},
   "source": [
    "### B. HOW TO CALL AN EMULATOR"
   ]
  },
  {
   "cell_type": "markdown",
   "id": "427a45e8-609c-4c76-b7dc-db8fb4af1e76",
   "metadata": {},
   "source": [
    "This emulators will use the default configuration from Pedersen21 and Cabayol23 respectively."
   ]
  },
  {
   "cell_type": "code",
   "execution_count": 7,
   "id": "17d9bd01-041e-440b-b227-f77541fa0a8c",
   "metadata": {},
   "outputs": [
    {
     "name": "stdout",
     "output_type": "stream",
     "text": [
      "Use custom archive provided by the user\n",
      "Selected custom emulator\n",
      "Training GP on 330 points\n",
      "GPs optimised in 0.85 seconds\n"
     ]
    }
   ],
   "source": [
    "emulator_gp = GPEmulator(archive=archive)"
   ]
  },
  {
   "cell_type": "code",
   "execution_count": 9,
   "id": "2ddf3431-74cf-49e4-8a97-318291d3a7a8",
   "metadata": {},
   "outputs": [
    {
     "name": "stdout",
     "output_type": "stream",
     "text": [
      "Selected custom emulator\n",
      "Use custom archive provided by the user\n"
     ]
    }
   ],
   "source": [
    "emulator_nn = NNEmulator(archive=archive, nepochs=1)"
   ]
  },
  {
   "cell_type": "markdown",
   "id": "88a4d2ae-fcd4-41d7-ab1f-83cd0034b4e1",
   "metadata": {},
   "source": [
    "### B. HOW TO CALL A PRE-DEFINED EMULATOR"
   ]
  },
  {
   "cell_type": "markdown",
   "id": "e8d56c34-5a3b-4240-a0cb-03ebcc631724",
   "metadata": {},
   "source": [
    "When calling an emulator, we can also call a pre-defined emulator's configuration.\n",
    "There are three possibilities:\n",
    "\n",
    "    - Pedersen21: Configuration used in Pedersen21. kmax=3, kbin emulator (available for GP).\n",
    "    - Pedesern23: Configuration used in Pedersen23. kmax=4, polyfit emulator (available for GP).\n",
    "    - Cabayol23: Configuration used in Cabayol-Garcia 2023. kmax=4, polyfit emulator (available for NN)."
   ]
  },
  {
   "cell_type": "code",
   "execution_count": 12,
   "id": "a3260c8e-9f29-4993-bea2-9f816b652711",
   "metadata": {},
   "outputs": [
    {
     "name": "stdout",
     "output_type": "stream",
     "text": [
      "Use custom archive provided by the user\n",
      "Select emulator in Pedersen21\n",
      "Gaussian Process emulator predicting the P1D at each k-bin. It goes to scales of 3Mpc^{-1} and z<4.5. The parameters passed to the emulator will be overwritten to match these ones.\n",
      "Training GP on 330 points\n",
      "GPs optimised in 1.80 seconds\n"
     ]
    }
   ],
   "source": [
    "emulator_gp = GPEmulator(archive=archive, emulator_label='Pedersen21')"
   ]
  },
  {
   "cell_type": "code",
   "execution_count": 13,
   "id": "f4d60990-9308-4ef2-a351-e717af8eb4ee",
   "metadata": {},
   "outputs": [
    {
     "name": "stdout",
     "output_type": "stream",
     "text": [
      "Select emulator in Cabayol23\n",
      "Neural network emulating the optimal P1D of Gadget simulations fitting coefficients to a 5th degree polynomial. It goes to scales of 4Mpc^{-1} and z<4.5. The parameters passed to the emulator will be overwritten to match these ones\n",
      "Use custom archive provided by the user\n"
     ]
    }
   ],
   "source": [
    "emulator_nn = NNEmulator(archive=archive, emulator_label='Cabayol23')"
   ]
  },
  {
   "cell_type": "markdown",
   "id": "c697fca2-396c-47dd-b7dc-0e1b70e92435",
   "metadata": {},
   "source": [
    "### C. POINTING ALSO TO A PRE-DEFINED TRAINING SET"
   ]
  },
  {
   "cell_type": "code",
   "execution_count": 14,
   "id": "f2bb9212-e83d-4a15-8755-aed1e3e75b46",
   "metadata": {},
   "outputs": [
    {
     "name": "stdout",
     "output_type": "stream",
     "text": [
      "Selected training set from Pedersen21\n",
      "Select emulator in Pedersen21\n",
      "Gaussian Process emulator predicting the P1D at each k-bin. It goes to scales of 3Mpc^{-1} and z<4.5. The parameters passed to the emulator will be overwritten to match these ones.\n",
      "Training GP on 330 points\n",
      "GPs optimised in 1.71 seconds\n"
     ]
    }
   ],
   "source": [
    "emulator_gp = GPEmulator(training_set='Pedersen21', emulator_label='Pedersen21')"
   ]
  },
  {
   "cell_type": "code",
   "execution_count": 15,
   "id": "5070a571-db1a-4ac2-ba98-863b79d4adfc",
   "metadata": {},
   "outputs": [
    {
     "name": "stdout",
     "output_type": "stream",
     "text": [
      "Selected training set from Cabayol23\n",
      "Select emulator in Cabayol23\n",
      "Neural network emulating the optimal P1D of Gadget simulations fitting coefficients to a 5th degree polynomial. It goes to scales of 4Mpc^{-1} and z<4.5. The parameters passed to the emulator will be overwritten to match these ones\n"
     ]
    }
   ],
   "source": [
    "emulator_nn = NNEmulator(training_set='Cabayol23', emulator_label='Cabayol23')"
   ]
  },
  {
   "cell_type": "code",
   "execution_count": 16,
   "id": "5a38d603-4422-498e-b4b2-acfe5bd2d2f5",
   "metadata": {},
   "outputs": [
    {
     "name": "stdout",
     "output_type": "stream",
     "text": [
      "Selected training set from Pedersen21\n",
      "Select emulator in Cabayol23\n",
      "Neural network emulating the optimal P1D of Gadget simulations fitting coefficients to a 5th degree polynomial. It goes to scales of 4Mpc^{-1} and z<4.5. The parameters passed to the emulator will be overwritten to match these ones\n"
     ]
    }
   ],
   "source": [
    "emulator_nn = NNEmulator(training_set='Pedersen21', emulator_label='Cabayol23')"
   ]
  },
  {
   "cell_type": "code",
   "execution_count": null,
   "id": "1544f271-a5ee-4c34-9cd8-6657b69e8ae5",
   "metadata": {},
   "outputs": [],
   "source": [
    "emulator_nn = NNEmulator(training_set='Nyx', emulator_label='Cabayol23_Nyx')"
   ]
  },
  {
   "cell_type": "markdown",
   "id": "f38bf95c-8909-4603-b19c-b1f9910ef840",
   "metadata": {},
   "source": [
    "### TESTING THE EMULATOR"
   ]
  },
  {
   "cell_type": "code",
   "execution_count": 18,
   "id": "8331d52c-df75-4ed5-86cd-6c34ac6e3087",
   "metadata": {},
   "outputs": [
    {
     "data": {
      "text/plain": [
       "11"
      ]
     },
     "execution_count": 18,
     "metadata": {},
     "output_type": "execute_result"
    }
   ],
   "source": [
    "archive = gadget_archive.GadgetArchive(postproc=\"Pedersen21\")\n",
    "testing_data = archive.get_testing_data(sim_label='mpg_central')\n",
    "len(testing_data)"
   ]
  },
  {
   "cell_type": "code",
   "execution_count": 19,
   "id": "910fa3a0-497f-42e6-b476-ea137b3fbbc4",
   "metadata": {},
   "outputs": [],
   "source": [
    "kMpc = testing_data[0]['k_Mpc']\n",
    "kMpc = kMpc[(kMpc>0) & (kMpc<4)]"
   ]
  },
  {
   "cell_type": "code",
   "execution_count": 25,
   "id": "cb1f4018-0ffb-4126-bf49-0d92512266f3",
   "metadata": {},
   "outputs": [
    {
     "data": {
      "image/png": "[encoded data removed]",
      "text/plain": [
       "<Figure size 640x480 with 1 Axes>"
      ]
     },
     "metadata": {},
     "output_type": "display_data"
    }
   ],
   "source": [
    "# test emulator by making simple plot\n",
    "p1d = emulator_nn.emulate_p1d_Mpc(testing_data[0],kMpc)\n",
    "plt.plot(kMpc,p1d)\n",
    "plt.xlabel(r'$k$ [1/Mpc]', fontsize = 14)\n",
    "plt.ylabel(r'P1D', fontsize = 14)\n",
    "\n",
    "plt.xscale('log')\n",
    "plt.yscale('log')"
   ]
  },
  {
   "cell_type": "code",
   "execution_count": null,
   "id": "b4b121c4-b791-4ba1-8c1f-82601ee7c945",
   "metadata": {},
   "outputs": [],
   "source": []
  },
  {
   "cell_type": "code",
   "execution_count": null,
   "id": "27401f60-f7ff-43d6-80ee-86e42396e776",
   "metadata": {},
   "outputs": [],
   "source": []
  }
 ],
 "metadata": {
  "kernelspec": {
   "display_name": "DESIenv6",
   "language": "python",
   "name": "desienv6"
  },
  "language_info": {
   "codemirror_mode": {
    "name": "ipython",
    "version": 3
   },
   "file_extension": ".py",
   "mimetype": "text/x-python",
   "name": "python",
   "nbconvert_exporter": "python",
   "pygments_lexer": "ipython3",
   "version": "3.10.9"
  }
 },
 "nbformat": 4,
 "nbformat_minor": 5
}
